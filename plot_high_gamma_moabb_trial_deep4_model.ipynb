{
  "nbformat": 4,
  "nbformat_minor": 0,
  "metadata": {
    "colab": {
      "name": "plot_high_gamma_moabb_trial_deep4_model.ipynb",
      "private_outputs": true,
      "provenance": [],
      "toc_visible": true,
      "mount_file_id": "171yWHWOqOh7mtwSTyjaSs0NL97svwPV4",
      "authorship_tag": "ABX9TyOpTYjeYfev8UHQbve+kIUU",
      "include_colab_link": true
    },
    "kernelspec": {
      "name": "python3",
      "display_name": "Python 3"
    },
    "language_info": {
      "name": "python"
    },
    "accelerator": "GPU"
  },
  "cells": [
    {
      "cell_type": "markdown",
      "metadata": {
        "id": "view-in-github",
        "colab_type": "text"
      },
      "source": [
        "<a href=\"https://colab.research.google.com/github/shivar2/MotorImagery-Classification/blob/simple-classification/plot_high_gamma_moabb_trial_deep4_model.ipynb\" target=\"_parent\"><img src=\"https://colab.research.google.com/assets/colab-badge.svg\" alt=\"Open In Colab\"/></a>"
      ]
    },
    {
      "cell_type": "markdown",
      "metadata": {
        "id": "G1U4DvStLHAL"
      },
      "source": [
        "## connect to drive"
      ]
    },
    {
      "cell_type": "code",
      "metadata": {
        "id": "EvJqwnCgTmlO"
      },
      "source": [
        "import os, sys\n",
        "os.chdir('/content/drive/MyDrive/Colab Notebooks')"
      ],
      "execution_count": null,
      "outputs": []
    },
    {
      "cell_type": "markdown",
      "metadata": {
        "id": "m1bkIWPqLJff"
      },
      "source": [
        "# install moabb & braindecode"
      ]
    },
    {
      "cell_type": "code",
      "metadata": {
        "id": "0mLQ5sICT9e1"
      },
      "source": [
        "pip install moabb"
      ],
      "execution_count": null,
      "outputs": []
    },
    {
      "cell_type": "code",
      "metadata": {
        "id": "L69nj9XVUHCN"
      },
      "source": [
        "pip install braindecode"
      ],
      "execution_count": null,
      "outputs": []
    },
    {
      "cell_type": "code",
      "metadata": {
        "id": "woIRNt5zUPGc"
      },
      "source": [
        "pip install -U https://api.github.com/repos/shivar2/braindecode/zipball/master"
      ],
      "execution_count": null,
      "outputs": []
    },
    {
      "cell_type": "markdown",
      "metadata": {
        "id": "XJlldagHLWpS"
      },
      "source": [
        "# plot_high_gamma_moabb_trial_deep4_model"
      ]
    },
    {
      "cell_type": "code",
      "metadata": {
        "id": "C-0fkvwyL52f"
      },
      "source": [
        "from braindecode.datasets.moabb import MOABBDataset\n",
        "import mne"
      ],
      "execution_count": null,
      "outputs": []
    },
    {
      "cell_type": "markdown",
      "metadata": {
        "id": "auhBHmxOMMbj"
      },
      "source": [
        "**load data**\n"
      ]
    },
    {
      "cell_type": "code",
      "metadata": {
        "id": "kMkNDDijMFYL"
      },
      "source": [
        "subject_id = 1\n",
        "dataset = MOABBDataset(dataset_name=\"Schirrmeister2017\", subject_ids=[subject_id], path=\"mne_data\")\n"
      ],
      "execution_count": null,
      "outputs": []
    }
  ]
}