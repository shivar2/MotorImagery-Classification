{
  "nbformat": 4,
  "nbformat_minor": 0,
  "metadata": {
    "colab": {
      "name": "CNN_classification.ipynb",
      "provenance": [],
      "collapsed_sections": [],
      "machine_shape": "hm"
    },
    "kernelspec": {
      "name": "python3",
      "display_name": "Python 3"
    },
    "accelerator": "TPU"
  },
  "cells": [
    {
      "cell_type": "markdown",
      "metadata": {
        "id": "EOO1zMFMOl5O",
        "colab_type": "text"
      },
      "source": [
        "##**CNN classification on raw time series data**\n",
        "\n",
        "This notebook serves to classify the EEG data into tasks using the Shallow CNN. Three data augmentations are used:\n",
        "\n",
        "*   Subsampling\n",
        "*   Random Cropping\n",
        "*   Sequential Cropping\n",
        "\n",
        "The CNN is trained and evaluated on all of these different data augmentation methods. Data is sometimes split by person for analysis purposes. Due to RAM constraints, we restart the runtime after testing on a specific data augmentation method. To run a specific data augmentation method, only specific cells are required to run and will be specified.\n",
        "\n"
      ]
    },
    {
      "cell_type": "markdown",
      "metadata": {
        "id": "Fbtrr0n1hzIz",
        "colab_type": "text"
      },
      "source": [
        "Mount the google drive to create a valid path the dataset"
      ]
    },
    {
      "cell_type": "code",
      "metadata": {
        "id": "xUX-5rzYhil8",
        "colab_type": "code",
        "outputId": "f9d041f3-adcd-4c01-ca6a-69fcb1c3c464",
        "colab": {
          "base_uri": "https://localhost:8080/",
          "height": 129
        }
      },
      "source": [
        "from google.colab import drive\n",
        "drive.mount('/content/drive',force_remount=True)"
      ],
      "execution_count": 1,
      "outputs": [
        {
          "output_type": "stream",
          "text": [
            "Go to this URL in a browser: https://accounts.google.com/o/oauth2/auth?client_id=947318989803-6bn6qk8qdgf4n4g3pfee6491hc0brc4i.apps.googleusercontent.com&redirect_uri=urn%3aietf%3awg%3aoauth%3a2.0%3aoob&response_type=code&scope=email%20https%3a%2f%2fwww.googleapis.com%2fauth%2fdocs.test%20https%3a%2f%2fwww.googleapis.com%2fauth%2fdrive%20https%3a%2f%2fwww.googleapis.com%2fauth%2fdrive.photos.readonly%20https%3a%2f%2fwww.googleapis.com%2fauth%2fpeopleapi.readonly\n",
            "\n",
            "Enter your authorization code:\n",
            "··········\n",
            "Mounted at /content/drive\n"
          ],
          "name": "stdout"
        }
      ]
    },
    {
      "cell_type": "markdown",
      "metadata": {
        "id": "J3M6cQMxo135",
        "colab_type": "text"
      },
      "source": [
        "Load in BCI dataset"
      ]
    },
    {
      "cell_type": "code",
      "metadata": {
        "id": "HHz5sjkWzkUi",
        "colab_type": "code",
        "outputId": "ca78d2e2-7d43-42b0-a66b-125fbc54401c",
        "colab": {
          "base_uri": "https://localhost:8080/",
          "height": 127
        }
      },
      "source": [
        "# load data\n",
        "import os\n",
        "import numpy as np\n",
        "import random\n",
        "\n",
        "try:  \n",
        "  project_fname = '/content/drive/My Drive/c247/'\n",
        "  os.chdir(project_fname)\n",
        "  project_data_file = os.path.join(project_fname,'project_data/')\n",
        "except FileNotFoundError: \n",
        "  project_fname = '/content/drive/My Drive/Colab Notebooks/c247'\n",
        "  os.chdir(project_fname)\n",
        "  project_data_file = os.path.join(project_fname,'project_data/')\n",
        "\n",
        "from load_data import * \n",
        "from data_preprocessing import * \n",
        "import matplotlib.pyplot as plt\n",
        "from datetime import datetime\n",
        "from sklearn import preprocessing\n",
        "\n",
        "X_test, y_test, person_train_valid, X_train_valid, y_train_valid, person_test = load_data(dir_path = project_data_file)\n",
        "\n",
        "# normalize the data\n",
        "N_trials,N_eeg,N_bins,_ = X_train_valid.shape\n",
        "#X_train_valid = np.reshape(preprocessing.scale(np.reshape(X_train_valid,(N_trials*N_eeg,N_bins)),axis=1),(N_trials,N_eeg,N_bins,1))\n",
        "N_trials,N_eeg,N_bins,_ = X_test.shape\n",
        "#X_test = np.reshape(preprocessing.scale(np.reshape(X_test,(N_trials*N_eeg,N_bins)),axis=1),(N_trials,N_eeg,N_bins,1))\n",
        "\n",
        "num_test_samples = X_test.shape[0]\n",
        "print ('Training/Valid data shape: {}'.format(X_train_valid.shape))\n",
        "print ('Test data shape: {}'.format(X_test.shape))\n",
        "print ('Training/Valid target shape: {}'.format(y_train_valid.shape))\n",
        "print ('Test target shape: {}'.format(y_test.shape))\n",
        "print ('Person train/valid shape: {}'.format(person_train_valid.shape))\n",
        "print ('Person test shape: {}'.format(person_test.shape))"
      ],
      "execution_count": 2,
      "outputs": [
        {
          "output_type": "stream",
          "text": [
            "Training/Valid data shape: (2115, 22, 1000, 1)\n",
            "Test data shape: (443, 22, 1000, 1)\n",
            "Training/Valid target shape: (2115,)\n",
            "Test target shape: (443,)\n",
            "Person train/valid shape: (2115, 1)\n",
            "Person test shape: (443, 1)\n"
          ],
          "name": "stdout"
        }
      ]
    },
    {
      "cell_type": "markdown",
      "metadata": {
        "id": "tqo8fHQHpFSu",
        "colab_type": "text"
      },
      "source": [
        "Subsample data (data augmentation cell; just for experimenting with subsampled data)"
      ]
    },
    {
      "cell_type": "code",
      "metadata": {
        "id": "D0NWHIl3vj3P",
        "colab_type": "code",
        "colab": {}
      },
      "source": [
        "sample_every = 4\n",
        "num_samples_per_trial = sample_every\n",
        "X_train_valid_subsample, y_train_valid_subsample = shuffle_data(*subsample_data(X_train_valid, y_train_valid,sample_every=sample_every))\n",
        "X_test_subsample, y_test_subsample = subsample_data(X_test, y_test,sample_every=sample_every)"
      ],
      "execution_count": 0,
      "outputs": []
    },
    {
      "cell_type": "markdown",
      "metadata": {
        "id": "zH_DB-jHpUeV",
        "colab_type": "text"
      },
      "source": [
        "Split data by subject (Another optional cell; just for experimenting subject by subject)"
      ]
    },
    {
      "cell_type": "code",
      "metadata": {
        "id": "a-B8C0_1hO4C",
        "colab_type": "code",
        "colab": {}
      },
      "source": [
        "#split into subject\n",
        "#no need to run this cell (free up ram)\n",
        "X_train_valid_person = [X_train_valid[person_train_valid.flatten()==i] for i in range(9)]\n",
        "y_train_valid_person = [y_train_valid[person_train_valid.flatten()==i] for i in range(9)]\n",
        "person_train_valid_person = [person_train_valid[person_train_valid.flatten()==i] for i in range(9)]\n",
        "\n",
        "X_test_person = [X_test[person_test.flatten()==i] for i in range(9)]\n",
        "y_test_person = [y_test[person_test.flatten()==i] for i in range(9)]\n",
        "person_test_person = [person_test[person_test.flatten()==i] for i in range(9)]"
      ],
      "execution_count": 0,
      "outputs": []
    },
    {
      "cell_type": "markdown",
      "metadata": {
        "id": "waRrfNN8pc7C",
        "colab_type": "text"
      },
      "source": [
        "Crop the data with time windows specified by length and stride (another data augmentation cell; proven to greatly increase accuracy)"
      ]
    },
    {
      "cell_type": "code",
      "metadata": {
        "id": "cf6ATcTjvxwX",
        "colab_type": "code",
        "outputId": "e8c33ee1-53e2-45ed-a304-e32c881e9a27",
        "colab": {
          "base_uri": "https://localhost:8080/",
          "height": 127
        }
      },
      "source": [
        "#crop samples to augment data\n",
        "\n",
        "N,eeg,time,_ = X_train_valid.shape\n",
        "sample_len=534\n",
        "stride=50\n",
        "num_crops = 10\n",
        "num_samples_per_trial = int((1000-sample_len)/stride + 1)\n",
        "num_samples = int(N*((1000-sample_len)/stride + 1))\n",
        "X_train_valid_crop, y_train_valid_crop, person_train_valid_crop = crop_data_sequentially(X_train_valid,y_train_valid,person_train_valid,sample_len=sample_len,stride=stride)\n",
        "X_test_crop, y_test_crop, person_test_crop = crop_data_sequentially(X_test,y_test,person_test,sample_len=sample_len,stride=stride)\n",
        "\n",
        "del X_train_valid\n",
        "del X_test\n",
        "#shuffle the data\n",
        "cv_idx=np.arange(X_train_valid_crop.shape[0])\n",
        "np.random.shuffle(cv_idx)\n",
        "X_train_valid_crop=X_train_valid_crop[cv_idx]\n",
        "y_train_valid_crop=y_train_valid_crop[cv_idx]\n",
        "person_train_valid_crop = person_train_valid_crop[cv_idx]\n",
        "\n",
        "print('Training/Valid Cropped data shape: {}'.format(X_train_valid_crop.shape))\n",
        "print('Training/Valid Cropped target shape: {}'.format(y_train_valid_crop.shape))\n",
        "print('Training/Valid Cropped person shape: {}'.format(person_train_valid_crop.shape))\n",
        "print('Test Cropped data shape: {}'.format(X_test_crop.shape))\n",
        "print('Test Cropped target shape: {}'.format(y_test_crop.shape))\n",
        "print('Test Cropped person shape: {}'.format(person_test_crop.shape))\n",
        "\n"
      ],
      "execution_count": 3,
      "outputs": [
        {
          "output_type": "stream",
          "text": [
            "Training/Valid Cropped data shape: (21826, 22, 534, 1)\n",
            "Training/Valid Cropped target shape: (21826,)\n",
            "Training/Valid Cropped person shape: (21826,)\n",
            "Test Cropped data shape: (4571, 22, 534, 1)\n",
            "Test Cropped target shape: (4571,)\n",
            "Test Cropped person shape: (4571,)\n"
          ],
          "name": "stdout"
        }
      ]
    },
    {
      "cell_type": "markdown",
      "metadata": {
        "id": "74eGW7Gfpoo0",
        "colab_type": "text"
      },
      "source": [
        "Split cropped data into subject "
      ]
    },
    {
      "cell_type": "code",
      "metadata": {
        "id": "6WGQx61q2kxF",
        "colab_type": "code",
        "outputId": "a1d9062f-c664-426f-a75b-d2b5087d78e1",
        "colab": {
          "base_uri": "https://localhost:8080/",
          "height": 127
        }
      },
      "source": [
        "#split data in to subjects\n",
        "\n",
        "X_train_valid_crop_person = [X_train_valid_crop[person_train_valid_crop==i] for i in range(9)]\n",
        "y_train_valid_crop_person = [y_train_valid_crop[person_train_valid_crop==i] for i in range(9)]\n",
        "person_train_valid_crop_person = [person_train_valid_crop[person_train_valid_crop==i] for i in range(9)]\n",
        "\n",
        "X_test_crop_person =[X_test_crop[person_test_crop==i] for i in range(9)]\n",
        "y_test_crop_person = [y_test_crop[person_test_crop==i] for i in range(9)]\n",
        "person_test_crop_person = [person_test_crop[person_test_crop==i] for i in range(9)]\n",
        "\n",
        "#free up ram\n",
        "'''\n",
        "del X_train_valid_crop\n",
        "del X_test_crop\n",
        "'''\n",
        "\n",
        "print(X_train_valid_crop_person[0].shape)\n",
        "print(y_train_valid_crop_person[0].shape)\n",
        "print(person_train_valid_crop_person[0].shape)\n",
        "print(X_test_crop_person[0].shape)\n",
        "print(y_test_crop_person[0].shape)\n",
        "print(person_test_crop_person[0].shape)"
      ],
      "execution_count": 4,
      "outputs": [
        {
          "output_type": "stream",
          "text": [
            "(3046, 22, 534, 1)\n",
            "(3046,)\n",
            "(3046,)\n",
            "(641, 22, 534, 1)\n",
            "(641,)\n",
            "(641,)\n"
          ],
          "name": "stdout"
        }
      ]
    },
    {
      "cell_type": "markdown",
      "metadata": {
        "id": "O67th1CGp-UJ",
        "colab_type": "text"
      },
      "source": [
        "Connect to Google TPUs"
      ]
    },
    {
      "cell_type": "code",
      "metadata": {
        "id": "HGIv6ZptiDAd",
        "colab_type": "code",
        "outputId": "f4252032-69bc-458f-db77-f72ae0c93bfe",
        "colab": {
          "base_uri": "https://localhost:8080/",
          "height": 807
        }
      },
      "source": [
        "%tensorflow_version 2.x\n",
        "import tensorflow as tf\n",
        "print(\"Tensorflow version \" + tf.__version__)\n",
        "\n",
        "try:\n",
        "  tpu = tf.distribute.cluster_resolver.TPUClusterResolver()  # TPU detection\n",
        "  print('Running on TPU ', tpu.cluster_spec().as_dict()['worker'])\n",
        "except ValueError:\n",
        "  raise BaseException('ERROR: Not connected to a TPU runtime; please see the previous cell in this notebook for instructions!')\n",
        "\n",
        "tf.config.experimental_connect_to_cluster(tpu)\n",
        "tf.tpu.experimental.initialize_tpu_system(tpu)\n",
        "tpu_strategy = tf.distribute.experimental.TPUStrategy(tpu)"
      ],
      "execution_count": 5,
      "outputs": [
        {
          "output_type": "stream",
          "text": [
            "TensorFlow 2.x selected.\n",
            "Tensorflow version 2.1.0\n",
            "Running on TPU  ['10.8.43.170:8470']\n",
            "INFO:tensorflow:Initializing the TPU system: 10.8.43.170:8470\n"
          ],
          "name": "stdout"
        },
        {
          "output_type": "stream",
          "text": [
            "INFO:tensorflow:Initializing the TPU system: 10.8.43.170:8470\n"
          ],
          "name": "stderr"
        },
        {
          "output_type": "stream",
          "text": [
            "INFO:tensorflow:Clearing out eager caches\n"
          ],
          "name": "stdout"
        },
        {
          "output_type": "stream",
          "text": [
            "INFO:tensorflow:Clearing out eager caches\n"
          ],
          "name": "stderr"
        },
        {
          "output_type": "stream",
          "text": [
            "INFO:tensorflow:Finished initializing TPU system.\n"
          ],
          "name": "stdout"
        },
        {
          "output_type": "stream",
          "text": [
            "INFO:tensorflow:Finished initializing TPU system.\n"
          ],
          "name": "stderr"
        },
        {
          "output_type": "stream",
          "text": [
            "INFO:tensorflow:Found TPU system:\n"
          ],
          "name": "stdout"
        },
        {
          "output_type": "stream",
          "text": [
            "INFO:tensorflow:Found TPU system:\n"
          ],
          "name": "stderr"
        },
        {
          "output_type": "stream",
          "text": [
            "INFO:tensorflow:*** Num TPU Cores: 8\n"
          ],
          "name": "stdout"
        },
        {
          "output_type": "stream",
          "text": [
            "INFO:tensorflow:*** Num TPU Cores: 8\n"
          ],
          "name": "stderr"
        },
        {
          "output_type": "stream",
          "text": [
            "INFO:tensorflow:*** Num TPU Workers: 1\n"
          ],
          "name": "stdout"
        },
        {
          "output_type": "stream",
          "text": [
            "INFO:tensorflow:*** Num TPU Workers: 1\n"
          ],
          "name": "stderr"
        },
        {
          "output_type": "stream",
          "text": [
            "INFO:tensorflow:*** Num TPU Cores Per Worker: 8\n"
          ],
          "name": "stdout"
        },
        {
          "output_type": "stream",
          "text": [
            "INFO:tensorflow:*** Num TPU Cores Per Worker: 8\n"
          ],
          "name": "stderr"
        },
        {
          "output_type": "stream",
          "text": [
            "INFO:tensorflow:*** Available Device: _DeviceAttributes(/job:localhost/replica:0/task:0/device:CPU:0, CPU, 0, 0)\n"
          ],
          "name": "stdout"
        },
        {
          "output_type": "stream",
          "text": [
            "INFO:tensorflow:*** Available Device: _DeviceAttributes(/job:localhost/replica:0/task:0/device:CPU:0, CPU, 0, 0)\n"
          ],
          "name": "stderr"
        },
        {
          "output_type": "stream",
          "text": [
            "INFO:tensorflow:*** Available Device: _DeviceAttributes(/job:localhost/replica:0/task:0/device:XLA_CPU:0, XLA_CPU, 0, 0)\n"
          ],
          "name": "stdout"
        },
        {
          "output_type": "stream",
          "text": [
            "INFO:tensorflow:*** Available Device: _DeviceAttributes(/job:localhost/replica:0/task:0/device:XLA_CPU:0, XLA_CPU, 0, 0)\n"
          ],
          "name": "stderr"
        },
        {
          "output_type": "stream",
          "text": [
            "INFO:tensorflow:*** Available Device: _DeviceAttributes(/job:worker/replica:0/task:0/device:CPU:0, CPU, 0, 0)\n"
          ],
          "name": "stdout"
        },
        {
          "output_type": "stream",
          "text": [
            "INFO:tensorflow:*** Available Device: _DeviceAttributes(/job:worker/replica:0/task:0/device:CPU:0, CPU, 0, 0)\n"
          ],
          "name": "stderr"
        },
        {
          "output_type": "stream",
          "text": [
            "INFO:tensorflow:*** Available Device: _DeviceAttributes(/job:worker/replica:0/task:0/device:TPU:0, TPU, 0, 0)\n"
          ],
          "name": "stdout"
        },
        {
          "output_type": "stream",
          "text": [
            "INFO:tensorflow:*** Available Device: _DeviceAttributes(/job:worker/replica:0/task:0/device:TPU:0, TPU, 0, 0)\n"
          ],
          "name": "stderr"
        },
        {
          "output_type": "stream",
          "text": [
            "INFO:tensorflow:*** Available Device: _DeviceAttributes(/job:worker/replica:0/task:0/device:TPU:1, TPU, 0, 0)\n"
          ],
          "name": "stdout"
        },
        {
          "output_type": "stream",
          "text": [
            "INFO:tensorflow:*** Available Device: _DeviceAttributes(/job:worker/replica:0/task:0/device:TPU:1, TPU, 0, 0)\n"
          ],
          "name": "stderr"
        },
        {
          "output_type": "stream",
          "text": [
            "INFO:tensorflow:*** Available Device: _DeviceAttributes(/job:worker/replica:0/task:0/device:TPU:2, TPU, 0, 0)\n"
          ],
          "name": "stdout"
        },
        {
          "output_type": "stream",
          "text": [
            "INFO:tensorflow:*** Available Device: _DeviceAttributes(/job:worker/replica:0/task:0/device:TPU:2, TPU, 0, 0)\n"
          ],
          "name": "stderr"
        },
        {
          "output_type": "stream",
          "text": [
            "INFO:tensorflow:*** Available Device: _DeviceAttributes(/job:worker/replica:0/task:0/device:TPU:3, TPU, 0, 0)\n"
          ],
          "name": "stdout"
        },
        {
          "output_type": "stream",
          "text": [
            "INFO:tensorflow:*** Available Device: _DeviceAttributes(/job:worker/replica:0/task:0/device:TPU:3, TPU, 0, 0)\n"
          ],
          "name": "stderr"
        },
        {
          "output_type": "stream",
          "text": [
            "INFO:tensorflow:*** Available Device: _DeviceAttributes(/job:worker/replica:0/task:0/device:TPU:4, TPU, 0, 0)\n"
          ],
          "name": "stdout"
        },
        {
          "output_type": "stream",
          "text": [
            "INFO:tensorflow:*** Available Device: _DeviceAttributes(/job:worker/replica:0/task:0/device:TPU:4, TPU, 0, 0)\n"
          ],
          "name": "stderr"
        },
        {
          "output_type": "stream",
          "text": [
            "INFO:tensorflow:*** Available Device: _DeviceAttributes(/job:worker/replica:0/task:0/device:TPU:5, TPU, 0, 0)\n"
          ],
          "name": "stdout"
        },
        {
          "output_type": "stream",
          "text": [
            "INFO:tensorflow:*** Available Device: _DeviceAttributes(/job:worker/replica:0/task:0/device:TPU:5, TPU, 0, 0)\n"
          ],
          "name": "stderr"
        },
        {
          "output_type": "stream",
          "text": [
            "INFO:tensorflow:*** Available Device: _DeviceAttributes(/job:worker/replica:0/task:0/device:TPU:6, TPU, 0, 0)\n"
          ],
          "name": "stdout"
        },
        {
          "output_type": "stream",
          "text": [
            "INFO:tensorflow:*** Available Device: _DeviceAttributes(/job:worker/replica:0/task:0/device:TPU:6, TPU, 0, 0)\n"
          ],
          "name": "stderr"
        },
        {
          "output_type": "stream",
          "text": [
            "INFO:tensorflow:*** Available Device: _DeviceAttributes(/job:worker/replica:0/task:0/device:TPU:7, TPU, 0, 0)\n"
          ],
          "name": "stdout"
        },
        {
          "output_type": "stream",
          "text": [
            "INFO:tensorflow:*** Available Device: _DeviceAttributes(/job:worker/replica:0/task:0/device:TPU:7, TPU, 0, 0)\n"
          ],
          "name": "stderr"
        },
        {
          "output_type": "stream",
          "text": [
            "INFO:tensorflow:*** Available Device: _DeviceAttributes(/job:worker/replica:0/task:0/device:TPU_SYSTEM:0, TPU_SYSTEM, 0, 0)\n"
          ],
          "name": "stdout"
        },
        {
          "output_type": "stream",
          "text": [
            "INFO:tensorflow:*** Available Device: _DeviceAttributes(/job:worker/replica:0/task:0/device:TPU_SYSTEM:0, TPU_SYSTEM, 0, 0)\n"
          ],
          "name": "stderr"
        },
        {
          "output_type": "stream",
          "text": [
            "INFO:tensorflow:*** Available Device: _DeviceAttributes(/job:worker/replica:0/task:0/device:XLA_CPU:0, XLA_CPU, 0, 0)\n"
          ],
          "name": "stdout"
        },
        {
          "output_type": "stream",
          "text": [
            "INFO:tensorflow:*** Available Device: _DeviceAttributes(/job:worker/replica:0/task:0/device:XLA_CPU:0, XLA_CPU, 0, 0)\n"
          ],
          "name": "stderr"
        }
      ]
    },
    {
      "cell_type": "code",
      "metadata": {
        "id": "tkIWFLsnGNfS",
        "colab_type": "code",
        "colab": {}
      },
      "source": [
        "#import all needed modules\n",
        "from tensorflow.keras.models import Sequential,load_model\n",
        "from tensorflow.keras.layers import Input,Dense,Conv2D,ReLU,ELU,\\\n",
        "  Activation,Flatten,AveragePooling2D,Softmax,BatchNormalization,MaxPooling2D,\\\n",
        "  Dropout\n",
        "from tensorflow.keras.optimizers import Adam, SGD\n",
        "from tensorflow.keras.losses import categorical_crossentropy\n",
        "from tensorflow.keras.utils import to_categorical\n",
        "from tensorflow.keras import regularizers\n",
        "from tensorflow.keras.callbacks import EarlyStopping, ModelCheckpoint,\\\n",
        "  ReduceLROnPlateau\n",
        "from tensorflow.keras.utils import plot_model\n",
        "from tensorflow.keras import backend as K\n",
        "from sklearn.metrics import confusion_matrix, ConfusionMatrixDisplay\n",
        "import matplotlib.pyplot as plt\n",
        "plt.rcParams.update({'font.size': 12})\n",
        "from datetime import datetime\n"
      ],
      "execution_count": 0,
      "outputs": []
    },
    {
      "cell_type": "markdown",
      "metadata": {
        "id": "gcO36a7iqCIM",
        "colab_type": "text"
      },
      "source": [
        "Function used to specify Shallow CNN layers"
      ]
    },
    {
      "cell_type": "code",
      "metadata": {
        "id": "yFqxS0I_9Jtf",
        "colab_type": "code",
        "colab": {}
      },
      "source": [
        "def create_model():\n",
        "  model = Sequential()\n",
        "  model.add(Conv2D(filters=40,\n",
        "                   kernel_size=(1,25),\n",
        "                   data_format='channels_last',\n",
        "                   kernel_regularizer=regularizers.l2(0.001),\n",
        "                   input_shape=(22,534,1))) #(22,510,40)\n",
        "  model.add(BatchNormalization(axis=-1))\n",
        "  model.add(Dropout(rate=0.5))\n",
        "  model.add(Conv2D(filters=40,\n",
        "                  data_format='channels_last',\n",
        "                  kernel_size=(22,1),\n",
        "                  kernel_regularizer=regularizers.l2(0.001))) #(1,510,40)\n",
        "  model.add(BatchNormalization(axis=-1))\n",
        "  model.add(Activation(K.square,name='Square'))\n",
        "  model.add(AveragePooling2D(pool_size=(1,75),strides=(1,15)))#(1,30,40)\n",
        "  model.add(Activation(K.log,name='Log'))\n",
        "  model.add(Flatten())\n",
        "  model.add(Dense(100,\n",
        "                  kernel_regularizer=regularizers.l2(0.001),\n",
        "                  activation='relu'))\n",
        "  model.add(Dense(num_classes,\n",
        "                  activation='softmax'))\n",
        "  return model\n",
        "\n",
        "#initialize hyperparameters\n",
        "rand_seed = int(datetime.strftime(datetime.now(),\"%Y%m%d%H%M%S\"))\n",
        "batch_size=32\n",
        "num_folds=5\n",
        "num_classes = 4"
      ],
      "execution_count": 0,
      "outputs": []
    },
    {
      "cell_type": "markdown",
      "metadata": {
        "id": "WFR9V87BqJ8i",
        "colab_type": "text"
      },
      "source": [
        "Cell to train on data split by person. Trains one model a person"
      ]
    },
    {
      "cell_type": "code",
      "metadata": {
        "id": "pKj6jegZ1WHN",
        "colab_type": "code",
        "colab": {}
      },
      "source": [
        "#create model\n",
        "\n",
        "\n",
        "#lr = 9e-4\n",
        "\n",
        "rates = [4e-3,5e-3,5e-3,2e-3,7e-3,9e-4,8e-3,7e-4,1e-3]\n",
        "#Person Acc [0.72, 0.64, 0.78, 0.6, 0.48936170212765956, 0.46938775510204084, 0.66, 0.72, 0.7021276595744681]\n",
        "#Person Acc [0.7, 0.54, 0.74, 0.62, 0.44680851063829785, 0.3673469387755102, 0.62, 0.62, 0.6808510638297872]\n",
        "#Person Acc [0.78, 0.6, 0.74, 0.6, 0.6382978723404256, 0.4489795918367347, 0.74, 0.64, 0.6808510638297872]\n",
        "#person acc [0.72, 0.56, 0.78, 0.6, 0.5319148936170213, 0.4489795918367347, 0.72, 0.72, 0.6808510638297872]\n",
        "#Person Acc [0.74, 0.3, 0.76, 0.6, 0.46808510638297873, 0.46938775510204084, 0.7, 0.58, 0.6808510638297872]\n",
        "#Person Acc [0.66, 0.6, 0.68, 0.62, 0.6170212765957447, 0.46938775510204084, 0.6, 0.78, 0.6595744680851063] rates = [5e-3,7e-3,5e-3,2e-3,7e-3,5e-4,8e-3,7e-4,1e-3]\n",
        "#Person Acc [0.66, 0.56, 0.88, 0.58, 0.2978723404255319, 0.5306122448979592, 0.84, 0.78, 0.574468085106383] rates = [5e-3,7e-3,5e-3,2e-3,7e-3,6e-4,8e-3,7e-4,1e-3]\n",
        "#Person Acc [0.5, 0.28, 0.86, 0.4, 0.723404255319149, 0.4489795918367347, 0.58, 0.78, 0.7021276595744681]   rates = [5e-3,7e-3,5e-3,2e-3,7e-3,6e-4,8e-3,7e-4,1e-3] changed stride to 25\n",
        "#Person Acc [0.74, 0.54, 0.76, 0.64, 0.6170212765957447, 0.42857142857142855, 0.82, 0.78, 0.6808510638297872] rates = [4e-3,8e-3,5e-3,2e-3,7e-3,7e-4,8e-3,7e-4,1e-3]\n",
        "# Person Acc [0.8, 0.4, 0.74, 0.68, 0.6808510638297872, 0.46938775510204084, 0.62, 0.64, 0.6808510638297872] rates = [4e-3,8e-3,5e-3,2e-3,7e-3,7e-4,8e-3,7e-4,1e-3] initialzation to he normal\n",
        "#Person Acc [0.68, 0.4, 0.76, 0.66, 0.6595744680851063, 0.4489795918367347, 0.78, 0.78, 0.6382978723404256] rates = [4e-3,9e-3,5e-3,2e-3,7e-3,8e-4,8e-3,7e-4,1e-3]\n",
        "#[0.78,0.6,0.88,0.68,0.72,0.53,0.84,0.78,0.70]\n",
        "#current avg of best test acc: 0.72\n",
        "try:\n",
        "  del model\n",
        "  K.clear_session()\n",
        "except:\n",
        "  pass\n",
        "print('BATCH SIZE: {}'.format(batch_size))\n",
        "models = []\n",
        "person_accuracies = []\n",
        "avg_test_acc = np.zeros(9)\n",
        "lr_plateau = ReduceLROnPlateau(patience=4)\n",
        "early_stopper = EarlyStopping(patience=10)\n",
        "\n",
        "for person in range(9):\n",
        "\n",
        "  print('PERSON: {}'.format(person))\n",
        "  print('LEARNING RATE: {}'.format(rates[person]))\n",
        "\n",
        "  models.append(create_model())\n",
        "  optimizer = Adam(lr=rates[person])\n",
        "  \n",
        "  \n",
        "  \n",
        "  #optimizer = SGD(lr=lr, momentum=0.9,decay=1e-6)\n",
        "  models[person].compile(loss=categorical_crossentropy,optimizer=optimizer,metrics=['accuracy'])\n",
        "  #train model\n",
        "  \n",
        "  history = models[person].fit(x=X_train_valid_crop_person[person], y=to_categorical(y_train_valid_crop_person[person]), \n",
        "                      batch_size=batch_size, epochs=30, \n",
        "                      validation_split=1/num_folds,\n",
        "                      callbacks=[early_stopper, lr_plateau])\n",
        "\n",
        "  # Plot training & validation accuracy values\n",
        "  plt.plot(history.history['accuracy'])\n",
        "  plt.plot(history.history['val_accuracy'])\n",
        "  plt.title('Model accuracy')\n",
        "  plt.ylabel('Accuracy')\n",
        "  plt.xlabel('Epoch')\n",
        "  plt.legend(['Train', 'Val'], loc='upper left')\n",
        "  plt.show()\n",
        "\n",
        "  # Plot training & validation loss values\n",
        "  plt.plot(history.history['loss'])\n",
        "  plt.plot(history.history['val_loss'])\n",
        "  plt.title('Model loss')\n",
        "  plt.ylabel('Loss')\n",
        "  plt.xlabel('Epoch')\n",
        "  plt.legend(['Train', 'Val'], loc='upper left')\n",
        "  plt.show()\n",
        "\n",
        "  correct = 0\n",
        "  N,_,_,_ = X_test_crop_person[person].shape\n",
        "  scores = np.zeros(num_classes)\n",
        "  test_data = X_test_crop_person[person]\n",
        "  test_label = y_test_crop_person[person]\n",
        "  for i in range(int(N/num_samples_per_trial)):\n",
        "    strt_idx = i*num_samples_per_trial\n",
        "    test_batch = test_data[strt_idx:strt_idx+num_samples_per_trial]\n",
        "    scores = np.mean(models[person].predict_on_batch(x=test_batch),axis=0)\n",
        "    pred = np.argmax(scores)\n",
        "    if pred == test_label[strt_idx]:\n",
        "          correct += 1\n",
        "  test_acc = correct/(N/num_samples_per_trial)\n",
        "  print('Test accuracy: {}'.format(test_acc))\n",
        "  person_accuracies.append(test_acc)\n",
        "\n",
        "print('Person Acc {}'.format(person_accuracies))\n",
        "print('Test Avg Mean Acc :{}'.format(np.mean(person_accuracies)))"
      ],
      "execution_count": 0,
      "outputs": []
    },
    {
      "cell_type": "markdown",
      "metadata": {
        "id": "BVW-5KdcqN_B",
        "colab_type": "text"
      },
      "source": [
        "Tests each model on the corresponding test set only for specific subject"
      ]
    },
    {
      "cell_type": "code",
      "metadata": {
        "id": "UhduqAUwIZC6",
        "colab_type": "code",
        "colab": {}
      },
      "source": [
        "#one model per person\n",
        "person_accuracies = []\n",
        "avg_test_acc = np.zeros(9)\n",
        "\n",
        "for person in range(9):\n",
        "  correct = 0\n",
        "  N,_,_,_ = X_test_crop_person[person].shape\n",
        "  scores = np.zeros(num_classes)\n",
        "  test_data = X_test_crop_person[person]\n",
        "  test_label = y_test_crop_person[person]\n",
        "\n",
        "  for i in range(int(N/num_samples_per_trial)):\n",
        "    strt_idx = i*num_samples_per_trial\n",
        "    test_batch = test_data[strt_idx:strt_idx+num_samples_per_trial]\n",
        "    scores = np.mean(model.predict_on_batch(x=test_batch),axis=0)\n",
        "    pred = np.argmax(scores)\n",
        "    if pred == test_label[strt_idx]:\n",
        "          correct += 1\n",
        "  test_acc = correct/(N/num_samples_per_trial)\n",
        "  print('Test accuracy: {}'.format(test_acc))\n",
        "  person_accuracies.append(test_acc)\n",
        "\n",
        "print('Person Acc {}'.format(person_accuracies))\n",
        "print('Test Avg Mean Acc :{}'.format(np.mean(person_accuracies)))"
      ],
      "execution_count": 0,
      "outputs": []
    },
    {
      "cell_type": "markdown",
      "metadata": {
        "id": "4U_5s2YTqRIn",
        "colab_type": "text"
      },
      "source": [
        "Averages all model confidence outputs for entire test set. Does not perform well."
      ]
    },
    {
      "cell_type": "code",
      "metadata": {
        "id": "qjm3Sq4oIZXq",
        "colab_type": "code",
        "colab": {}
      },
      "source": [
        "#model ensembling: train multiple models and average their predictions on entire test set\n",
        "#test_avg_ensembling  = 0.42 when each model trained to one person\n",
        "#try training multiple modesl on entire dataset and then ensembling together\n",
        "avg_test_ensemble = []\n",
        "correct=0\n",
        "test_data=X_test_crop\n",
        "test_label=y_test_crop\n",
        "\n",
        "for i in range(3):\n",
        "  strt_idx = i*num_samples_per_trial\n",
        "  scores = np.zeros((num_classes))\n",
        "  test_batch = test_data[strt_idx:strt_idx+num_samples_per_trial]\n",
        "  for person in range(9):\n",
        "    model_ensemble = models[person]\n",
        "    score=np.zeros(4)\n",
        "    score += np.mean(model_ensemble.predict_on_batch(x=test_batch),axis=0)\n",
        "    scores+=score\n",
        "    print(score)\n",
        "  pred = np.argmax(scores)\n",
        "  if pred == test_label[strt_idx]:\n",
        "    correct += 1\n",
        "\n",
        "print('Test_acc_avg_ensemble: {}'.format(correct/(N/num_samples_per_trial)))"
      ],
      "execution_count": 0,
      "outputs": []
    },
    {
      "cell_type": "markdown",
      "metadata": {
        "id": "y6QwGUWqqcL6",
        "colab_type": "text"
      },
      "source": [
        "Cell to train on cropped data (not split by subject)"
      ]
    },
    {
      "cell_type": "code",
      "metadata": {
        "id": "8OKJojqBdhRF",
        "colab_type": "code",
        "colab": {}
      },
      "source": [
        "#reset model variable to train another one\n",
        "try:\n",
        "  del model\n",
        "  K.clear_session()\n",
        "except:\n",
        "  pass\n",
        "  \n",
        "model = create_model()\n",
        "optimizer = Adam(lr=2e-3)\n",
        "\n",
        "model.compile(loss=categorical_crossentropy,optimizer=optimizer,metrics=['accuracy'])\n",
        "plot_model(model,'cnn_baseline.png',show_shapes=True)"
      ],
      "execution_count": 0,
      "outputs": []
    },
    {
      "cell_type": "markdown",
      "metadata": {
        "id": "zfjZXWakQXxz",
        "colab_type": "text"
      },
      "source": [
        "Trains Shallow CNN on entire training cropped set. Utilizes ReduceLRonPlateau and EarlyStopping callbacks to improve performance."
      ]
    },
    {
      "cell_type": "code",
      "metadata": {
        "id": "30MZNbtl1V-c",
        "colab_type": "code",
        "colab": {}
      },
      "source": [
        "#introduced l1 regularization to spatial convolution lr=1e-3\n",
        "#Test acc per person: [0.62       0.34       0.78       0.46       0.46808511 0.46938776 0.74       0.8        0.74468085] Avg test acc: 0.6024615236165389\n",
        "#raise lr to 2e-3 set ReduceLROnPlateau patience to 2\n",
        "#Test acc per person: [0.58       0.46       0.82       0.58       0.46808511 0.3877551 0.66       0.72       0.63829787] Avg test acc: 0.59045978675158\n",
        "#removed l1 regularization\n",
        "#Test acc per person: [0.6        0.48       0.82       0.6        0.40425532 0.53061224 0.76       0.84       0.65957447] Avg test acc: 0.6327157813480002\n",
        "#Adam lr=9e-4 l2 reg=0.01\n",
        "#Test acc per person: [0.64       0.42       0.72       0.54       0.4893617  0.46938776 0.64       0.7        0.74468085] Avg test acc: 0.5959367009215034\n",
        "#changed sample len to 534 to perfectly mimic paper changed lr plateau patience to 3\n",
        "#Test acc per person: [0.71762871 0.44       0.88       0.54       0.40425532 0.51020408 0.56       0.68       0.65957447]Avg test acc: 0.599073619334989\n",
        "#added relu layer in between conv layers Test acc per person: [0.65522621 0.34       0.66       0.52       0.5106383  0.36734694 0.52       0.7        0.57446809] Avg test acc: 0.5386310589780661\n",
        "#removed relu added dense layer Test acc per person: [0.74882995 0.32       0.7        0.54       0.42553191 0.42857143 0.56       0.74       0.72340426]Avg test acc: 0.5762597279980359\n",
        "#used sgd at lr=1e-2 Test acc per person: [0.73322933 0.24       0.76       0.48       0.4893617  0.40816327 0.68       0.66       0.68085106] Avg test acc: 0.5701783733818595\n",
        "#switched back to adam removed dense layer and set lr=3e-3 Test acc per person: [0.74882995 0.38       0.72       0.52       0.38297872 0.44897959 0.56       0.62       0.70212766] Avg test acc: 0.5647684364459541\n",
        "#lecun_normal initialization Test acc per person: [0.74882995 0.38       0.72       0.52       0.38297872 0.44897959 0.56       0.62       0.70212766] Avg test acc: 0.5647684364459541\n",
        "#went for 80 epochs Test acc per person: [0.81123245 0.46       0.8        0.62       0.4893617  0.51020408 0.7        0.78       0.72340426] Avg test acc: 0.6549113875974927\n",
        "#changed l2 reg to 0.001 added dense layer Test acc per person: [0.73322933 0.68       0.84       0.58       0.4893617  0.53061224 0.74       0.78       0.76595745] Avg test acc: 0.6821289692230329\n",
        "#changed relu in dense layer to elu Test acc per person: [0.71762871 0.46       0.9        0.5        0.36170213 0.44897959 0.76       0.84       0.78723404] Avg test acc: 0.6417271630219674\n",
        "#changed back to relu and added batch norm layer after dense Test acc per person: [0.74882995 0.52       0.82       0.62       0.53191489 0.53061224 0.82       0.74       0.76595745] Avg test acc: 0.6774793931690688\n",
        "#removed added batch norm added temporal conv layer (took too long to train so colab just stopped)\n",
        "#changed batch size to 64 Test acc per person: [0.71762871 0.52       0.78       0.58       0.5106383  0.44897959 0.74       0.8        0.80851064] Avg test acc: 0.6561952481283504\n",
        "#change initialization to lecun normal Test acc per person: [0.74882995 0.5        0.82       0.56       0.53191489 0.48979592  0.76       0.86       0.80851064] Avg test acc: 0.6754501559422632\n",
        "#added relu after first conv layer Test acc per person: [0.68642746 0.44       0.78       0.68       0.4893617  0.48979592 0.64       0.72       0.68085106] Avg test acc: 0.6229373490470087 BUT 72% VAL ACCURACY\n",
        "#train on uncropped data Test acc per person: [0.6        0.42       0.74       0.62       0.72340426 0.44897959 0.6        0.64       0.59574468] Avg test acc: 0.5986809475563274\n",
        "#removed relu at first dense layer Test acc per person: [0.60842434 0.52       0.78       0.54       0.5106383  0.51020408 0.54       0.68       0.63829787] Avg test acc: 0.5919516209798776 | 77% VAL ACCURACY\n",
        "#changed num filters in first conv layer to 45 and reg to 0.001Test acc per person: [0.60842434 0.44       0.7        0.54       0.46808511 0.40816327 0.68       0.62       0.59574468] Avg test acc: 0.5622685988348493\n",
        "#removed relu at first conv layer and set reg to 0.001 Test acc per person: [0.703125   0.52       0.78       0.74       0.46808511 0.51020408 0.66       0.76       0.72340426] Avg test acc: 0.6516464937038645\n",
        "#changed num filters to 35 Test acc per person: [0.66       0.44       0.72       0.58       0.53191489 0.40816327 0.78       0.7        0.63829787] Avg test acc: 0.6064862256959521\n",
        "#change num filters back to 40 and made hidden layer 120 instead of 100 Test acc per person: [0.62       0.6        0.76       0.64       0.53191489 0.48979592 0.64       0.72       0.72340426] Avg test acc: 0.6361238963670576\n",
        "\n",
        "#train model\n",
        "batch_size=128\n",
        "lr_plateau = ReduceLROnPlateau(patience=4)\n",
        "early_stopper = EarlyStopping(patience=20)\n",
        "\n",
        "model_check_fname = os.path.join(project_fname,'model_checkpoints/','ckpt-CNN')\n",
        "time_rn = (datetime.strftime(datetime.now(),\"%H_%M_%S_%d_%m_%Y\"))\n",
        "model_filename = os.path.join(model_check_fname,'model_{}.h5'.format(time_rn))\n",
        "\n",
        "try:\n",
        "  history = model.fit(x=X_train_valid_crop, y=to_categorical(y_train_valid_crop), \n",
        "                      batch_size=batch_size, epochs=200, \n",
        "                      validation_split=1/num_folds,\n",
        "                      callbacks=[lr_plateau,early_stopper])\n",
        "except KeyboardInterrupt:\n",
        "  print('Keyboard Interrupted!')\n",
        "except Exception as e:\n",
        "  print('Unknown error: {}'.format(e))\n",
        "finally:\n",
        "  print('Saving model to {}'.format(model_filename))\n",
        "  model.save(model_filename)\n",
        "\n",
        "\n",
        "\n",
        "# Plot training & validation accuracy values\n",
        "plt.plot(history.history['accuracy'])\n",
        "plt.plot(history.history['val_accuracy'])\n",
        "plt.title('Model accuracy')\n",
        "plt.ylabel('Accuracy')\n",
        "plt.xlabel('Epoch')\n",
        "plt.legend(['Train', 'Val'], loc='upper left')\n",
        "plt.show()\n",
        "\n",
        "# Plot training & validation loss values\n",
        "plt.plot(history.history['loss'])\n",
        "plt.plot(history.history['val_loss'])\n",
        "plt.title('Model loss')\n",
        "plt.ylabel('Loss')\n",
        "plt.xlabel('Epoch')\n",
        "plt.legend(['Train', 'Val'], loc='upper left')\n",
        "plt.show()\n"
      ],
      "execution_count": 0,
      "outputs": []
    },
    {
      "cell_type": "markdown",
      "metadata": {
        "id": "T50zZMbCQnfm",
        "colab_type": "text"
      },
      "source": [
        "Tests model on entire test cropped set. Averages model predictions on all the crops for one trial."
      ]
    },
    {
      "cell_type": "code",
      "metadata": {
        "id": "M3SoiPKVzC9B",
        "colab_type": "code",
        "outputId": "c8f971d3-923b-4ef2-dba3-bcb2959f51cc",
        "colab": {
          "base_uri": "https://localhost:8080/",
          "height": 109
        }
      },
      "source": [
        "#test on cropped data\n",
        "X_test_crop_person = [X_test_crop[person_test_crop.flatten()==i] for i in range(9)]\n",
        "y_test_crop_person = [y_test_crop[person_test_crop.flatten()==i] for i in range(9)]\n",
        "model_check_fname = os.path.join(project_fname,'model_checkpoints/','ckpt-CNN')\n",
        "model = load_model(os.path.join(model_check_fname,'model_18_00_20_10_03_2020_68%.h5'),\n",
        "                   custom_objects={'square':K.square,'log':K.log})\n",
        "\n",
        "person_acc = np.zeros(9)\n",
        "preds = np.empty((0))\n",
        "labels = np.empty((0))\n",
        "\n",
        "for person in range(9):\n",
        "  correct = 0\n",
        "  N,_,_,_ = X_test_crop_person[person].shape\n",
        "  scores = np.zeros(num_classes)\n",
        "  test_data = X_test_crop_person[person]\n",
        "  test_label = y_test_crop_person[person]\n",
        "  for i in range(int(N/num_samples_per_trial)):\n",
        "    strt_idx = i*num_samples_per_trial\n",
        "    test_batch = test_data[strt_idx:strt_idx+num_samples_per_trial]\n",
        "    raw_scores = model.predict_on_batch(x=test_batch)\n",
        "    scores = np.mean(raw_scores,axis=0)\n",
        "    pred = np.argmax(scores)\n",
        "\n",
        "    assert all(y == test_label[strt_idx] for y in test_label[strt_idx:strt_idx+num_samples_per_trial])\n",
        "    preds = np.append(preds,pred)\n",
        "    labels = np.append(labels,test_label[strt_idx])\n",
        "    if pred == test_label[strt_idx]:\n",
        "          correct += 1\n",
        "  test_acc = correct/(i+1)\n",
        "  person_acc[person]=test_acc\n",
        "print('Test acc per person: {}'.format(person_acc))\n",
        "print('Avg test acc: {}'.format(np.mean(person_acc)))"
      ],
      "execution_count": 9,
      "outputs": [
        {
          "output_type": "stream",
          "text": [
            "WARNING:tensorflow:Sequential models without an `input_shape` passed to the first layer cannot reload their optimizer state. As a result, your model isstarting with a freshly initialized optimizer.\n"
          ],
          "name": "stdout"
        },
        {
          "output_type": "stream",
          "text": [
            "WARNING:tensorflow:Sequential models without an `input_shape` passed to the first layer cannot reload their optimizer state. As a result, your model isstarting with a freshly initialized optimizer.\n"
          ],
          "name": "stderr"
        },
        {
          "output_type": "stream",
          "text": [
            "Test acc per person: [0.734375   0.68       0.84       0.58       0.4893617  0.53061224\n",
            " 0.74       0.78       0.76595745]\n",
            "Avg test acc: 0.6822562659815699\n"
          ],
          "name": "stdout"
        }
      ]
    },
    {
      "cell_type": "markdown",
      "metadata": {
        "id": "_vdI3huGQ2kD",
        "colab_type": "text"
      },
      "source": [
        "Create and display the confusion matrix for the model on sequentially cropped data."
      ]
    },
    {
      "cell_type": "code",
      "metadata": {
        "id": "UES2kQRcMuhY",
        "colab_type": "code",
        "outputId": "1c6141bb-672c-45ba-a0d8-60f1625c2396",
        "colab": {
          "base_uri": "https://localhost:8080/",
          "height": 316
        }
      },
      "source": [
        "display_labels = ['Left hand', 'Right hand','Foot','Tongue']\n",
        "confusion = confusion_matrix(y_true=labels, y_pred=preds, normalize='pred')\n",
        "disp = ConfusionMatrixDisplay(confusion_matrix=confusion,\n",
        "                              display_labels=display_labels)\n",
        "disp.plot()\n",
        "disp.ax_.set_xticklabels(display_labels, rotation=12)\n",
        "plt.title('Confusion Matrix of Shallow CNN by task')\n",
        "\n",
        "plt.savefig('CNN_confusionmatrix.png')\n",
        "plt.show()"
      ],
      "execution_count": 13,
      "outputs": [
        {
          "output_type": "display_data",
          "data": {
            "image/png": "[encoded data removed]",
            "text/plain": [
              "<Figure size 432x288 with 2 Axes>"
            ]
          },
          "metadata": {
            "tags": []
          }
        }
      ]
    },
    {
      "cell_type": "markdown",
      "metadata": {
        "id": "fpj35_ITqi-A",
        "colab_type": "text"
      },
      "source": [
        "Test on raw data (uncropped and not subsampled)"
      ]
    },
    {
      "cell_type": "code",
      "metadata": {
        "id": "BPYU5rURISep",
        "colab_type": "code",
        "colab": {}
      },
      "source": [
        "#test on uncropped data\n",
        "person_acc = np.zeros(9)\n",
        "\n",
        "for person in range(9):\n",
        "  correct = 0\n",
        "  N,_,_,_ = X_test_person[person].shape\n",
        "  scores = np.zeros(num_classes)\n",
        "  test_data = X_test_person[person]\n",
        "  test_label = y_test_person[person]\n",
        "  scores = model.predict_on_batch(x=test_data)\n",
        "  pred = np.argmax(scores,axis=1)\n",
        "  correct = np.sum(pred == test_label)\n",
        "  test_acc = correct/(N)\n",
        "  person_acc[person]=test_acc\n",
        "print('Test acc per person: {}'.format(person_acc))\n",
        "print('Avg test acc: {}'.format(np.mean(person_acc)))"
      ],
      "execution_count": 0,
      "outputs": []
    },
    {
      "cell_type": "code",
      "metadata": {
        "id": "r5Zw58XuqvpD",
        "colab_type": "code",
        "colab": {}
      },
      "source": [
        "try:\n",
        "  del model\n",
        "  K.clear_session()\n",
        "except:\n",
        "  pass\n",
        "  \n",
        "model = create_model()\n",
        "optimizer = Adam(lr=9e-4)\n",
        "#optimizer = SGD(lr=1e-3, momentum=0.9,decay=1e-6)\n",
        "model.compile(loss=categorical_crossentropy,optimizer=optimizer,metrics=['accuracy'])"
      ],
      "execution_count": 0,
      "outputs": []
    },
    {
      "cell_type": "markdown",
      "metadata": {
        "id": "rTxuJnBKqvNc",
        "colab_type": "text"
      },
      "source": [
        "Trains on subsampled data (Overfits the subsampled data and does not generalize well to new data since training and validation data are closely correlated)"
      ]
    },
    {
      "cell_type": "code",
      "metadata": {
        "id": "wBIhakXHpKq2",
        "colab_type": "code",
        "colab": {}
      },
      "source": [
        "#train on subsampled data\n",
        "batch_size=32\n",
        "lr_plateau = ReduceLROnPlateau(patience=3)\n",
        "early_stopper = EarlyStopping(patience=8)\n",
        "history = model.fit(x=X_train_valid_subsample, y=to_categorical(y_train_valid_subsample), \n",
        "                    batch_size=batch_size, epochs=10, \n",
        "                    validation_split=1/num_folds,\n",
        "                    callbacks=[early_stopper,lr_plateau])\n",
        "\n",
        "try:\n",
        "  model_check_fname = os.path.join(project_fname, 'model_checkpoints/')\n",
        "  time_rn = (datetime.strftime(datetime.now(),\"%H_%M_%S_%d_%m_%Y\"))\n",
        "  model_filename = os.path.join(model_check_fname,'model{}.h5'.format(time_rn))\n",
        "  print('Saving model weights to {}'.format(model_filename))\n",
        "  model.save_weights(model_check_fname)\n",
        "except Exception as e:\n",
        "  print(e)\n",
        "\n",
        "\n",
        "# Plot training & validation accuracy values\n",
        "plt.plot(history.history['accuracy'])\n",
        "plt.plot(history.history['val_accuracy'])\n",
        "plt.title('Model accuracy')\n",
        "plt.ylabel('Accuracy')\n",
        "plt.xlabel('Epoch')\n",
        "plt.legend(['Train', 'Val'], loc='upper left')\n",
        "plt.show()\n",
        "\n",
        "# Plot training & validation loss values\n",
        "plt.plot(history.history['loss'])\n",
        "plt.plot(history.history['val_loss'])\n",
        "plt.title('Model loss')\n",
        "plt.ylabel('Loss')\n",
        "plt.xlabel('Epoch')\n",
        "plt.legend(['Train', 'Val'], loc='upper left')\n",
        "plt.show()"
      ],
      "execution_count": 0,
      "outputs": []
    },
    {
      "cell_type": "markdown",
      "metadata": {
        "id": "v8QRomJRRB4C",
        "colab_type": "text"
      },
      "source": [
        "Test on subsampled data"
      ]
    },
    {
      "cell_type": "code",
      "metadata": {
        "id": "LtD1bwGGpr6v",
        "colab_type": "code",
        "outputId": "69bc5c26-f12f-4d02-ea41-34516c6acbcf",
        "colab": {
          "base_uri": "https://localhost:8080/",
          "height": 53
        }
      },
      "source": [
        "#subsampling gives good training and validation loss but not good generalization\n",
        "#to test data at all since the training and validation data are closely correlated\n",
        "correct = 0\n",
        "print('num_samples_per_trial: {}'.format(num_samples_per_trial))\n",
        "N,_,_,_ = X_test_subsample.shape\n",
        "scores = np.zeros(num_classes)\n",
        "test_data = X_test_subsample\n",
        "test_label = y_test_subsample\n",
        "for i in range(int(N/num_samples_per_trial)):\n",
        "  strt_idx = i*num_samples_per_trial\n",
        "  test_batch = test_data[strt_idx:strt_idx+num_samples_per_trial]\n",
        "  scores = np.mean(model.predict_on_batch(x=test_batch),axis=0)\n",
        "  pred = np.argmax(scores)\n",
        "  if pred == test_label[strt_idx]:\n",
        "        correct += 1\n",
        "test_acc = correct/(N/num_samples_per_trial)\n",
        "print('Test acc: {}'.format(test_acc))"
      ],
      "execution_count": 0,
      "outputs": [
        {
          "output_type": "stream",
          "text": [
            "num_samples_per_trial: 4\n",
            "Test acc: 0.4198645598194131\n"
          ],
          "name": "stdout"
        }
      ]
    },
    {
      "cell_type": "code",
      "metadata": {
        "id": "uLpBXEyFr1Z5",
        "colab_type": "code",
        "colab": {}
      },
      "source": [
        ""
      ],
      "execution_count": 0,
      "outputs": []
    }
  ]
}