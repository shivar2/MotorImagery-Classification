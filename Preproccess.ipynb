{
  "nbformat": 4,
  "nbformat_minor": 0,
  "metadata": {
    "colab": {
      "name": "Preproccess.ipynb",
      "provenance": [],
      "collapsed_sections": [],
      "toc_visible": true,
      "mount_file_id": "1iWS7YFaT6jpipNP6kl-WmIFOkSKBN5tW",
      "authorship_tag": "ABX9TyMNmpka9xG3wARe6Czt9vz4",
      "include_colab_link": true
    },
    "kernelspec": {
      "name": "python3",
      "display_name": "Python 3"
    },
    "language_info": {
      "name": "python"
    },
    "accelerator": "GPU"
  },
  "cells": [
    {
      "cell_type": "markdown",
      "metadata": {
        "id": "view-in-github",
        "colab_type": "text"
      },
      "source": [
        "<a href=\"https://colab.research.google.com/github/shivar2/MotorImagery-Classification/blob/main/Preproccess.ipynb\" target=\"_parent\"><img src=\"https://colab.research.google.com/assets/colab-badge.svg\" alt=\"Open In Colab\"/></a>"
      ]
    },
    {
      "cell_type": "markdown",
      "metadata": {
        "id": "m1bkIWPqLJff"
      },
      "source": [
        "# install moabb & braindecode"
      ]
    },
    {
      "cell_type": "code",
      "metadata": {
        "id": "0mLQ5sICT9e1",
        "colab": {
          "base_uri": "https://localhost:8080/"
        },
        "outputId": "42c9091b-76c1-4295-9553-fa166e6e5497"
      },
      "source": [
        "pip install moabb"
      ],
      "execution_count": 1,
      "outputs": [
        {
          "output_type": "stream",
          "text": [
            "Requirement already satisfied: moabb in /usr/local/lib/python3.7/dist-packages (0.3.0)\n",
            "Requirement already satisfied: PyYAML<6.0.0,>=5.0.0 in /usr/local/lib/python3.7/dist-packages (from moabb) (5.4.1)\n",
            "Requirement already satisfied: pyunpack<0.3.0,>=0.2.2 in /usr/local/lib/python3.7/dist-packages (from moabb) (0.2.2)\n",
            "Requirement already satisfied: scipy<2.0,>=1.5 in /usr/local/lib/python3.7/dist-packages (from moabb) (1.6.3)\n",
            "Requirement already satisfied: seaborn>=0.9.0 in /usr/local/lib/python3.7/dist-packages (from moabb) (0.11.1)\n",
            "Requirement already satisfied: patool<2.0,>=1.12 in /usr/local/lib/python3.7/dist-packages (from moabb) (1.12)\n",
            "Requirement already satisfied: wfdb<4.0.0,>=3.3.0 in /usr/local/lib/python3.7/dist-packages (from moabb) (3.4.0)\n",
            "Requirement already satisfied: numpy<2.0.0,>=1.19.0 in /usr/local/lib/python3.7/dist-packages (from moabb) (1.19.5)\n",
            "Requirement already satisfied: h5py<4.0.0,>=3.0.0 in /usr/local/lib/python3.7/dist-packages (from moabb) (3.1.0)\n",
            "Requirement already satisfied: matplotlib<4.0.0,>=3.0.0 in /usr/local/lib/python3.7/dist-packages (from moabb) (3.2.2)\n",
            "Requirement already satisfied: scikit-learn<0.24,>=0.23 in /usr/local/lib/python3.7/dist-packages (from moabb) (0.23.2)\n",
            "Requirement already satisfied: pyriemann>=0.2.6 in /usr/local/lib/python3.7/dist-packages (from moabb) (0.2.6)\n",
            "Requirement already satisfied: pandas<2.0.0,>=1.0.0 in /usr/local/lib/python3.7/dist-packages (from moabb) (1.1.5)\n",
            "Requirement already satisfied: mne>=0.19 in /usr/local/lib/python3.7/dist-packages (from moabb) (0.23.0)\n",
            "Requirement already satisfied: easyprocess in /usr/local/lib/python3.7/dist-packages (from pyunpack<0.3.0,>=0.2.2->moabb) (0.3)\n",
            "Requirement already satisfied: entrypoint2 in /usr/local/lib/python3.7/dist-packages (from pyunpack<0.3.0,>=0.2.2->moabb) (0.2.4)\n",
            "Requirement already satisfied: cycler>=0.10.0 in /usr/local/lib/python3.7/dist-packages (from wfdb<4.0.0,>=3.3.0->moabb) (0.10.0)\n",
            "Requirement already satisfied: pytz>=2017.2 in /usr/local/lib/python3.7/dist-packages (from wfdb<4.0.0,>=3.3.0->moabb) (2018.9)\n",
            "Requirement already satisfied: chardet>=3.0.0 in /usr/local/lib/python3.7/dist-packages (from wfdb<4.0.0,>=3.3.0->moabb) (3.0.4)\n",
            "Requirement already satisfied: pyparsing>=2.0.4 in /usr/local/lib/python3.7/dist-packages (from wfdb<4.0.0,>=3.3.0->moabb) (2.4.7)\n",
            "Requirement already satisfied: certifi>=2016.8.2 in /usr/local/lib/python3.7/dist-packages (from wfdb<4.0.0,>=3.3.0->moabb) (2020.12.5)\n",
            "Requirement already satisfied: idna>=2.2 in /usr/local/lib/python3.7/dist-packages (from wfdb<4.0.0,>=3.3.0->moabb) (2.10)\n",
            "Requirement already satisfied: joblib>=0.11 in /usr/local/lib/python3.7/dist-packages (from wfdb<4.0.0,>=3.3.0->moabb) (1.0.1)\n",
            "Requirement already satisfied: urllib3>=1.22 in /usr/local/lib/python3.7/dist-packages (from wfdb<4.0.0,>=3.3.0->moabb) (1.24.3)\n",
            "Requirement already satisfied: kiwisolver>=1.1.0 in /usr/local/lib/python3.7/dist-packages (from wfdb<4.0.0,>=3.3.0->moabb) (1.3.1)\n",
            "Requirement already satisfied: python-dateutil>=2.4.2 in /usr/local/lib/python3.7/dist-packages (from wfdb<4.0.0,>=3.3.0->moabb) (2.8.1)\n",
            "Requirement already satisfied: requests>=2.8.1 in /usr/local/lib/python3.7/dist-packages (from wfdb<4.0.0,>=3.3.0->moabb) (2.23.0)\n",
            "Requirement already satisfied: threadpoolctl>=1.0.0 in /usr/local/lib/python3.7/dist-packages (from wfdb<4.0.0,>=3.3.0->moabb) (2.1.0)\n",
            "Requirement already satisfied: cached-property; python_version < \"3.8\" in /usr/local/lib/python3.7/dist-packages (from h5py<4.0.0,>=3.0.0->moabb) (1.5.2)\n",
            "Requirement already satisfied: six in /usr/local/lib/python3.7/dist-packages (from cycler>=0.10.0->wfdb<4.0.0,>=3.3.0->moabb) (1.15.0)\n"
          ],
          "name": "stdout"
        }
      ]
    },
    {
      "cell_type": "code",
      "metadata": {
        "id": "L69nj9XVUHCN",
        "colab": {
          "base_uri": "https://localhost:8080/"
        },
        "outputId": "499bef68-005f-4468-af56-c0fc22bc1478"
      },
      "source": [
        "pip install braindecode"
      ],
      "execution_count": 2,
      "outputs": [
        {
          "output_type": "stream",
          "text": [
            "Requirement already satisfied: braindecode in /usr/local/lib/python3.7/dist-packages (0.5)\n",
            "Requirement already satisfied: h5py in /usr/local/lib/python3.7/dist-packages (from braindecode) (3.1.0)\n",
            "Requirement already satisfied: scipy in /usr/local/lib/python3.7/dist-packages (from braindecode) (1.6.3)\n",
            "Requirement already satisfied: mne in /usr/local/lib/python3.7/dist-packages (from braindecode) (0.23.0)\n",
            "Requirement already satisfied: matplotlib in /usr/local/lib/python3.7/dist-packages (from braindecode) (3.2.2)\n",
            "Requirement already satisfied: pandas in /usr/local/lib/python3.7/dist-packages (from braindecode) (1.1.5)\n",
            "Requirement already satisfied: skorch in /usr/local/lib/python3.7/dist-packages (from braindecode) (0.10.0)\n",
            "Requirement already satisfied: numpy in /usr/local/lib/python3.7/dist-packages (from braindecode) (1.19.5)\n",
            "Requirement already satisfied: cached-property; python_version < \"3.8\" in /usr/local/lib/python3.7/dist-packages (from h5py->braindecode) (1.5.2)\n",
            "Requirement already satisfied: pyparsing!=2.0.4,!=2.1.2,!=2.1.6,>=2.0.1 in /usr/local/lib/python3.7/dist-packages (from matplotlib->braindecode) (2.4.7)\n",
            "Requirement already satisfied: kiwisolver>=1.0.1 in /usr/local/lib/python3.7/dist-packages (from matplotlib->braindecode) (1.3.1)\n",
            "Requirement already satisfied: python-dateutil>=2.1 in /usr/local/lib/python3.7/dist-packages (from matplotlib->braindecode) (2.8.1)\n",
            "Requirement already satisfied: cycler>=0.10 in /usr/local/lib/python3.7/dist-packages (from matplotlib->braindecode) (0.10.0)\n",
            "Requirement already satisfied: pytz>=2017.2 in /usr/local/lib/python3.7/dist-packages (from pandas->braindecode) (2018.9)\n",
            "Requirement already satisfied: scikit-learn>=0.19.1 in /usr/local/lib/python3.7/dist-packages (from skorch->braindecode) (0.23.2)\n",
            "Requirement already satisfied: tqdm>=4.14.0 in /usr/local/lib/python3.7/dist-packages (from skorch->braindecode) (4.41.1)\n",
            "Requirement already satisfied: tabulate>=0.7.7 in /usr/local/lib/python3.7/dist-packages (from skorch->braindecode) (0.8.9)\n",
            "Requirement already satisfied: six>=1.5 in /usr/local/lib/python3.7/dist-packages (from python-dateutil>=2.1->matplotlib->braindecode) (1.15.0)\n",
            "Requirement already satisfied: threadpoolctl>=2.0.0 in /usr/local/lib/python3.7/dist-packages (from scikit-learn>=0.19.1->skorch->braindecode) (2.1.0)\n",
            "Requirement already satisfied: joblib>=0.11 in /usr/local/lib/python3.7/dist-packages (from scikit-learn>=0.19.1->skorch->braindecode) (1.0.1)\n"
          ],
          "name": "stdout"
        }
      ]
    },
    {
      "cell_type": "code",
      "metadata": {
        "id": "woIRNt5zUPGc",
        "colab": {
          "base_uri": "https://localhost:8080/"
        },
        "outputId": "a8e18521-0e97-402b-e416-b121b78b140d"
      },
      "source": [
        "pip install -U https://api.github.com/repos/shivar2/braindecode/zipball/master"
      ],
      "execution_count": 3,
      "outputs": [
        {
          "output_type": "stream",
          "text": [
            "Collecting https://api.github.com/repos/shivar2/braindecode/zipball/master\n",
            "  Using cached https://api.github.com/repos/shivar2/braindecode/zipball/master\n",
            "Requirement already satisfied, skipping upgrade: mne in /usr/local/lib/python3.7/dist-packages (from Braindecode==0.5) (0.23.0)\n",
            "Requirement already satisfied, skipping upgrade: numpy in /usr/local/lib/python3.7/dist-packages (from Braindecode==0.5) (1.19.5)\n",
            "Requirement already satisfied, skipping upgrade: pandas in /usr/local/lib/python3.7/dist-packages (from Braindecode==0.5) (1.1.5)\n",
            "Requirement already satisfied, skipping upgrade: scipy in /usr/local/lib/python3.7/dist-packages (from Braindecode==0.5) (1.6.3)\n",
            "Requirement already satisfied, skipping upgrade: matplotlib in /usr/local/lib/python3.7/dist-packages (from Braindecode==0.5) (3.2.2)\n",
            "Requirement already satisfied, skipping upgrade: h5py in /usr/local/lib/python3.7/dist-packages (from Braindecode==0.5) (3.1.0)\n",
            "Requirement already satisfied, skipping upgrade: skorch in /usr/local/lib/python3.7/dist-packages (from Braindecode==0.5) (0.10.0)\n",
            "Requirement already satisfied, skipping upgrade: python-dateutil>=2.7.3 in /usr/local/lib/python3.7/dist-packages (from pandas->Braindecode==0.5) (2.8.1)\n",
            "Requirement already satisfied, skipping upgrade: pytz>=2017.2 in /usr/local/lib/python3.7/dist-packages (from pandas->Braindecode==0.5) (2018.9)\n",
            "Requirement already satisfied, skipping upgrade: kiwisolver>=1.0.1 in /usr/local/lib/python3.7/dist-packages (from matplotlib->Braindecode==0.5) (1.3.1)\n",
            "Requirement already satisfied, skipping upgrade: pyparsing!=2.0.4,!=2.1.2,!=2.1.6,>=2.0.1 in /usr/local/lib/python3.7/dist-packages (from matplotlib->Braindecode==0.5) (2.4.7)\n",
            "Requirement already satisfied, skipping upgrade: cycler>=0.10 in /usr/local/lib/python3.7/dist-packages (from matplotlib->Braindecode==0.5) (0.10.0)\n",
            "Requirement already satisfied, skipping upgrade: cached-property; python_version < \"3.8\" in /usr/local/lib/python3.7/dist-packages (from h5py->Braindecode==0.5) (1.5.2)\n",
            "Requirement already satisfied, skipping upgrade: tqdm>=4.14.0 in /usr/local/lib/python3.7/dist-packages (from skorch->Braindecode==0.5) (4.41.1)\n",
            "Requirement already satisfied, skipping upgrade: scikit-learn>=0.19.1 in /usr/local/lib/python3.7/dist-packages (from skorch->Braindecode==0.5) (0.23.2)\n",
            "Requirement already satisfied, skipping upgrade: tabulate>=0.7.7 in /usr/local/lib/python3.7/dist-packages (from skorch->Braindecode==0.5) (0.8.9)\n",
            "Requirement already satisfied, skipping upgrade: six>=1.5 in /usr/local/lib/python3.7/dist-packages (from python-dateutil>=2.7.3->pandas->Braindecode==0.5) (1.15.0)\n",
            "Requirement already satisfied, skipping upgrade: joblib>=0.11 in /usr/local/lib/python3.7/dist-packages (from scikit-learn>=0.19.1->skorch->Braindecode==0.5) (1.0.1)\n",
            "Requirement already satisfied, skipping upgrade: threadpoolctl>=2.0.0 in /usr/local/lib/python3.7/dist-packages (from scikit-learn>=0.19.1->skorch->Braindecode==0.5) (2.1.0)\n",
            "Building wheels for collected packages: Braindecode\n",
            "  Building wheel for Braindecode (setup.py) ... \u001b[?25l\u001b[?25hdone\n",
            "  Created wheel for Braindecode: filename=Braindecode-0.5-cp37-none-any.whl size=67286 sha256=7618cac467ef694fd35e705d54c214fbfa44beddf7bee361ee192f4a09cf230c\n",
            "  Stored in directory: /tmp/pip-ephem-wheel-cache-epkb9iib/wheels/e8/96/7e/9b71798fc04d312683ade7e3a639b36579b720176c6a54dc86\n",
            "Successfully built Braindecode\n",
            "Installing collected packages: Braindecode\n",
            "  Found existing installation: Braindecode 0.5\n",
            "    Uninstalling Braindecode-0.5:\n",
            "      Successfully uninstalled Braindecode-0.5\n",
            "Successfully installed Braindecode-0.5\n"
          ],
          "name": "stdout"
        }
      ]
    },
    {
      "cell_type": "markdown",
      "metadata": {
        "id": "Ft4PiYJjheN_"
      },
      "source": [
        "## connect to drive"
      ]
    },
    {
      "cell_type": "code",
      "metadata": {
        "colab": {
          "base_uri": "https://localhost:8080/"
        },
        "id": "vNaTOhsHcGHD",
        "outputId": "78c8bf58-6fe8-4546-8827-ef66f213c937"
      },
      "source": [
        "from google.colab import drive\n",
        "drive.mount('/content/drive')"
      ],
      "execution_count": 9,
      "outputs": [
        {
          "output_type": "stream",
          "text": [
            "Drive already mounted at /content/drive; to attempt to forcibly remount, call drive.mount(\"/content/drive\", force_remount=True).\n"
          ],
          "name": "stdout"
        }
      ]
    },
    {
      "cell_type": "code",
      "metadata": {
        "id": "Bz7wrHcXb5cH"
      },
      "source": [
        "import os, sys\n",
        "os.chdir('/content/drive/MyDrive/MotorImagery-Classification')"
      ],
      "execution_count": 10,
      "outputs": []
    },
    {
      "cell_type": "markdown",
      "metadata": {
        "id": "XJlldagHLWpS"
      },
      "source": [
        "# preproccess"
      ]
    },
    {
      "cell_type": "markdown",
      "metadata": {
        "id": "auhBHmxOMMbj"
      },
      "source": [
        "**load data**\n"
      ]
    },
    {
      "cell_type": "code",
      "metadata": {
        "id": "kMkNDDijMFYL",
        "colab": {
          "base_uri": "https://localhost:8080/"
        },
        "outputId": "ce140cfc-a104-4745-c2fd-f173fbb6e551"
      },
      "source": [
        "from braindecode.datasets.moabb import MOABBDataset\n",
        "subject_id = 1\n",
        "dataset = MOABBDataset(dataset_name=\"Schirrmeister2017\", subject_ids=[subject_id], path=\"dataset\")\n",
        "\n",
        "# subject_id = 1\n",
        "# dataset = MOABBDataset(dataset_name=\"BNCI2014001\", subject_ids=[subject_id])\n"
      ],
      "execution_count": 6,
      "outputs": [
        {
          "output_type": "stream",
          "text": [
            "Creating RawArray with float64 data, n_channels=128, n_times=1225545\n",
            "    Range : 0 ... 1225544 =      0.000 ...  2451.088 secs\n",
            "Ready.\n",
            "Creating RawArray with float64 data, n_channels=128, n_times=616535\n",
            "    Range : 0 ... 616534 =      0.000 ...  1233.068 secs\n",
            "Ready.\n",
            "320 events found\n",
            "Event IDs: [1 2 3 4]\n",
            "160 events found\n",
            "Event IDs: [1 2 3 4]\n"
          ],
          "name": "stdout"
        }
      ]
    },
    {
      "cell_type": "markdown",
      "metadata": {
        "id": "35UQ18xXghgC"
      },
      "source": [
        "filter"
      ]
    },
    {
      "cell_type": "code",
      "metadata": {
        "colab": {
          "base_uri": "https://localhost:8080/"
        },
        "id": "7Wx0lgkqc36d",
        "outputId": "887ceb77-2d2b-44f0-db0b-c29da07a9248"
      },
      "source": [
        "from braindecode.datautil.preprocess import (\n",
        "    exponential_moving_standardize, preprocess, Preprocessor)\n",
        "\n",
        "low_cut_hz = 4.  # low cut frequency for filtering\n",
        "high_cut_hz = 38.  # high cut frequency for filtering\n",
        "# Parameters for exponential moving standardization\n",
        "factor_new = 1e-3\n",
        "init_block_size = 1000\n",
        "\n",
        "preprocessors = [\n",
        "    Preprocessor('pick_types', eeg=True, meg=False, stim=False),  # Keep EEG sensors\n",
        "    Preprocessor(lambda x: x * 1e6),  # Convert from V to uV\n",
        "    Preprocessor('filter', l_freq=low_cut_hz, h_freq=high_cut_hz),  # Bandpass filter\n",
        "    # Preprocessor(exponential_moving_standardize,  # Exponential moving standardization\n",
        "    #              factor_new=factor_new, init_block_size=init_block_size)\n",
        "]\n",
        "\n",
        "# Transform the data\n",
        "preprocess(dataset, preprocessors)\n"
      ],
      "execution_count": 7,
      "outputs": [
        {
          "output_type": "stream",
          "text": [
            "Filtering raw data in 1 contiguous segment\n",
            "Setting up band-pass filter from 4 - 38 Hz\n",
            "\n",
            "FIR filter parameters\n",
            "---------------------\n",
            "Designing a one-pass, zero-phase, non-causal bandpass filter:\n",
            "- Windowed time-domain design (firwin) method\n",
            "- Hamming window with 0.0194 passband ripple and 53 dB stopband attenuation\n",
            "- Lower passband edge: 4.00\n",
            "- Lower transition bandwidth: 2.00 Hz (-6 dB cutoff frequency: 3.00 Hz)\n",
            "- Upper passband edge: 38.00 Hz\n",
            "- Upper transition bandwidth: 9.50 Hz (-6 dB cutoff frequency: 42.75 Hz)\n",
            "- Filter length: 825 samples (1.650 sec)\n",
            "\n",
            "Filtering raw data in 1 contiguous segment\n",
            "Setting up band-pass filter from 4 - 38 Hz\n",
            "\n",
            "FIR filter parameters\n",
            "---------------------\n",
            "Designing a one-pass, zero-phase, non-causal bandpass filter:\n",
            "- Windowed time-domain design (firwin) method\n",
            "- Hamming window with 0.0194 passband ripple and 53 dB stopband attenuation\n",
            "- Lower passband edge: 4.00\n",
            "- Lower transition bandwidth: 2.00 Hz (-6 dB cutoff frequency: 3.00 Hz)\n",
            "- Upper passband edge: 38.00 Hz\n",
            "- Upper transition bandwidth: 9.50 Hz (-6 dB cutoff frequency: 42.75 Hz)\n",
            "- Filter length: 825 samples (1.650 sec)\n",
            "\n"
          ],
          "name": "stdout"
        }
      ]
    },
    {
      "cell_type": "markdown",
      "metadata": {
        "id": "1WipDoFRg0F2"
      },
      "source": [
        "## Cut Compute Windows"
      ]
    },
    {
      "cell_type": "code",
      "metadata": {
        "colab": {
          "base_uri": "https://localhost:8080/"
        },
        "id": "7mrjXduhg4ge",
        "outputId": "2349240c-6394-42b6-dae0-5dae30b7d8fe"
      },
      "source": [
        "import numpy as np\n",
        "from braindecode.datautil.windowers import create_windows_from_events\n",
        "\n",
        "trial_start_offset_seconds = -0.5\n",
        "# Extract sampling frequency, check that they are same in all datasets\n",
        "sfreq = dataset.datasets[0].raw.info['sfreq']\n",
        "assert all([ds.raw.info['sfreq'] == sfreq for ds in dataset.datasets])\n",
        "# Calculate the trial start offset in samples.\n",
        "trial_start_offset_samples = int(trial_start_offset_seconds * sfreq)\n",
        "\n",
        "# Create windows using braindecode function for this. It needs parameters to define how\n",
        "# trials should be used.\n",
        "windows_dataset = create_windows_from_events(\n",
        "    dataset,\n",
        "    trial_start_offset_samples=trial_start_offset_samples,\n",
        "    trial_stop_offset_samples=0,\n",
        "    preload=True,\n",
        ")\n"
      ],
      "execution_count": 11,
      "outputs": [
        {
          "output_type": "stream",
          "text": [
            "Used Annotations descriptions: ['feet', 'left_hand', 'rest', 'right_hand']\n",
            "Adding metadata with 4 columns\n",
            "Replacing existing metadata with 4 columns\n",
            "320 matching events found\n",
            "No baseline correction applied\n",
            "0 projection items activated\n",
            "Loading data for 320 events and 2250 original time points ...\n",
            "0 bad epochs dropped\n",
            "Used Annotations descriptions: ['feet', 'left_hand', 'rest', 'right_hand']\n",
            "Adding metadata with 4 columns\n",
            "Replacing existing metadata with 4 columns\n",
            "160 matching events found\n",
            "No baseline correction applied\n",
            "0 projection items activated\n",
            "Loading data for 160 events and 2250 original time points ...\n",
            "0 bad epochs dropped\n"
          ],
          "name": "stdout"
        }
      ]
    },
    {
      "cell_type": "markdown",
      "metadata": {
        "id": "dHThgEyRg8G0"
      },
      "source": [
        "## Split dataset into train and valid"
      ]
    },
    {
      "cell_type": "code",
      "metadata": {
        "id": "y2kDUPfYg-MQ"
      },
      "source": [
        "splitted = windows_dataset.split('run')\n",
        "train_set = splitted['train']\n",
        "valid_set = splitted['test']"
      ],
      "execution_count": 12,
      "outputs": []
    },
    {
      "cell_type": "markdown",
      "metadata": {
        "id": "ZGUfx-IenwuI"
      },
      "source": [
        "## save sets"
      ]
    },
    {
      "cell_type": "code",
      "metadata": {
        "id": "4iscSzw6nzjD"
      },
      "source": [
        "import torch\n",
        "\n",
        "torch.save(train_set, 'data-file/Schirrmeister2017/train/' + subject_id + '.pt')\n",
        "torch.save(valid_set, 'data-file/Schirrmeister2017/test/' + str(subject_id) + '.pt')"
      ],
      "execution_count": 15,
      "outputs": []
    },
    {
      "cell_type": "code",
      "metadata": {
        "id": "dIl1L-hxpaKL"
      },
      "source": [
        ""
      ],
      "execution_count": null,
      "outputs": []
    }
  ]
}