{
 "cells": [
  {
   "cell_type": "markdown",
   "metadata": {
    "id": "m1bkIWPqLJff"
   },
   "source": [
    "# install moabb & braindecode"
   ]
  },
  {
   "cell_type": "markdown",
   "metadata": {
    "id": "zCpjZT2oJuhi"
   },
   "source": []
  },
  {
   "cell_type": "code",
   "execution_count": null,
   "metadata": {
    "colab": {
     "base_uri": "https://localhost:8080/"
    },
    "collapsed": true,
    "executionInfo": {
     "elapsed": 1948,
     "status": "ok",
     "timestamp": 1623663363802,
     "user": {
      "displayName": "shiva Roshan raven",
      "photoUrl": "",
      "userId": "03552922279107123066"
     },
     "user_tz": -270
    },
    "id": "0mLQ5sICT9e1",
    "outputId": "3ec0ac20-e64a-4ca7-9741-cdaf51cc17cc"
   },
   "outputs": [
    {
     "name": "stdout",
     "output_type": "stream",
     "text": [
      "Requirement already satisfied: moabb in ./opt/anaconda3/lib/python3.7/site-packages (0.3.0)\n",
      "Requirement already satisfied: h5py<4.0.0,>=3.0.0 in ./opt/anaconda3/lib/python3.7/site-packages (from moabb) (3.2.1)\n",
      "Requirement already satisfied: pandas<2.0.0,>=1.0.0 in ./opt/anaconda3/lib/python3.7/site-packages (from moabb) (1.0.1)\n",
      "Requirement already satisfied: mne>=0.19 in ./opt/anaconda3/lib/python3.7/site-packages (from moabb) (0.20.5)\n",
      "Requirement already satisfied: scipy<2.0,>=1.5 in ./opt/anaconda3/lib/python3.7/site-packages (from moabb) (1.6.3)\n",
      "Requirement already satisfied: wfdb<4.0.0,>=3.3.0 in ./opt/anaconda3/lib/python3.7/site-packages (from moabb) (3.4.0)\n",
      "Requirement already satisfied: PyYAML<6.0.0,>=5.0.0 in ./opt/anaconda3/lib/python3.7/site-packages (from moabb) (5.3)\n",
      "Requirement already satisfied: scikit-learn<0.24,>=0.23 in ./opt/anaconda3/lib/python3.7/site-packages (from moabb) (0.23.2)\n",
      "Requirement already satisfied: patool<2.0,>=1.12 in ./opt/anaconda3/lib/python3.7/site-packages (from moabb) (1.12)\n",
      "Requirement already satisfied: pyunpack<0.3.0,>=0.2.2 in ./opt/anaconda3/lib/python3.7/site-packages (from moabb) (0.2.2)\n",
      "Requirement already satisfied: numpy<2.0.0,>=1.19.0 in ./opt/anaconda3/lib/python3.7/site-packages (from moabb) (1.20.3)\n",
      "Requirement already satisfied: matplotlib<4.0.0,>=3.0.0 in ./opt/anaconda3/lib/python3.7/site-packages (from moabb) (3.1.3)\n",
      "Requirement already satisfied: pyriemann>=0.2.6 in ./opt/anaconda3/lib/python3.7/site-packages (from moabb) (0.2.6)\n",
      "Requirement already satisfied: seaborn>=0.9.0 in ./opt/anaconda3/lib/python3.7/site-packages (from moabb) (0.10.0)\n",
      "Requirement already satisfied: numpy<2.0.0,>=1.19.0 in ./opt/anaconda3/lib/python3.7/site-packages (from moabb) (1.20.3)\n",
      "Requirement already satisfied: cached-property in ./opt/anaconda3/lib/python3.7/site-packages (from h5py<4.0.0,>=3.0.0->moabb) (1.5.2)\n",
      "Requirement already satisfied: numpy<2.0.0,>=1.19.0 in ./opt/anaconda3/lib/python3.7/site-packages (from moabb) (1.20.3)\n",
      "Requirement already satisfied: python-dateutil>=2.1 in ./opt/anaconda3/lib/python3.7/site-packages (from matplotlib<4.0.0,>=3.0.0->moabb) (2.8.1)\n",
      "Requirement already satisfied: cycler>=0.10 in ./opt/anaconda3/lib/python3.7/site-packages (from matplotlib<4.0.0,>=3.0.0->moabb) (0.10.0)\n",
      "Requirement already satisfied: kiwisolver>=1.0.1 in ./opt/anaconda3/lib/python3.7/site-packages (from matplotlib<4.0.0,>=3.0.0->moabb) (1.1.0)\n",
      "Requirement already satisfied: pyparsing!=2.0.4,!=2.1.2,!=2.1.6,>=2.0.1 in ./opt/anaconda3/lib/python3.7/site-packages (from matplotlib<4.0.0,>=3.0.0->moabb) (2.4.6)\n",
      "Requirement already satisfied: six in ./opt/anaconda3/lib/python3.7/site-packages (from cycler>=0.10->matplotlib<4.0.0,>=3.0.0->moabb) (1.14.0)\n",
      "Requirement already satisfied: setuptools in ./opt/anaconda3/lib/python3.7/site-packages (from kiwisolver>=1.0.1->matplotlib<4.0.0,>=3.0.0->moabb) (46.0.0.post20200309)\n",
      "Requirement already satisfied: numpy<2.0.0,>=1.19.0 in ./opt/anaconda3/lib/python3.7/site-packages (from moabb) (1.20.3)\n",
      "Requirement already satisfied: scipy<2.0,>=1.5 in ./opt/anaconda3/lib/python3.7/site-packages (from moabb) (1.6.3)\n",
      "Requirement already satisfied: numpy<2.0.0,>=1.19.0 in ./opt/anaconda3/lib/python3.7/site-packages (from moabb) (1.20.3)\n",
      "Requirement already satisfied: pytz>=2017.2 in ./opt/anaconda3/lib/python3.7/site-packages (from pandas<2.0.0,>=1.0.0->moabb) (2019.3)\n",
      "Requirement already satisfied: python-dateutil>=2.1 in ./opt/anaconda3/lib/python3.7/site-packages (from matplotlib<4.0.0,>=3.0.0->moabb) (2.8.1)\n",
      "Requirement already satisfied: numpy<2.0.0,>=1.19.0 in ./opt/anaconda3/lib/python3.7/site-packages (from moabb) (1.20.3)\n",
      "Requirement already satisfied: scipy<2.0,>=1.5 in ./opt/anaconda3/lib/python3.7/site-packages (from moabb) (1.6.3)\n",
      "Requirement already satisfied: joblib in ./opt/anaconda3/lib/python3.7/site-packages (from pyriemann>=0.2.6->moabb) (0.14.1)\n",
      "Requirement already satisfied: pandas<2.0.0,>=1.0.0 in ./opt/anaconda3/lib/python3.7/site-packages (from moabb) (1.0.1)\n",
      "Requirement already satisfied: scikit-learn<0.24,>=0.23 in ./opt/anaconda3/lib/python3.7/site-packages (from moabb) (0.23.2)\n",
      "Requirement already satisfied: six in ./opt/anaconda3/lib/python3.7/site-packages (from cycler>=0.10->matplotlib<4.0.0,>=3.0.0->moabb) (1.14.0)\n",
      "Requirement already satisfied: entrypoint2 in ./opt/anaconda3/lib/python3.7/site-packages (from pyunpack<0.3.0,>=0.2.2->moabb) (0.2.4)\n",
      "Requirement already satisfied: easyprocess in ./opt/anaconda3/lib/python3.7/site-packages (from pyunpack<0.3.0,>=0.2.2->moabb) (0.3)\n",
      "Requirement already satisfied: numpy<2.0.0,>=1.19.0 in ./opt/anaconda3/lib/python3.7/site-packages (from moabb) (1.20.3)\n",
      "Requirement already satisfied: threadpoolctl>=2.0.0 in ./opt/anaconda3/lib/python3.7/site-packages (from scikit-learn<0.24,>=0.23->moabb) (2.1.0)\n",
      "Requirement already satisfied: joblib in ./opt/anaconda3/lib/python3.7/site-packages (from pyriemann>=0.2.6->moabb) (0.14.1)\n",
      "Requirement already satisfied: scipy<2.0,>=1.5 in ./opt/anaconda3/lib/python3.7/site-packages (from moabb) (1.6.3)\n",
      "Requirement already satisfied: numpy<2.0.0,>=1.19.0 in ./opt/anaconda3/lib/python3.7/site-packages (from moabb) (1.20.3)\n",
      "Requirement already satisfied: numpy<2.0.0,>=1.19.0 in ./opt/anaconda3/lib/python3.7/site-packages (from moabb) (1.20.3)\n",
      "Requirement already satisfied: matplotlib<4.0.0,>=3.0.0 in ./opt/anaconda3/lib/python3.7/site-packages (from moabb) (3.1.3)\n",
      "Requirement already satisfied: pandas<2.0.0,>=1.0.0 in ./opt/anaconda3/lib/python3.7/site-packages (from moabb) (1.0.1)\n",
      "Requirement already satisfied: scipy<2.0,>=1.5 in ./opt/anaconda3/lib/python3.7/site-packages (from moabb) (1.6.3)\n",
      "Requirement already satisfied: kiwisolver>=1.0.1 in ./opt/anaconda3/lib/python3.7/site-packages (from matplotlib<4.0.0,>=3.0.0->moabb) (1.1.0)\n",
      "Requirement already satisfied: matplotlib<4.0.0,>=3.0.0 in ./opt/anaconda3/lib/python3.7/site-packages (from moabb) (3.1.3)\n",
      "Requirement already satisfied: certifi>=2016.8.2 in ./opt/anaconda3/lib/python3.7/site-packages (from wfdb<4.0.0,>=3.3.0->moabb) (2019.11.28)\n",
      "Requirement already satisfied: joblib in ./opt/anaconda3/lib/python3.7/site-packages (from pyriemann>=0.2.6->moabb) (0.14.1)\n",
      "Requirement already satisfied: threadpoolctl>=2.0.0 in ./opt/anaconda3/lib/python3.7/site-packages (from scikit-learn<0.24,>=0.23->moabb) (2.1.0)\n",
      "Requirement already satisfied: cycler>=0.10 in ./opt/anaconda3/lib/python3.7/site-packages (from matplotlib<4.0.0,>=3.0.0->moabb) (0.10.0)\n",
      "Requirement already satisfied: python-dateutil>=2.1 in ./opt/anaconda3/lib/python3.7/site-packages (from matplotlib<4.0.0,>=3.0.0->moabb) (2.8.1)\n",
      "Requirement already satisfied: idna>=2.2 in ./opt/anaconda3/lib/python3.7/site-packages (from wfdb<4.0.0,>=3.3.0->moabb) (2.8)\n",
      "Requirement already satisfied: numpy<2.0.0,>=1.19.0 in ./opt/anaconda3/lib/python3.7/site-packages (from moabb) (1.20.3)\n",
      "Requirement already satisfied: requests>=2.8.1 in ./opt/anaconda3/lib/python3.7/site-packages (from wfdb<4.0.0,>=3.3.0->moabb) (2.22.0)\n",
      "Requirement already satisfied: scikit-learn<0.24,>=0.23 in ./opt/anaconda3/lib/python3.7/site-packages (from moabb) (0.23.2)\n",
      "Requirement already satisfied: scipy<2.0,>=1.5 in ./opt/anaconda3/lib/python3.7/site-packages (from moabb) (1.6.3)\n",
      "Requirement already satisfied: pyparsing!=2.0.4,!=2.1.2,!=2.1.6,>=2.0.1 in ./opt/anaconda3/lib/python3.7/site-packages (from matplotlib<4.0.0,>=3.0.0->moabb) (2.4.6)\n",
      "Requirement already satisfied: urllib3>=1.22 in ./opt/anaconda3/lib/python3.7/site-packages (from wfdb<4.0.0,>=3.3.0->moabb) (1.25.8)\n",
      "Requirement already satisfied: pandas<2.0.0,>=1.0.0 in ./opt/anaconda3/lib/python3.7/site-packages (from moabb) (1.0.1)\n",
      "Requirement already satisfied: pytz>=2017.2 in ./opt/anaconda3/lib/python3.7/site-packages (from pandas<2.0.0,>=1.0.0->moabb) (2019.3)\n",
      "Requirement already satisfied: chardet>=3.0.0 in ./opt/anaconda3/lib/python3.7/site-packages (from wfdb<4.0.0,>=3.3.0->moabb) (3.0.4)\n",
      "Requirement already satisfied: certifi>=2016.8.2 in ./opt/anaconda3/lib/python3.7/site-packages (from wfdb<4.0.0,>=3.3.0->moabb) (2019.11.28)\n",
      "Requirement already satisfied: chardet>=3.0.0 in ./opt/anaconda3/lib/python3.7/site-packages (from wfdb<4.0.0,>=3.3.0->moabb) (3.0.4)\n",
      "Requirement already satisfied: idna>=2.2 in ./opt/anaconda3/lib/python3.7/site-packages (from wfdb<4.0.0,>=3.3.0->moabb) (2.8)\n",
      "Requirement already satisfied: urllib3>=1.22 in ./opt/anaconda3/lib/python3.7/site-packages (from wfdb<4.0.0,>=3.3.0->moabb) (1.25.8)\n",
      "\u001b[33mWARNING: You are using pip version 20.3; however, version 21.1.2 is available.\n",
      "You should consider upgrading via the '/Users/shivaroshanravan/opt/anaconda3/bin/python -m pip install --upgrade pip' command.\u001b[0m\n",
      "Note: you may need to restart the kernel to use updated packages.\n"
     ]
    }
   ],
   "source": [
    "pip install moabb"
   ]
  },
  {
   "cell_type": "code",
   "execution_count": null,
   "metadata": {
    "colab": {
     "base_uri": "https://localhost:8080/"
    },
    "collapsed": true,
    "executionInfo": {
     "elapsed": 2413,
     "status": "ok",
     "timestamp": 1623663466880,
     "user": {
      "displayName": "shiva Roshan raven",
      "photoUrl": "",
      "userId": "03552922279107123066"
     },
     "user_tz": -270
    },
    "id": "L69nj9XVUHCN",
    "outputId": "ca4a1406-4af4-4e6d-9ba2-0246811e7f0c"
   },
   "outputs": [
    {
     "name": "stdout",
     "output_type": "stream",
     "text": [
      "Collecting braindecode\r\n",
      "  Using cached Braindecode-0.5-py3-none-any.whl\r\n",
      "Requirement already satisfied: mne in ./opt/anaconda3/lib/python3.7/site-packages (from braindecode) (0.20.5)\r\n",
      "Requirement already satisfied: scipy in ./opt/anaconda3/lib/python3.7/site-packages (from braindecode) (1.6.3)\r\n",
      "Requirement already satisfied: skorch in ./opt/anaconda3/lib/python3.7/site-packages (from braindecode) (0.10.0)\r\n",
      "Requirement already satisfied: numpy in ./opt/anaconda3/lib/python3.7/site-packages (from braindecode) (1.20.3)\r\n",
      "Requirement already satisfied: h5py in ./opt/anaconda3/lib/python3.7/site-packages (from braindecode) (3.2.1)\r\n",
      "Requirement already satisfied: pandas in ./opt/anaconda3/lib/python3.7/site-packages (from braindecode) (1.0.1)\n",
      "Requirement already satisfied: matplotlib in ./opt/anaconda3/lib/python3.7/site-packages (from braindecode) (3.1.3)\n",
      "Requirement already satisfied: cached-property in ./opt/anaconda3/lib/python3.7/site-packages (from h5py->braindecode) (1.5.2)\n",
      "Requirement already satisfied: numpy in ./opt/anaconda3/lib/python3.7/site-packages (from braindecode) (1.20.3)\n",
      "Requirement already satisfied: cycler>=0.10 in ./opt/anaconda3/lib/python3.7/site-packages (from matplotlib->braindecode) (0.10.0)\n",
      "Requirement already satisfied: numpy in ./opt/anaconda3/lib/python3.7/site-packages (from braindecode) (1.20.3)\n",
      "Requirement already satisfied: kiwisolver>=1.0.1 in ./opt/anaconda3/lib/python3.7/site-packages (from matplotlib->braindecode) (1.1.0)\n",
      "Requirement already satisfied: python-dateutil>=2.1 in ./opt/anaconda3/lib/python3.7/site-packages (from matplotlib->braindecode) (2.8.1)\n",
      "Requirement already satisfied: pyparsing!=2.0.4,!=2.1.2,!=2.1.6,>=2.0.1 in ./opt/anaconda3/lib/python3.7/site-packages (from matplotlib->braindecode) (2.4.6)\n",
      "Requirement already satisfied: six in ./opt/anaconda3/lib/python3.7/site-packages (from cycler>=0.10->matplotlib->braindecode) (1.14.0)\n",
      "Requirement already satisfied: setuptools in ./opt/anaconda3/lib/python3.7/site-packages (from kiwisolver>=1.0.1->matplotlib->braindecode) (46.0.0.post20200309)\n",
      "Requirement already satisfied: scipy in ./opt/anaconda3/lib/python3.7/site-packages (from braindecode) (1.6.3)\n",
      "Requirement already satisfied: numpy in ./opt/anaconda3/lib/python3.7/site-packages (from braindecode) (1.20.3)\n",
      "Requirement already satisfied: numpy in ./opt/anaconda3/lib/python3.7/site-packages (from braindecode) (1.20.3)\n",
      "Requirement already satisfied: python-dateutil>=2.1 in ./opt/anaconda3/lib/python3.7/site-packages (from matplotlib->braindecode) (2.8.1)\n",
      "Requirement already satisfied: pytz>=2017.2 in ./opt/anaconda3/lib/python3.7/site-packages (from pandas->braindecode) (2019.3)\n",
      "Requirement already satisfied: six in ./opt/anaconda3/lib/python3.7/site-packages (from cycler>=0.10->matplotlib->braindecode) (1.14.0)\n",
      "Requirement already satisfied: numpy in ./opt/anaconda3/lib/python3.7/site-packages (from braindecode) (1.20.3)\n",
      "Requirement already satisfied: scikit-learn>=0.19.1 in ./opt/anaconda3/lib/python3.7/site-packages (from skorch->braindecode) (0.23.2)\n",
      "Requirement already satisfied: tqdm>=4.14.0 in ./opt/anaconda3/lib/python3.7/site-packages (from skorch->braindecode) (4.46.0)\n",
      "Requirement already satisfied: numpy in ./opt/anaconda3/lib/python3.7/site-packages (from braindecode) (1.20.3)\n",
      "Requirement already satisfied: tabulate>=0.7.7 in ./opt/anaconda3/lib/python3.7/site-packages (from skorch->braindecode) (0.8.9)\n",
      "Requirement already satisfied: scipy in ./opt/anaconda3/lib/python3.7/site-packages (from braindecode) (1.6.3)\n",
      "Requirement already satisfied: numpy in ./opt/anaconda3/lib/python3.7/site-packages (from braindecode) (1.20.3)\n",
      "Requirement already satisfied: threadpoolctl>=2.0.0 in ./opt/anaconda3/lib/python3.7/site-packages (from scikit-learn>=0.19.1->skorch->braindecode) (2.1.0)\n",
      "Requirement already satisfied: scipy in ./opt/anaconda3/lib/python3.7/site-packages (from braindecode) (1.6.3)\n",
      "Requirement already satisfied: joblib>=0.11 in ./opt/anaconda3/lib/python3.7/site-packages (from scikit-learn>=0.19.1->skorch->braindecode) (0.14.1)\n",
      "Installing collected packages: braindecode\n",
      "Successfully installed braindecode-0.5\n",
      "\u001b[33mWARNING: You are using pip version 20.3; however, version 21.1.2 is available.\n",
      "You should consider upgrading via the '/Users/shivaroshanravan/opt/anaconda3/bin/python -m pip install --upgrade pip' command.\u001b[0m\n",
      "Note: you may need to restart the kernel to use updated packages.\n"
     ]
    }
   ],
   "source": [
    "# pip install braindecode"
   ]
  },
  {
   "cell_type": "code",
   "execution_count": null,
   "metadata": {
    "colab": {
     "base_uri": "https://localhost:8080/"
    },
    "collapsed": true,
    "executionInfo": {
     "elapsed": 4787,
     "status": "ok",
     "timestamp": 1623663639968,
     "user": {
      "displayName": "shiva Roshan raven",
      "photoUrl": "",
      "userId": "03552922279107123066"
     },
     "user_tz": -270
    },
    "id": "woIRNt5zUPGc",
    "outputId": "76274737-a5c7-496a-c378-28ddb26b7fcc"
   },
   "outputs": [
    {
     "name": "stdout",
     "output_type": "stream",
     "text": [
      "Collecting https://api.github.com/repos/shivar2/braindecode/zipball/master\n",
      "  Using cached https://api.github.com/repos/shivar2/braindecode/zipball/master\n",
      "Requirement already satisfied: mne in ./opt/anaconda3/lib/python3.7/site-packages (from Braindecode==0.5) (0.20.5)\n",
      "Requirement already satisfied: numpy in ./opt/anaconda3/lib/python3.7/site-packages (from Braindecode==0.5) (1.20.3)\n",
      "Requirement already satisfied: pandas in ./opt/anaconda3/lib/python3.7/site-packages (from Braindecode==0.5) (1.0.1)\n",
      "Requirement already satisfied: scipy in ./opt/anaconda3/lib/python3.7/site-packages (from Braindecode==0.5) (1.6.3)\n",
      "Requirement already satisfied: matplotlib in ./opt/anaconda3/lib/python3.7/site-packages (from Braindecode==0.5) (3.1.3)\n",
      "Requirement already satisfied: h5py in ./opt/anaconda3/lib/python3.7/site-packages (from Braindecode==0.5) (3.2.1)\n",
      "Requirement already satisfied: skorch in ./opt/anaconda3/lib/python3.7/site-packages (from Braindecode==0.5) (0.10.0)\n",
      "Requirement already satisfied: numpy in ./opt/anaconda3/lib/python3.7/site-packages (from Braindecode==0.5) (1.20.3)\n",
      "Requirement already satisfied: cached-property in ./opt/anaconda3/lib/python3.7/site-packages (from h5py->Braindecode==0.5) (1.5.2)\n",
      "Requirement already satisfied: cycler>=0.10 in ./opt/anaconda3/lib/python3.7/site-packages (from matplotlib->Braindecode==0.5) (0.10.0)\n",
      "Requirement already satisfied: numpy in ./opt/anaconda3/lib/python3.7/site-packages (from Braindecode==0.5) (1.20.3)\n",
      "Requirement already satisfied: pyparsing!=2.0.4,!=2.1.2,!=2.1.6,>=2.0.1 in ./opt/anaconda3/lib/python3.7/site-packages (from matplotlib->Braindecode==0.5) (2.4.6)\n",
      "Requirement already satisfied: python-dateutil>=2.1 in ./opt/anaconda3/lib/python3.7/site-packages (from matplotlib->Braindecode==0.5) (2.8.1)\n",
      "Requirement already satisfied: kiwisolver>=1.0.1 in ./opt/anaconda3/lib/python3.7/site-packages (from matplotlib->Braindecode==0.5) (1.1.0)\n",
      "Requirement already satisfied: six in ./opt/anaconda3/lib/python3.7/site-packages (from cycler>=0.10->matplotlib->Braindecode==0.5) (1.14.0)\n",
      "Requirement already satisfied: setuptools in ./opt/anaconda3/lib/python3.7/site-packages (from kiwisolver>=1.0.1->matplotlib->Braindecode==0.5) (46.0.0.post20200309)\n",
      "Requirement already satisfied: numpy in ./opt/anaconda3/lib/python3.7/site-packages (from Braindecode==0.5) (1.20.3)\n",
      "Requirement already satisfied: scipy in ./opt/anaconda3/lib/python3.7/site-packages (from Braindecode==0.5) (1.6.3)\n",
      "Requirement already satisfied: numpy in ./opt/anaconda3/lib/python3.7/site-packages (from Braindecode==0.5) (1.20.3)\n",
      "Requirement already satisfied: python-dateutil>=2.1 in ./opt/anaconda3/lib/python3.7/site-packages (from matplotlib->Braindecode==0.5) (2.8.1)\n",
      "Requirement already satisfied: pytz>=2017.2 in ./opt/anaconda3/lib/python3.7/site-packages (from pandas->Braindecode==0.5) (2019.3)\n",
      "Requirement already satisfied: six in ./opt/anaconda3/lib/python3.7/site-packages (from cycler>=0.10->matplotlib->Braindecode==0.5) (1.14.0)\n",
      "Requirement already satisfied: numpy in ./opt/anaconda3/lib/python3.7/site-packages (from Braindecode==0.5) (1.20.3)\n",
      "Requirement already satisfied: numpy in ./opt/anaconda3/lib/python3.7/site-packages (from Braindecode==0.5) (1.20.3)\n",
      "Requirement already satisfied: tqdm>=4.14.0 in ./opt/anaconda3/lib/python3.7/site-packages (from skorch->Braindecode==0.5) (4.46.0)\n",
      "Requirement already satisfied: scikit-learn>=0.19.1 in ./opt/anaconda3/lib/python3.7/site-packages (from skorch->Braindecode==0.5) (0.23.2)\n",
      "Requirement already satisfied: scipy in ./opt/anaconda3/lib/python3.7/site-packages (from Braindecode==0.5) (1.6.3)\n",
      "Requirement already satisfied: tabulate>=0.7.7 in ./opt/anaconda3/lib/python3.7/site-packages (from skorch->Braindecode==0.5) (0.8.9)\n",
      "Requirement already satisfied: scipy in ./opt/anaconda3/lib/python3.7/site-packages (from Braindecode==0.5) (1.6.3)\n",
      "Requirement already satisfied: numpy in ./opt/anaconda3/lib/python3.7/site-packages (from Braindecode==0.5) (1.20.3)\n",
      "Requirement already satisfied: joblib>=0.11 in ./opt/anaconda3/lib/python3.7/site-packages (from scikit-learn>=0.19.1->skorch->Braindecode==0.5) (0.14.1)\n",
      "Requirement already satisfied: threadpoolctl>=2.0.0 in ./opt/anaconda3/lib/python3.7/site-packages (from scikit-learn>=0.19.1->skorch->Braindecode==0.5) (2.1.0)\n",
      "Building wheels for collected packages: Braindecode\n",
      "  Building wheel for Braindecode (setup.py) ... \u001b[?25l-\b \b\\\b \bdone\n",
      "\u001b[?25h  Created wheel for Braindecode: filename=Braindecode-0.5-py3-none-any.whl size=67260 sha256=03988c50e96062e39fd80503c38f8b70abcca9af85b45253cf88d2a88bf14101\n",
      "  Stored in directory: /private/var/folders/53/3y6pgnp17ssb5cqh_0wwg3z80000gn/T/pip-ephem-wheel-cache-o6lxxl34/wheels/de/d6/5e/b653c8204b0dde4ee29adebe5267b98ae8eb22136b84a2952c\n",
      "Successfully built Braindecode\n",
      "Installing collected packages: Braindecode\n",
      "Successfully installed Braindecode-0.5\n",
      "\u001b[33mWARNING: You are using pip version 20.3; however, version 21.1.2 is available.\n",
      "You should consider upgrading via the '/Users/shivaroshanravan/opt/anaconda3/bin/python -m pip install --upgrade pip' command.\u001b[0m\n",
      "Note: you may need to restart the kernel to use updated packages.\n"
     ]
    }
   ],
   "source": [
    "pip install -U https://api.github.com/repos/shivar2/braindecode/zipball/master"
   ]
  },
  {
   "cell_type": "markdown",
   "metadata": {
    "id": "Ft4PiYJjheN_"
   },
   "source": [
    "# connect to drive"
   ]
  },
  {
   "cell_type": "code",
   "execution_count": null,
   "metadata": {
    "colab": {
     "base_uri": "https://localhost:8080/",
     "height": 186
    },
    "collapsed": true,
    "executionInfo": {
     "elapsed": 78,
     "status": "error",
     "timestamp": 1623657680224,
     "user": {
      "displayName": "shiva Roshan raven",
      "photoUrl": "",
      "userId": "03552922279107123066"
     },
     "user_tz": -270
    },
    "id": "vNaTOhsHcGHD",
    "outputId": "94dfee11-ae9f-4f99-c80e-74e564a6227a"
   },
   "outputs": [
    {
     "ename": "ModuleNotFoundError",
     "evalue": "ignored",
     "output_type": "error",
     "traceback": [
      "\u001b[0;31m---------------------------------------------------------------------------\u001b[0m",
      "\u001b[0;31mModuleNotFoundError\u001b[0m                       Traceback (most recent call last)",
      "\u001b[0;32m<ipython-input-4-d5df0069828e>\u001b[0m in \u001b[0;36m<module>\u001b[0;34m\u001b[0m\n\u001b[0;32m----> 1\u001b[0;31m \u001b[0;32mfrom\u001b[0m \u001b[0mgoogle\u001b[0m\u001b[0;34m.\u001b[0m\u001b[0mcolab\u001b[0m \u001b[0;32mimport\u001b[0m \u001b[0mdrive\u001b[0m\u001b[0;34m\u001b[0m\u001b[0;34m\u001b[0m\u001b[0m\n\u001b[0m\u001b[1;32m      2\u001b[0m \u001b[0mdrive\u001b[0m\u001b[0;34m.\u001b[0m\u001b[0mmount\u001b[0m\u001b[0;34m(\u001b[0m\u001b[0;34m'/content/drive'\u001b[0m\u001b[0;34m)\u001b[0m\u001b[0;34m\u001b[0m\u001b[0;34m\u001b[0m\u001b[0m\n",
      "\u001b[0;31mModuleNotFoundError\u001b[0m: No module named 'google.colab'"
     ]
    }
   ],
   "source": [
    "from google.colab import drive\n",
    "drive.mount('/content/drive')"
   ]
  },
  {
   "cell_type": "code",
   "execution_count": null,
   "metadata": {
    "id": "Bz7wrHcXb5cH"
   },
   "outputs": [],
   "source": [
    "import os, sys\n",
    "os.chdir('/content/drive/MyDrive/MotorImagery-Classification')"
   ]
  },
  {
   "cell_type": "markdown",
   "metadata": {
    "id": "XJlldagHLWpS"
   },
   "source": [
    "# preproccess"
   ]
  },
  {
   "cell_type": "markdown",
   "metadata": {
    "id": "wRDxDGvRstAn"
   },
   "source": [
    "## set MNE config"
   ]
  },
  {
   "cell_type": "code",
   "execution_count": 1,
   "metadata": {
    "colab": {
     "base_uri": "https://localhost:8080/"
    },
    "executionInfo": {
     "elapsed": 1006,
     "status": "ok",
     "timestamp": 1623663686417,
     "user": {
      "displayName": "shiva Roshan raven",
      "photoUrl": "",
      "userId": "03552922279107123066"
     },
     "user_tz": -270
    },
    "id": "-Af2vLu9rN7N",
    "outputId": "3000df5c-1155-4a43-ff25-d4fbc950e884"
   },
   "outputs": [
    {
     "name": "stderr",
     "output_type": "stream",
     "text": [
      "<ipython-input-1-17a1a076c019>:3: RuntimeWarning: Setting non-standard config type: \"MNE_DATASETS_SCHIRRMEISTER2017_PATH\"\n",
      "  mne.set_config('MNE_DATASETS_SCHIRRMEISTER2017_PATH', '../../mne_data')\n"
     ]
    }
   ],
   "source": [
    "import mne\n",
    "\n",
    "mne.set_config('MNE_DATASETS_SCHIRRMEISTER2017_PATH', '../../mne_data')"
   ]
  },
  {
   "cell_type": "markdown",
   "metadata": {
    "id": "6cOpswqDtWi5"
   },
   "source": [
    "## download or load dataset"
   ]
  },
  {
   "cell_type": "code",
   "execution_count": 2,
   "metadata": {
    "id": "kMkNDDijMFYL"
   },
   "outputs": [
    {
     "name": "stdout",
     "output_type": "stream",
     "text": [
      "Do you want to set the path:\n",
      "    /Users/shivaroshanravan/Documents/GitHub/MotorImagery-Classification/mne_data\n",
      "as the default SCHIRRMEISTER2017 dataset path in the mne-python config [y]/n? y\n"
     ]
    },
    {
     "name": "stderr",
     "output_type": "stream",
     "text": [
      "/Users/shivaroshanravan/opt/anaconda3/lib/python3.7/site-packages/moabb/datasets/download.py:64: RuntimeWarning: Setting non-standard config type: \"MNE_DATASETS_SCHIRRMEISTER2017_PATH\"\n",
      "  _do_path_update(path, update_path, key, sign)\n",
      "/Users/shivaroshanravan/opt/anaconda3/lib/python3.7/site-packages/mne/io/meas_info.py:1978: DeprecationWarning: `np.str` is a deprecated alias for the builtin `str`. To silence this warning, use `str` by itself. Doing this will not modify any behavior and is safe. If you specifically wanted the numpy scalar type, use `np.str_` here.\n",
      "Deprecated in NumPy 1.20; for more details and guidance: https://numpy.org/devdocs/release/1.20.0-notes.html#deprecations\n",
      "  ch_types = np.atleast_1d(np.array(ch_types, np.str))\n"
     ]
    },
    {
     "name": "stdout",
     "output_type": "stream",
     "text": [
      "Creating RawArray with float64 data, n_channels=128, n_times=1225545\n",
      "    Range : 0 ... 1225544 =      0.000 ...  2451.088 secs\n",
      "Ready.\n"
     ]
    },
    {
     "name": "stderr",
     "output_type": "stream",
     "text": [
      "/Users/shivaroshanravan/opt/anaconda3/lib/python3.7/site-packages/mne/io/meas_info.py:1978: DeprecationWarning: `np.str` is a deprecated alias for the builtin `str`. To silence this warning, use `str` by itself. Doing this will not modify any behavior and is safe. If you specifically wanted the numpy scalar type, use `np.str_` here.\n",
      "Deprecated in NumPy 1.20; for more details and guidance: https://numpy.org/devdocs/release/1.20.0-notes.html#deprecations\n",
      "  ch_types = np.atleast_1d(np.array(ch_types, np.str))\n",
      "/Users/shivaroshanravan/opt/anaconda3/lib/python3.7/site-packages/mne/io/meas_info.py:1978: DeprecationWarning: `np.str` is a deprecated alias for the builtin `str`. To silence this warning, use `str` by itself. Doing this will not modify any behavior and is safe. If you specifically wanted the numpy scalar type, use `np.str_` here.\n",
      "Deprecated in NumPy 1.20; for more details and guidance: https://numpy.org/devdocs/release/1.20.0-notes.html#deprecations\n",
      "  ch_types = np.atleast_1d(np.array(ch_types, np.str))\n"
     ]
    },
    {
     "name": "stdout",
     "output_type": "stream",
     "text": [
      "Creating RawArray with float64 data, n_channels=128, n_times=616535\n",
      "    Range : 0 ... 616534 =      0.000 ...  1233.068 secs\n",
      "Ready.\n"
     ]
    },
    {
     "name": "stderr",
     "output_type": "stream",
     "text": [
      "/Users/shivaroshanravan/opt/anaconda3/lib/python3.7/site-packages/mne/io/meas_info.py:1978: DeprecationWarning: `np.str` is a deprecated alias for the builtin `str`. To silence this warning, use `str` by itself. Doing this will not modify any behavior and is safe. If you specifically wanted the numpy scalar type, use `np.str_` here.\n",
      "Deprecated in NumPy 1.20; for more details and guidance: https://numpy.org/devdocs/release/1.20.0-notes.html#deprecations\n",
      "  ch_types = np.atleast_1d(np.array(ch_types, np.str))\n"
     ]
    },
    {
     "name": "stdout",
     "output_type": "stream",
     "text": [
      "320 events found\n",
      "Event IDs: [1 2 3 4]\n",
      "160 events found\n",
      "Event IDs: [1 2 3 4]\n"
     ]
    },
    {
     "name": "stderr",
     "output_type": "stream",
     "text": [
      "/Users/shivaroshanravan/opt/anaconda3/lib/python3.7/site-packages/mne/event.py:455: DeprecationWarning: `np.int` is a deprecated alias for the builtin `int`. To silence this warning, use `int` by itself. Doing this will not modify any behavior and is safe. When replacing `np.int`, you may wish to use e.g. `np.int64` or `np.int32` to specify the precision. If you wish to review your current use, check the release note link for additional information.\n",
      "Deprecated in NumPy 1.20; for more details and guidance: https://numpy.org/devdocs/release/1.20.0-notes.html#deprecations\n",
      "  data = data.astype(np.int)\n",
      "/Users/shivaroshanravan/opt/anaconda3/lib/python3.7/site-packages/mne/event.py:455: DeprecationWarning: `np.int` is a deprecated alias for the builtin `int`. To silence this warning, use `int` by itself. Doing this will not modify any behavior and is safe. When replacing `np.int`, you may wish to use e.g. `np.int64` or `np.int32` to specify the precision. If you wish to review your current use, check the release note link for additional information.\n",
      "Deprecated in NumPy 1.20; for more details and guidance: https://numpy.org/devdocs/release/1.20.0-notes.html#deprecations\n",
      "  data = data.astype(np.int)\n"
     ]
    }
   ],
   "source": [
    "from braindecode.datasets.moabb import MOABBDataset\n",
    "subject_id = 1\n",
    "dataset = MOABBDataset(dataset_name=\"Schirrmeister2017\", subject_ids=[subject_id])"
   ]
  },
  {
   "cell_type": "markdown",
   "metadata": {
    "id": "35UQ18xXghgC"
   },
   "source": [
    "## preproccess"
   ]
  },
  {
   "cell_type": "code",
   "execution_count": 3,
   "metadata": {
    "id": "7Wx0lgkqc36d"
   },
   "outputs": [
    {
     "name": "stderr",
     "output_type": "stream",
     "text": [
      "/Users/shivaroshanravan/opt/anaconda3/lib/python3.7/site-packages/mne/io/pick.py:385: DeprecationWarning: `np.bool` is a deprecated alias for the builtin `bool`. To silence this warning, use `bool` by itself. Doing this will not modify any behavior and is safe. If you specifically wanted the numpy scalar type, use `np.bool_` here.\n",
      "Deprecated in NumPy 1.20; for more details and guidance: https://numpy.org/devdocs/release/1.20.0-notes.html#deprecations\n",
      "  pick = np.zeros(nchan, dtype=np.bool)\n",
      "/Users/shivaroshanravan/opt/anaconda3/lib/python3.7/site-packages/mne/io/pick.py:385: DeprecationWarning: `np.bool` is a deprecated alias for the builtin `bool`. To silence this warning, use `bool` by itself. Doing this will not modify any behavior and is safe. If you specifically wanted the numpy scalar type, use `np.bool_` here.\n",
      "Deprecated in NumPy 1.20; for more details and guidance: https://numpy.org/devdocs/release/1.20.0-notes.html#deprecations\n",
      "  pick = np.zeros(nchan, dtype=np.bool)\n"
     ]
    },
    {
     "name": "stdout",
     "output_type": "stream",
     "text": [
      "Filtering raw data in 1 contiguous segment\n",
      "Setting up band-pass filter from 4 - 38 Hz\n",
      "\n",
      "FIR filter parameters\n",
      "---------------------\n",
      "Designing a one-pass, zero-phase, non-causal bandpass filter:\n",
      "- Windowed time-domain design (firwin) method\n",
      "- Hamming window with 0.0194 passband ripple and 53 dB stopband attenuation\n",
      "- Lower passband edge: 4.00\n",
      "- Lower transition bandwidth: 2.00 Hz (-6 dB cutoff frequency: 3.00 Hz)\n",
      "- Upper passband edge: 38.00 Hz\n",
      "- Upper transition bandwidth: 9.50 Hz (-6 dB cutoff frequency: 42.75 Hz)\n",
      "- Filter length: 825 samples (1.650 sec)\n",
      "\n"
     ]
    },
    {
     "name": "stderr",
     "output_type": "stream",
     "text": [
      "/Users/shivaroshanravan/opt/anaconda3/lib/python3.7/site-packages/mne/io/pick.py:385: DeprecationWarning: `np.bool` is a deprecated alias for the builtin `bool`. To silence this warning, use `bool` by itself. Doing this will not modify any behavior and is safe. If you specifically wanted the numpy scalar type, use `np.bool_` here.\n",
      "Deprecated in NumPy 1.20; for more details and guidance: https://numpy.org/devdocs/release/1.20.0-notes.html#deprecations\n",
      "  pick = np.zeros(nchan, dtype=np.bool)\n",
      "/Users/shivaroshanravan/opt/anaconda3/lib/python3.7/site-packages/mne/io/pick.py:385: DeprecationWarning: `np.bool` is a deprecated alias for the builtin `bool`. To silence this warning, use `bool` by itself. Doing this will not modify any behavior and is safe. If you specifically wanted the numpy scalar type, use `np.bool_` here.\n",
      "Deprecated in NumPy 1.20; for more details and guidance: https://numpy.org/devdocs/release/1.20.0-notes.html#deprecations\n",
      "  pick = np.zeros(nchan, dtype=np.bool)\n",
      "/Users/shivaroshanravan/opt/anaconda3/lib/python3.7/site-packages/mne/filter.py:183: DeprecationWarning: `np.float` is a deprecated alias for the builtin `float`. To silence this warning, use `float` by itself. Doing this will not modify any behavior and is safe. If you specifically wanted the numpy scalar type, use `np.float64` here.\n",
      "Deprecated in NumPy 1.20; for more details and guidance: https://numpy.org/devdocs/release/1.20.0-notes.html#deprecations\n",
      "  N * (np.log2(N) + 1))\n",
      "/Users/shivaroshanravan/opt/anaconda3/lib/python3.7/site-packages/mne/io/pick.py:385: DeprecationWarning: `np.bool` is a deprecated alias for the builtin `bool`. To silence this warning, use `bool` by itself. Doing this will not modify any behavior and is safe. If you specifically wanted the numpy scalar type, use `np.bool_` here.\n",
      "Deprecated in NumPy 1.20; for more details and guidance: https://numpy.org/devdocs/release/1.20.0-notes.html#deprecations\n",
      "  pick = np.zeros(nchan, dtype=np.bool)\n",
      "/Users/shivaroshanravan/opt/anaconda3/lib/python3.7/site-packages/mne/io/pick.py:385: DeprecationWarning: `np.bool` is a deprecated alias for the builtin `bool`. To silence this warning, use `bool` by itself. Doing this will not modify any behavior and is safe. If you specifically wanted the numpy scalar type, use `np.bool_` here.\n",
      "Deprecated in NumPy 1.20; for more details and guidance: https://numpy.org/devdocs/release/1.20.0-notes.html#deprecations\n",
      "  pick = np.zeros(nchan, dtype=np.bool)\n",
      "/Users/shivaroshanravan/opt/anaconda3/lib/python3.7/site-packages/mne/io/pick.py:385: DeprecationWarning: `np.bool` is a deprecated alias for the builtin `bool`. To silence this warning, use `bool` by itself. Doing this will not modify any behavior and is safe. If you specifically wanted the numpy scalar type, use `np.bool_` here.\n",
      "Deprecated in NumPy 1.20; for more details and guidance: https://numpy.org/devdocs/release/1.20.0-notes.html#deprecations\n",
      "  pick = np.zeros(nchan, dtype=np.bool)\n"
     ]
    },
    {
     "name": "stdout",
     "output_type": "stream",
     "text": [
      "Filtering raw data in 1 contiguous segment\n",
      "Setting up band-pass filter from 4 - 38 Hz\n",
      "\n",
      "FIR filter parameters\n",
      "---------------------\n",
      "Designing a one-pass, zero-phase, non-causal bandpass filter:\n",
      "- Windowed time-domain design (firwin) method\n",
      "- Hamming window with 0.0194 passband ripple and 53 dB stopband attenuation\n",
      "- Lower passband edge: 4.00\n",
      "- Lower transition bandwidth: 2.00 Hz (-6 dB cutoff frequency: 3.00 Hz)\n",
      "- Upper passband edge: 38.00 Hz\n",
      "- Upper transition bandwidth: 9.50 Hz (-6 dB cutoff frequency: 42.75 Hz)\n",
      "- Filter length: 825 samples (1.650 sec)\n",
      "\n"
     ]
    },
    {
     "name": "stderr",
     "output_type": "stream",
     "text": [
      "/Users/shivaroshanravan/opt/anaconda3/lib/python3.7/site-packages/mne/io/pick.py:385: DeprecationWarning: `np.bool` is a deprecated alias for the builtin `bool`. To silence this warning, use `bool` by itself. Doing this will not modify any behavior and is safe. If you specifically wanted the numpy scalar type, use `np.bool_` here.\n",
      "Deprecated in NumPy 1.20; for more details and guidance: https://numpy.org/devdocs/release/1.20.0-notes.html#deprecations\n",
      "  pick = np.zeros(nchan, dtype=np.bool)\n",
      "/Users/shivaroshanravan/opt/anaconda3/lib/python3.7/site-packages/mne/io/pick.py:385: DeprecationWarning: `np.bool` is a deprecated alias for the builtin `bool`. To silence this warning, use `bool` by itself. Doing this will not modify any behavior and is safe. If you specifically wanted the numpy scalar type, use `np.bool_` here.\n",
      "Deprecated in NumPy 1.20; for more details and guidance: https://numpy.org/devdocs/release/1.20.0-notes.html#deprecations\n",
      "  pick = np.zeros(nchan, dtype=np.bool)\n",
      "/Users/shivaroshanravan/opt/anaconda3/lib/python3.7/site-packages/mne/filter.py:183: DeprecationWarning: `np.float` is a deprecated alias for the builtin `float`. To silence this warning, use `float` by itself. Doing this will not modify any behavior and is safe. If you specifically wanted the numpy scalar type, use `np.float64` here.\n",
      "Deprecated in NumPy 1.20; for more details and guidance: https://numpy.org/devdocs/release/1.20.0-notes.html#deprecations\n",
      "  N * (np.log2(N) + 1))\n",
      "/Users/shivaroshanravan/opt/anaconda3/lib/python3.7/site-packages/mne/io/pick.py:385: DeprecationWarning: `np.bool` is a deprecated alias for the builtin `bool`. To silence this warning, use `bool` by itself. Doing this will not modify any behavior and is safe. If you specifically wanted the numpy scalar type, use `np.bool_` here.\n",
      "Deprecated in NumPy 1.20; for more details and guidance: https://numpy.org/devdocs/release/1.20.0-notes.html#deprecations\n",
      "  pick = np.zeros(nchan, dtype=np.bool)\n"
     ]
    }
   ],
   "source": [
    "from braindecode.datautil.preprocess import (exponential_moving_standardize, preprocess, Preprocessor)\n",
    "\n",
    "low_cut_hz = 4.  # low cut frequency for filtering\n",
    "high_cut_hz = 38.  # high cut frequency for filtering\n",
    "# Parameters for exponential moving standardization\n",
    "factor_new = 1e-3\n",
    "init_block_size = 1000\n",
    "\n",
    "preprocessors = [\n",
    "    Preprocessor('pick_types', eeg=True, meg=False, stim=False),  # Keep EEG sensors\n",
    "    Preprocessor(lambda x: x * 1e6),  # Convert from V to uV\n",
    "    Preprocessor('filter', l_freq=low_cut_hz, h_freq=high_cut_hz),  # Bandpass filter\n",
    "    Preprocessor(exponential_moving_standardize,  # Exponential moving standardization\n",
    "                 factor_new=factor_new, init_block_size=init_block_size)\n",
    "]\n",
    "\n",
    "# Transform the data\n",
    "\n",
    "preprocess(dataset, preprocessors)\n"
   ]
  },
  {
   "cell_type": "markdown",
   "metadata": {},
   "source": [
    "## mkdir path to save"
   ]
  },
  {
   "cell_type": "code",
   "execution_count": 4,
   "metadata": {},
   "outputs": [],
   "source": [
    "import os\n",
    "path = os.path.join('../../data-file/hgd-raw/' + str(subject_id))\n",
    "if not os.path.exists(path):\n",
    "    os.makedirs(path)"
   ]
  },
  {
   "cell_type": "markdown",
   "metadata": {
    "id": "ZGUfx-IenwuI"
   },
   "source": [
    "## save sets"
   ]
  },
  {
   "cell_type": "code",
   "execution_count": 6,
   "metadata": {
    "id": "4iscSzw6nzjD"
   },
   "outputs": [
    {
     "name": "stdout",
     "output_type": "stream",
     "text": [
      "Writing /Users/shivaroshanravan/Documents/GitHub/MotorImagery-Classification/data-file/hgd-raw/1/0-raw.fif\n"
     ]
    },
    {
     "ename": "AttributeError",
     "evalue": "'numpy.ndarray' object has no attribute 'get'",
     "output_type": "error",
     "traceback": [
      "\u001b[0;31m---------------------------------------------------------------------------\u001b[0m",
      "\u001b[0;31mAttributeError\u001b[0m                            Traceback (most recent call last)",
      "\u001b[0;32m<ipython-input-6-1303395fdd43>\u001b[0m in \u001b[0;36m<module>\u001b[0;34m\u001b[0m\n\u001b[0;32m----> 1\u001b[0;31m \u001b[0mdataset\u001b[0m\u001b[0;34m.\u001b[0m\u001b[0msave\u001b[0m\u001b[0;34m(\u001b[0m\u001b[0mpath\u001b[0m\u001b[0;34m=\u001b[0m\u001b[0;34m'../../data-file/hgd-raw/'\u001b[0m \u001b[0;34m+\u001b[0m \u001b[0mstr\u001b[0m\u001b[0;34m(\u001b[0m\u001b[0msubject_id\u001b[0m\u001b[0;34m)\u001b[0m\u001b[0;34m)\u001b[0m\u001b[0;34m\u001b[0m\u001b[0;34m\u001b[0m\u001b[0m\n\u001b[0m",
      "\u001b[0;32m~/opt/anaconda3/lib/python3.7/site-packages/braindecode/datasets/base.py\u001b[0m in \u001b[0;36msave\u001b[0;34m(self, path, overwrite)\u001b[0m\n\u001b[1;32m    284\u001b[0m             \u001b[0mfull_file_path\u001b[0m \u001b[0;34m=\u001b[0m \u001b[0mos\u001b[0m\u001b[0;34m.\u001b[0m\u001b[0mpath\u001b[0m\u001b[0;34m.\u001b[0m\u001b[0mjoin\u001b[0m\u001b[0;34m(\u001b[0m\u001b[0mpath\u001b[0m\u001b[0;34m,\u001b[0m \u001b[0mfile_name\u001b[0m\u001b[0;34m.\u001b[0m\u001b[0mformat\u001b[0m\u001b[0;34m(\u001b[0m\u001b[0mi_ds\u001b[0m\u001b[0;34m)\u001b[0m\u001b[0;34m)\u001b[0m\u001b[0;34m\u001b[0m\u001b[0;34m\u001b[0m\u001b[0m\n\u001b[1;32m    285\u001b[0m             \u001b[0;32mif\u001b[0m \u001b[0mconcat_of_raws\u001b[0m\u001b[0;34m:\u001b[0m\u001b[0;34m\u001b[0m\u001b[0;34m\u001b[0m\u001b[0m\n\u001b[0;32m--> 286\u001b[0;31m                 \u001b[0mds\u001b[0m\u001b[0;34m.\u001b[0m\u001b[0mraw\u001b[0m\u001b[0;34m.\u001b[0m\u001b[0msave\u001b[0m\u001b[0;34m(\u001b[0m\u001b[0mfull_file_path\u001b[0m\u001b[0;34m,\u001b[0m \u001b[0moverwrite\u001b[0m\u001b[0;34m=\u001b[0m\u001b[0moverwrite\u001b[0m\u001b[0;34m)\u001b[0m\u001b[0;34m\u001b[0m\u001b[0;34m\u001b[0m\u001b[0m\n\u001b[0m\u001b[1;32m    287\u001b[0m                 \u001b[0;32massert\u001b[0m \u001b[0mds\u001b[0m\u001b[0;34m.\u001b[0m\u001b[0mtarget_name\u001b[0m \u001b[0;34m==\u001b[0m \u001b[0mtarget_name\u001b[0m\u001b[0;34m,\u001b[0m \u001b[0;34m\"All datasets should have same target name\"\u001b[0m\u001b[0;34m\u001b[0m\u001b[0;34m\u001b[0m\u001b[0m\n\u001b[1;32m    288\u001b[0m             \u001b[0;32melse\u001b[0m\u001b[0;34m:\u001b[0m\u001b[0;34m\u001b[0m\u001b[0;34m\u001b[0m\u001b[0m\n",
      "\u001b[0;32m<decorator-gen-155>\u001b[0m in \u001b[0;36msave\u001b[0;34m(self, fname, picks, tmin, tmax, buffer_size_sec, drop_small_buffer, proj, fmt, overwrite, split_size, split_naming, verbose)\u001b[0m\n",
      "\u001b[0;32m~/opt/anaconda3/lib/python3.7/site-packages/mne/io/base.py\u001b[0m in \u001b[0;36msave\u001b[0;34m(self, fname, picks, tmin, tmax, buffer_size_sec, drop_small_buffer, proj, fmt, overwrite, split_size, split_naming, verbose)\u001b[0m\n\u001b[1;32m   1345\u001b[0m         _write_raw(fname, self, info, picks, fmt, data_type, reset_range,\n\u001b[1;32m   1346\u001b[0m                    \u001b[0mstart\u001b[0m\u001b[0;34m,\u001b[0m \u001b[0mstop\u001b[0m\u001b[0;34m,\u001b[0m \u001b[0mbuffer_size\u001b[0m\u001b[0;34m,\u001b[0m \u001b[0mprojector\u001b[0m\u001b[0;34m,\u001b[0m \u001b[0mdrop_small_buffer\u001b[0m\u001b[0;34m,\u001b[0m\u001b[0;34m\u001b[0m\u001b[0;34m\u001b[0m\u001b[0m\n\u001b[0;32m-> 1347\u001b[0;31m                    split_size, split_naming, part_idx, None, overwrite)\n\u001b[0m\u001b[1;32m   1348\u001b[0m \u001b[0;34m\u001b[0m\u001b[0m\n\u001b[1;32m   1349\u001b[0m     \u001b[0;32mdef\u001b[0m \u001b[0m_tmin_tmax_to_start_stop\u001b[0m\u001b[0;34m(\u001b[0m\u001b[0mself\u001b[0m\u001b[0;34m,\u001b[0m \u001b[0mtmin\u001b[0m\u001b[0;34m,\u001b[0m \u001b[0mtmax\u001b[0m\u001b[0;34m)\u001b[0m\u001b[0;34m:\u001b[0m\u001b[0;34m\u001b[0m\u001b[0;34m\u001b[0m\u001b[0m\n",
      "\u001b[0;32m~/opt/anaconda3/lib/python3.7/site-packages/mne/io/base.py\u001b[0m in \u001b[0;36m_write_raw\u001b[0;34m(fname, raw, info, picks, fmt, data_type, reset_range, start, stop, buffer_size, projector, drop_small_buffer, split_size, split_naming, part_idx, prev_fname, overwrite)\u001b[0m\n\u001b[1;32m   1797\u001b[0m     \u001b[0mpicks\u001b[0m \u001b[0;34m=\u001b[0m \u001b[0m_picks_to_idx\u001b[0m\u001b[0;34m(\u001b[0m\u001b[0minfo\u001b[0m\u001b[0;34m,\u001b[0m \u001b[0mpicks\u001b[0m\u001b[0;34m,\u001b[0m \u001b[0;34m'all'\u001b[0m\u001b[0;34m,\u001b[0m \u001b[0;34m(\u001b[0m\u001b[0;34m)\u001b[0m\u001b[0;34m)\u001b[0m\u001b[0;34m\u001b[0m\u001b[0;34m\u001b[0m\u001b[0m\n\u001b[1;32m   1798\u001b[0m     fid, cals = _start_writing_raw(use_fname, info, picks, data_type,\n\u001b[0;32m-> 1799\u001b[0;31m                                    reset_range, raw.annotations)\n\u001b[0m\u001b[1;32m   1800\u001b[0m \u001b[0;34m\u001b[0m\u001b[0m\n\u001b[1;32m   1801\u001b[0m     \u001b[0mfirst_samp\u001b[0m \u001b[0;34m=\u001b[0m \u001b[0mraw\u001b[0m\u001b[0;34m.\u001b[0m\u001b[0mfirst_samp\u001b[0m \u001b[0;34m+\u001b[0m \u001b[0mstart\u001b[0m\u001b[0;34m\u001b[0m\u001b[0;34m\u001b[0m\u001b[0m\n",
      "\u001b[0;32m~/opt/anaconda3/lib/python3.7/site-packages/mne/io/base.py\u001b[0m in \u001b[0;36m_start_writing_raw\u001b[0;34m(name, info, sel, data_type, reset_range, annotations)\u001b[0m\n\u001b[1;32m   1970\u001b[0m         \u001b[0mcals\u001b[0m\u001b[0;34m.\u001b[0m\u001b[0mappend\u001b[0m\u001b[0;34m(\u001b[0m\u001b[0minfo\u001b[0m\u001b[0;34m[\u001b[0m\u001b[0;34m'chs'\u001b[0m\u001b[0;34m]\u001b[0m\u001b[0;34m[\u001b[0m\u001b[0mk\u001b[0m\u001b[0;34m]\u001b[0m\u001b[0;34m[\u001b[0m\u001b[0;34m'cal'\u001b[0m\u001b[0;34m]\u001b[0m \u001b[0;34m*\u001b[0m \u001b[0minfo\u001b[0m\u001b[0;34m[\u001b[0m\u001b[0;34m'chs'\u001b[0m\u001b[0;34m]\u001b[0m\u001b[0;34m[\u001b[0m\u001b[0mk\u001b[0m\u001b[0;34m]\u001b[0m\u001b[0;34m[\u001b[0m\u001b[0;34m'range'\u001b[0m\u001b[0;34m]\u001b[0m\u001b[0;34m)\u001b[0m\u001b[0;34m\u001b[0m\u001b[0;34m\u001b[0m\u001b[0m\n\u001b[1;32m   1971\u001b[0m \u001b[0;34m\u001b[0m\u001b[0m\n\u001b[0;32m-> 1972\u001b[0;31m     \u001b[0mwrite_meas_info\u001b[0m\u001b[0;34m(\u001b[0m\u001b[0mfid\u001b[0m\u001b[0;34m,\u001b[0m \u001b[0minfo\u001b[0m\u001b[0;34m,\u001b[0m \u001b[0mdata_type\u001b[0m\u001b[0;34m=\u001b[0m\u001b[0mdata_type\u001b[0m\u001b[0;34m,\u001b[0m \u001b[0mreset_range\u001b[0m\u001b[0;34m=\u001b[0m\u001b[0mreset_range\u001b[0m\u001b[0;34m)\u001b[0m\u001b[0;34m\u001b[0m\u001b[0;34m\u001b[0m\u001b[0m\n\u001b[0m\u001b[1;32m   1973\u001b[0m \u001b[0;34m\u001b[0m\u001b[0m\n\u001b[1;32m   1974\u001b[0m     \u001b[0;31m#\u001b[0m\u001b[0;34m\u001b[0m\u001b[0;34m\u001b[0m\u001b[0;34m\u001b[0m\u001b[0m\n",
      "\u001b[0;32m~/opt/anaconda3/lib/python3.7/site-packages/mne/io/meas_info.py\u001b[0m in \u001b[0;36mwrite_meas_info\u001b[0;34m(fid, info, data_type, reset_range)\u001b[0m\n\u001b[1;32m   1475\u001b[0m     \u001b[0;32mfor\u001b[0m \u001b[0mevent\u001b[0m \u001b[0;32min\u001b[0m \u001b[0minfo\u001b[0m\u001b[0;34m[\u001b[0m\u001b[0;34m'events'\u001b[0m\u001b[0;34m]\u001b[0m\u001b[0;34m:\u001b[0m\u001b[0;34m\u001b[0m\u001b[0;34m\u001b[0m\u001b[0m\n\u001b[1;32m   1476\u001b[0m         \u001b[0mstart_block\u001b[0m\u001b[0;34m(\u001b[0m\u001b[0mfid\u001b[0m\u001b[0;34m,\u001b[0m \u001b[0mFIFF\u001b[0m\u001b[0;34m.\u001b[0m\u001b[0mFIFFB_EVENTS\u001b[0m\u001b[0;34m)\u001b[0m\u001b[0;34m\u001b[0m\u001b[0;34m\u001b[0m\u001b[0m\n\u001b[0;32m-> 1477\u001b[0;31m         \u001b[0;32mif\u001b[0m \u001b[0mevent\u001b[0m\u001b[0;34m.\u001b[0m\u001b[0mget\u001b[0m\u001b[0;34m(\u001b[0m\u001b[0;34m'channels'\u001b[0m\u001b[0;34m)\u001b[0m \u001b[0;32mis\u001b[0m \u001b[0;32mnot\u001b[0m \u001b[0;32mNone\u001b[0m\u001b[0;34m:\u001b[0m\u001b[0;34m\u001b[0m\u001b[0;34m\u001b[0m\u001b[0m\n\u001b[0m\u001b[1;32m   1478\u001b[0m             \u001b[0mwrite_int\u001b[0m\u001b[0;34m(\u001b[0m\u001b[0mfid\u001b[0m\u001b[0;34m,\u001b[0m \u001b[0mFIFF\u001b[0m\u001b[0;34m.\u001b[0m\u001b[0mFIFF_EVENT_CHANNELS\u001b[0m\u001b[0;34m,\u001b[0m \u001b[0mevent\u001b[0m\u001b[0;34m[\u001b[0m\u001b[0;34m'channels'\u001b[0m\u001b[0;34m]\u001b[0m\u001b[0;34m)\u001b[0m\u001b[0;34m\u001b[0m\u001b[0;34m\u001b[0m\u001b[0m\n\u001b[1;32m   1479\u001b[0m         \u001b[0;32mif\u001b[0m \u001b[0mevent\u001b[0m\u001b[0;34m.\u001b[0m\u001b[0mget\u001b[0m\u001b[0;34m(\u001b[0m\u001b[0;34m'list'\u001b[0m\u001b[0;34m)\u001b[0m \u001b[0;32mis\u001b[0m \u001b[0;32mnot\u001b[0m \u001b[0;32mNone\u001b[0m\u001b[0;34m:\u001b[0m\u001b[0;34m\u001b[0m\u001b[0;34m\u001b[0m\u001b[0m\n",
      "\u001b[0;31mAttributeError\u001b[0m: 'numpy.ndarray' object has no attribute 'get'"
     ]
    }
   ],
   "source": [
    "dataset.save(path='../../data-file/hgd-raw/' + str(subject_id))"
   ]
  },
  {
   "cell_type": "code",
   "execution_count": null,
   "metadata": {},
   "outputs": [],
   "source": []
  }
 ],
 "metadata": {
  "accelerator": "GPU",
  "colab": {
   "authorship_tag": "ABX9TyPmbAKqoSLpwkc2G1zko+JC",
   "collapsed_sections": [],
   "mount_file_id": "1iWS7YFaT6jpipNP6kl-WmIFOkSKBN5tW",
   "name": "hg-preproccess.ipynb",
   "provenance": []
  },
  "kernelspec": {
   "display_name": "Python 3",
   "language": "python",
   "name": "python3"
  },
  "language_info": {
   "codemirror_mode": {
    "name": "ipython",
    "version": 3
   },
   "file_extension": ".py",
   "mimetype": "text/x-python",
   "name": "python",
   "nbconvert_exporter": "python",
   "pygments_lexer": "ipython3",
   "version": "3.7.6"
  }
 },
 "nbformat": 4,
 "nbformat_minor": 1
}
