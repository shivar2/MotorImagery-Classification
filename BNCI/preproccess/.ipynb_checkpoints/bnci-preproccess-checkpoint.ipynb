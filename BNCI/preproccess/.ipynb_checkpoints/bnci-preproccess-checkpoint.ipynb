{
 "cells": [
  {
   "cell_type": "markdown",
   "metadata": {
    "id": "m1bkIWPqLJff"
   },
   "source": [
    "# install moabb & braindecode"
   ]
  },
  {
   "cell_type": "code",
   "execution_count": 1,
   "metadata": {
    "colab": {
     "base_uri": "https://localhost:8080/"
    },
    "collapsed": true,
    "executionInfo": {
     "elapsed": 18408,
     "status": "ok",
     "timestamp": 1623774556525,
     "user": {
      "displayName": "shiva Roshan raven",
      "photoUrl": "",
      "userId": "03552922279107123066"
     },
     "user_tz": -270
    },
    "id": "0mLQ5sICT9e1",
    "outputId": "b3aa2b9f-b34f-4cc9-c291-98313a3c4996"
   },
   "outputs": [
    {
     "name": "stdout",
     "output_type": "stream",
     "text": [
      "Collecting moabb\n",
      "\u001b[?25l  Downloading https://files.pythonhosted.org/packages/d3/80/299073496cbceb304f3375f52e888ca3f73ab5e2c20e16a68083bd783175/moabb-0.4.0-py3-none-any.whl (122kB)\n",
      "\r",
      "\u001b[K     |██▊                             | 10kB 14.6MB/s eta 0:00:01\r",
      "\u001b[K     |█████▍                          | 20kB 21.2MB/s eta 0:00:01\r",
      "\u001b[K     |████████                        | 30kB 24.6MB/s eta 0:00:01\r",
      "\u001b[K     |██████████▊                     | 40kB 27.1MB/s eta 0:00:01\r",
      "\u001b[K     |█████████████▍                  | 51kB 29.2MB/s eta 0:00:01\r",
      "\u001b[K     |████████████████                | 61kB 27.4MB/s eta 0:00:01\r",
      "\u001b[K     |██████████████████▊             | 71kB 25.8MB/s eta 0:00:01\r",
      "\u001b[K     |█████████████████████▍          | 81kB 25.9MB/s eta 0:00:01\r",
      "\u001b[K     |████████████████████████        | 92kB 24.6MB/s eta 0:00:01\r",
      "\u001b[K     |██████████████████████████▊     | 102kB 25.7MB/s eta 0:00:01\r",
      "\u001b[K     |█████████████████████████████▍  | 112kB 25.7MB/s eta 0:00:01\r",
      "\u001b[K     |████████████████████████████████| 122kB 25.7MB/s \n",
      "\u001b[?25hCollecting pyriemann>=0.2.6\n",
      "\u001b[?25l  Downloading https://files.pythonhosted.org/packages/e0/5e/1df5684d9f43b574d7e2807869578750da94286508ab2129d62c26c1eef0/pyriemann-0.2.6-py2.py3-none-any.whl (41kB)\n",
      "\r",
      "\u001b[K     |████████                        | 10kB 27.0MB/s eta 0:00:01\r",
      "\u001b[K     |████████████████                | 20kB 33.3MB/s eta 0:00:01\r",
      "\u001b[K     |████████████████████████        | 30kB 37.5MB/s eta 0:00:01\r",
      "\u001b[K     |████████████████████████████████| 40kB 39.9MB/s eta 0:00:01\r",
      "\u001b[K     |████████████████████████████████| 51kB 8.2MB/s \n",
      "\u001b[?25hRequirement already satisfied: pooch<2.0.0,>=1.3.0 in /usr/local/lib/python3.7/dist-packages (from moabb) (1.4.0)\n",
      "Requirement already satisfied: matplotlib<4.0.0,>=3.0.0 in /usr/local/lib/python3.7/dist-packages (from moabb) (3.2.2)\n",
      "Requirement already satisfied: requests<3.0.0,>=2.15.1 in /usr/local/lib/python3.7/dist-packages (from moabb) (2.23.0)\n",
      "Requirement already satisfied: pandas<2.0.0,>=1.0.0 in /usr/local/lib/python3.7/dist-packages (from moabb) (1.1.5)\n",
      "Collecting scipy<2.0,>=1.5\n",
      "\u001b[?25l  Downloading https://files.pythonhosted.org/packages/7d/e8/43ffca541d2f208d516296950b25fe1084b35c2881f4d444c1346ca75815/scipy-1.6.3-cp37-cp37m-manylinux1_x86_64.whl (27.4MB)\n",
      "\u001b[K     |████████████████████████████████| 27.4MB 118kB/s \n",
      "\u001b[?25hRequirement already satisfied: seaborn>=0.9.0 in /usr/local/lib/python3.7/dist-packages (from moabb) (0.11.1)\n",
      "Requirement already satisfied: numpy<2.0.0,>=1.19.0 in /usr/local/lib/python3.7/dist-packages (from moabb) (1.19.5)\n",
      "Requirement already satisfied: h5py<4.0.0,>=3.0.0 in /usr/local/lib/python3.7/dist-packages (from moabb) (3.1.0)\n",
      "Collecting scikit-learn<0.24,>=0.23\n",
      "\u001b[?25l  Downloading https://files.pythonhosted.org/packages/f4/cb/64623369f348e9bfb29ff898a57ac7c91ed4921f228e9726546614d63ccb/scikit_learn-0.23.2-cp37-cp37m-manylinux1_x86_64.whl (6.8MB)\n",
      "\u001b[K     |████████████████████████████████| 6.8MB 37.2MB/s \n",
      "\u001b[?25hCollecting mne>=0.19\n",
      "\u001b[?25l  Downloading https://files.pythonhosted.org/packages/60/f7/2bf5de3fad42b66d00ee27539bc3be0260b4e66fdecc12f740cdf2daf2e7/mne-0.23.0-py3-none-any.whl (6.9MB)\n",
      "\u001b[K     |████████████████████████████████| 7.0MB 41.8MB/s \n",
      "\u001b[?25hCollecting PyYAML<6.0.0,>=5.0.0\n",
      "\u001b[?25l  Downloading https://files.pythonhosted.org/packages/7a/a5/393c087efdc78091afa2af9f1378762f9821c9c1d7a22c5753fb5ac5f97a/PyYAML-5.4.1-cp37-cp37m-manylinux1_x86_64.whl (636kB)\n",
      "\u001b[K     |████████████████████████████████| 645kB 36.0MB/s \n",
      "\u001b[?25hRequirement already satisfied: joblib in /usr/local/lib/python3.7/dist-packages (from pyriemann>=0.2.6->moabb) (1.0.1)\n",
      "Requirement already satisfied: packaging in /usr/local/lib/python3.7/dist-packages (from pooch<2.0.0,>=1.3.0->moabb) (20.9)\n",
      "Requirement already satisfied: appdirs in /usr/local/lib/python3.7/dist-packages (from pooch<2.0.0,>=1.3.0->moabb) (1.4.4)\n",
      "Requirement already satisfied: cycler>=0.10 in /usr/local/lib/python3.7/dist-packages (from matplotlib<4.0.0,>=3.0.0->moabb) (0.10.0)\n",
      "Requirement already satisfied: kiwisolver>=1.0.1 in /usr/local/lib/python3.7/dist-packages (from matplotlib<4.0.0,>=3.0.0->moabb) (1.3.1)\n",
      "Requirement already satisfied: pyparsing!=2.0.4,!=2.1.2,!=2.1.6,>=2.0.1 in /usr/local/lib/python3.7/dist-packages (from matplotlib<4.0.0,>=3.0.0->moabb) (2.4.7)\n",
      "Requirement already satisfied: python-dateutil>=2.1 in /usr/local/lib/python3.7/dist-packages (from matplotlib<4.0.0,>=3.0.0->moabb) (2.8.1)\n",
      "Requirement already satisfied: idna<3,>=2.5 in /usr/local/lib/python3.7/dist-packages (from requests<3.0.0,>=2.15.1->moabb) (2.10)\n",
      "Requirement already satisfied: urllib3!=1.25.0,!=1.25.1,<1.26,>=1.21.1 in /usr/local/lib/python3.7/dist-packages (from requests<3.0.0,>=2.15.1->moabb) (1.24.3)\n",
      "Requirement already satisfied: chardet<4,>=3.0.2 in /usr/local/lib/python3.7/dist-packages (from requests<3.0.0,>=2.15.1->moabb) (3.0.4)\n",
      "Requirement already satisfied: certifi>=2017.4.17 in /usr/local/lib/python3.7/dist-packages (from requests<3.0.0,>=2.15.1->moabb) (2021.5.30)\n",
      "Requirement already satisfied: pytz>=2017.2 in /usr/local/lib/python3.7/dist-packages (from pandas<2.0.0,>=1.0.0->moabb) (2018.9)\n",
      "Requirement already satisfied: cached-property; python_version < \"3.8\" in /usr/local/lib/python3.7/dist-packages (from h5py<4.0.0,>=3.0.0->moabb) (1.5.2)\n",
      "Collecting threadpoolctl>=2.0.0\n",
      "  Downloading https://files.pythonhosted.org/packages/f7/12/ec3f2e203afa394a149911729357aa48affc59c20e2c1c8297a60f33f133/threadpoolctl-2.1.0-py3-none-any.whl\n",
      "Requirement already satisfied: six in /usr/local/lib/python3.7/dist-packages (from cycler>=0.10->matplotlib<4.0.0,>=3.0.0->moabb) (1.15.0)\n",
      "\u001b[31mERROR: albumentations 0.1.12 has requirement imgaug<0.2.7,>=0.2.5, but you'll have imgaug 0.2.9 which is incompatible.\u001b[0m\n",
      "Installing collected packages: scipy, threadpoolctl, scikit-learn, pyriemann, mne, PyYAML, moabb\n",
      "  Found existing installation: scipy 1.4.1\n",
      "    Uninstalling scipy-1.4.1:\n",
      "      Successfully uninstalled scipy-1.4.1\n",
      "  Found existing installation: scikit-learn 0.22.2.post1\n",
      "    Uninstalling scikit-learn-0.22.2.post1:\n",
      "      Successfully uninstalled scikit-learn-0.22.2.post1\n",
      "  Found existing installation: PyYAML 3.13\n",
      "    Uninstalling PyYAML-3.13:\n",
      "      Successfully uninstalled PyYAML-3.13\n",
      "Successfully installed PyYAML-5.4.1 mne-0.23.0 moabb-0.4.0 pyriemann-0.2.6 scikit-learn-0.23.2 scipy-1.6.3 threadpoolctl-2.1.0\n"
     ]
    }
   ],
   "source": [
    "pip install moabb"
   ]
  },
  {
   "cell_type": "code",
   "execution_count": 2,
   "metadata": {
    "colab": {
     "base_uri": "https://localhost:8080/"
    },
    "collapsed": true,
    "executionInfo": {
     "elapsed": 3178,
     "status": "ok",
     "timestamp": 1623774559699,
     "user": {
      "displayName": "shiva Roshan raven",
      "photoUrl": "",
      "userId": "03552922279107123066"
     },
     "user_tz": -270
    },
    "id": "L69nj9XVUHCN",
    "outputId": "d6e76729-3f88-4af5-fd42-7f0967a9abeb"
   },
   "outputs": [
    {
     "name": "stdout",
     "output_type": "stream",
     "text": [
      "Collecting braindecode\n",
      "\u001b[?25l  Downloading https://files.pythonhosted.org/packages/3f/dd/4d258c9b525b46ce22753f86b9cacb7c7ca74dd69ced2adcfff160183797/Braindecode-0.5.1-py3-none-any.whl (97kB)\n",
      "\r",
      "\u001b[K     |███▍                            | 10kB 17.4MB/s eta 0:00:01\r",
      "\u001b[K     |██████▊                         | 20kB 24.9MB/s eta 0:00:01\r",
      "\u001b[K     |██████████                      | 30kB 29.2MB/s eta 0:00:01\r",
      "\u001b[K     |█████████████▍                  | 40kB 29.6MB/s eta 0:00:01\r",
      "\u001b[K     |████████████████▉               | 51kB 31.0MB/s eta 0:00:01\r",
      "\u001b[K     |████████████████████▏           | 61kB 33.2MB/s eta 0:00:01\r",
      "\u001b[K     |███████████████████████▌        | 71kB 28.7MB/s eta 0:00:01\r",
      "\u001b[K     |██████████████████████████▉     | 81kB 29.9MB/s eta 0:00:01\r",
      "\u001b[K     |██████████████████████████████▏ | 92kB 31.5MB/s eta 0:00:01\r",
      "\u001b[K     |████████████████████████████████| 102kB 11.5MB/s \n",
      "\u001b[?25hRequirement already satisfied: matplotlib in /usr/local/lib/python3.7/dist-packages (from braindecode) (3.2.2)\n",
      "Collecting skorch\n",
      "\u001b[?25l  Downloading https://files.pythonhosted.org/packages/78/bd/f714a726f2f3106abe5a24d11b1fe8e20570323479164b829f5d4b80f7f2/skorch-0.10.0-py3-none-any.whl (128kB)\n",
      "\u001b[K     |████████████████████████████████| 133kB 37.0MB/s \n",
      "\u001b[?25hRequirement already satisfied: mne in /usr/local/lib/python3.7/dist-packages (from braindecode) (0.23.0)\n",
      "Requirement already satisfied: scipy in /usr/local/lib/python3.7/dist-packages (from braindecode) (1.6.3)\n",
      "Requirement already satisfied: numpy in /usr/local/lib/python3.7/dist-packages (from braindecode) (1.19.5)\n",
      "Requirement already satisfied: pandas in /usr/local/lib/python3.7/dist-packages (from braindecode) (1.1.5)\n",
      "Requirement already satisfied: h5py in /usr/local/lib/python3.7/dist-packages (from braindecode) (3.1.0)\n",
      "Requirement already satisfied: cycler>=0.10 in /usr/local/lib/python3.7/dist-packages (from matplotlib->braindecode) (0.10.0)\n",
      "Requirement already satisfied: pyparsing!=2.0.4,!=2.1.2,!=2.1.6,>=2.0.1 in /usr/local/lib/python3.7/dist-packages (from matplotlib->braindecode) (2.4.7)\n",
      "Requirement already satisfied: kiwisolver>=1.0.1 in /usr/local/lib/python3.7/dist-packages (from matplotlib->braindecode) (1.3.1)\n",
      "Requirement already satisfied: python-dateutil>=2.1 in /usr/local/lib/python3.7/dist-packages (from matplotlib->braindecode) (2.8.1)\n",
      "Requirement already satisfied: tabulate>=0.7.7 in /usr/local/lib/python3.7/dist-packages (from skorch->braindecode) (0.8.9)\n",
      "Requirement already satisfied: tqdm>=4.14.0 in /usr/local/lib/python3.7/dist-packages (from skorch->braindecode) (4.41.1)\n",
      "Requirement already satisfied: scikit-learn>=0.19.1 in /usr/local/lib/python3.7/dist-packages (from skorch->braindecode) (0.23.2)\n",
      "Requirement already satisfied: pytz>=2017.2 in /usr/local/lib/python3.7/dist-packages (from pandas->braindecode) (2018.9)\n",
      "Requirement already satisfied: cached-property; python_version < \"3.8\" in /usr/local/lib/python3.7/dist-packages (from h5py->braindecode) (1.5.2)\n",
      "Requirement already satisfied: six in /usr/local/lib/python3.7/dist-packages (from cycler>=0.10->matplotlib->braindecode) (1.15.0)\n",
      "Requirement already satisfied: threadpoolctl>=2.0.0 in /usr/local/lib/python3.7/dist-packages (from scikit-learn>=0.19.1->skorch->braindecode) (2.1.0)\n",
      "Requirement already satisfied: joblib>=0.11 in /usr/local/lib/python3.7/dist-packages (from scikit-learn>=0.19.1->skorch->braindecode) (1.0.1)\n",
      "Installing collected packages: skorch, braindecode\n",
      "Successfully installed braindecode-0.5.1 skorch-0.10.0\n"
     ]
    }
   ],
   "source": [
    "pip install braindecode"
   ]
  },
  {
   "cell_type": "code",
   "execution_count": 3,
   "metadata": {
    "colab": {
     "base_uri": "https://localhost:8080/"
    },
    "collapsed": true,
    "executionInfo": {
     "elapsed": 3869,
     "status": "ok",
     "timestamp": 1623774563561,
     "user": {
      "displayName": "shiva Roshan raven",
      "photoUrl": "",
      "userId": "03552922279107123066"
     },
     "user_tz": -270
    },
    "id": "woIRNt5zUPGc",
    "outputId": "00f5e88d-4fbd-4f25-be4a-84430ba1b923"
   },
   "outputs": [
    {
     "name": "stdout",
     "output_type": "stream",
     "text": [
      "Collecting https://api.github.com/repos/shivar2/braindecode/zipball/master\n",
      "\u001b[?25l  Downloading https://api.github.com/repos/shivar2/braindecode/zipball/master\n",
      "\r",
      "\u001b[K     - 10kB 17.9MB/s\r",
      "\u001b[K     \\ 20kB 26.1MB/s\r",
      "\u001b[K     | 30kB 35.7MB/s\r",
      "\u001b[K     / 40kB 41.5MB/s\r",
      "\u001b[K     - 51kB 25.1MB/s\r",
      "\u001b[K     \\ 61kB 28.2MB/s\r",
      "\u001b[K     | 71kB 24.3MB/s\r",
      "\u001b[K     / 81kB 21.5MB/s\r",
      "\u001b[K     - 92kB 21.5MB/s\r",
      "\u001b[K     \\ 102kB 14.2MB/s\r",
      "\u001b[K     | 112kB 14.2MB/s\r",
      "\u001b[K     / 122kB 14.2MB/s\r",
      "\u001b[K     - 133kB 14.2MB/s\r",
      "\u001b[K     \\ 143kB 14.2MB/s\r",
      "\u001b[K     | 153kB 14.2MB/s\r",
      "\u001b[K     / 163kB 14.2MB/s\r",
      "\u001b[K     - 174kB 14.2MB/s\r",
      "\u001b[K     \\ 184kB 14.2MB/s\r",
      "\u001b[K     | 194kB 14.2MB/s\r",
      "\u001b[K     / 204kB 14.2MB/s\r",
      "\u001b[K     - 215kB 14.2MB/s\r",
      "\u001b[K     \\ 225kB 14.2MB/s\n",
      "\u001b[?25hRequirement already satisfied, skipping upgrade: mne in /usr/local/lib/python3.7/dist-packages (from Braindecode==0.5) (0.23.0)\n",
      "Requirement already satisfied, skipping upgrade: numpy in /usr/local/lib/python3.7/dist-packages (from Braindecode==0.5) (1.19.5)\n",
      "Requirement already satisfied, skipping upgrade: pandas in /usr/local/lib/python3.7/dist-packages (from Braindecode==0.5) (1.1.5)\n",
      "Requirement already satisfied, skipping upgrade: scipy in /usr/local/lib/python3.7/dist-packages (from Braindecode==0.5) (1.6.3)\n",
      "Requirement already satisfied, skipping upgrade: matplotlib in /usr/local/lib/python3.7/dist-packages (from Braindecode==0.5) (3.2.2)\n",
      "Requirement already satisfied, skipping upgrade: h5py in /usr/local/lib/python3.7/dist-packages (from Braindecode==0.5) (3.1.0)\n",
      "Requirement already satisfied, skipping upgrade: skorch in /usr/local/lib/python3.7/dist-packages (from Braindecode==0.5) (0.10.0)\n",
      "Requirement already satisfied, skipping upgrade: pytz>=2017.2 in /usr/local/lib/python3.7/dist-packages (from pandas->Braindecode==0.5) (2018.9)\n",
      "Requirement already satisfied, skipping upgrade: python-dateutil>=2.7.3 in /usr/local/lib/python3.7/dist-packages (from pandas->Braindecode==0.5) (2.8.1)\n",
      "Requirement already satisfied, skipping upgrade: pyparsing!=2.0.4,!=2.1.2,!=2.1.6,>=2.0.1 in /usr/local/lib/python3.7/dist-packages (from matplotlib->Braindecode==0.5) (2.4.7)\n",
      "Requirement already satisfied, skipping upgrade: kiwisolver>=1.0.1 in /usr/local/lib/python3.7/dist-packages (from matplotlib->Braindecode==0.5) (1.3.1)\n",
      "Requirement already satisfied, skipping upgrade: cycler>=0.10 in /usr/local/lib/python3.7/dist-packages (from matplotlib->Braindecode==0.5) (0.10.0)\n",
      "Requirement already satisfied, skipping upgrade: cached-property; python_version < \"3.8\" in /usr/local/lib/python3.7/dist-packages (from h5py->Braindecode==0.5) (1.5.2)\n",
      "Requirement already satisfied, skipping upgrade: tabulate>=0.7.7 in /usr/local/lib/python3.7/dist-packages (from skorch->Braindecode==0.5) (0.8.9)\n",
      "Requirement already satisfied, skipping upgrade: scikit-learn>=0.19.1 in /usr/local/lib/python3.7/dist-packages (from skorch->Braindecode==0.5) (0.23.2)\n",
      "Requirement already satisfied, skipping upgrade: tqdm>=4.14.0 in /usr/local/lib/python3.7/dist-packages (from skorch->Braindecode==0.5) (4.41.1)\n",
      "Requirement already satisfied, skipping upgrade: six>=1.5 in /usr/local/lib/python3.7/dist-packages (from python-dateutil>=2.7.3->pandas->Braindecode==0.5) (1.15.0)\n",
      "Requirement already satisfied, skipping upgrade: threadpoolctl>=2.0.0 in /usr/local/lib/python3.7/dist-packages (from scikit-learn>=0.19.1->skorch->Braindecode==0.5) (2.1.0)\n",
      "Requirement already satisfied, skipping upgrade: joblib>=0.11 in /usr/local/lib/python3.7/dist-packages (from scikit-learn>=0.19.1->skorch->Braindecode==0.5) (1.0.1)\n",
      "Building wheels for collected packages: Braindecode\n",
      "  Building wheel for Braindecode (setup.py) ... \u001b[?25l\u001b[?25hdone\n",
      "  Created wheel for Braindecode: filename=Braindecode-0.5-cp37-none-any.whl size=67275 sha256=89a3db727223a10084f52d0cdbf9fb16f137f0407d36454212eae38313ffe58e\n",
      "  Stored in directory: /tmp/pip-ephem-wheel-cache-zr2z11qo/wheels/e8/96/7e/9b71798fc04d312683ade7e3a639b36579b720176c6a54dc86\n",
      "Successfully built Braindecode\n",
      "Installing collected packages: Braindecode\n",
      "  Found existing installation: Braindecode 0.5.1\n",
      "    Uninstalling Braindecode-0.5.1:\n",
      "      Successfully uninstalled Braindecode-0.5.1\n",
      "Successfully installed Braindecode-0.5\n"
     ]
    }
   ],
   "source": [
    "pip install -U https://api.github.com/repos/shivar2/braindecode/zipball/master"
   ]
  },
  {
   "cell_type": "markdown",
   "metadata": {
    "id": "Ft4PiYJjheN_"
   },
   "source": [
    "# connect to drive"
   ]
  },
  {
   "cell_type": "code",
   "execution_count": 4,
   "metadata": {
    "colab": {
     "base_uri": "https://localhost:8080/"
    },
    "collapsed": true,
    "executionInfo": {
     "elapsed": 17,
     "status": "ok",
     "timestamp": 1623774563562,
     "user": {
      "displayName": "shiva Roshan raven",
      "photoUrl": "",
      "userId": "03552922279107123066"
     },
     "user_tz": -270
    },
    "id": "vNaTOhsHcGHD",
    "outputId": "a6538c43-c9eb-42f1-abb1-af9b54407142"
   },
   "outputs": [
    {
     "name": "stdout",
     "output_type": "stream",
     "text": [
      "Drive already mounted at /content/drive; to attempt to forcibly remount, call drive.mount(\"/content/drive\", force_remount=True).\n"
     ]
    }
   ],
   "source": [
    "from google.colab import drive\n",
    "drive.mount('/content/drive')"
   ]
  },
  {
   "cell_type": "code",
   "execution_count": 5,
   "metadata": {
    "executionInfo": {
     "elapsed": 13,
     "status": "ok",
     "timestamp": 1623774563563,
     "user": {
      "displayName": "shiva Roshan raven",
      "photoUrl": "",
      "userId": "03552922279107123066"
     },
     "user_tz": -270
    },
    "id": "Bz7wrHcXb5cH"
   },
   "outputs": [],
   "source": [
    "import os, sys\n",
    "os.chdir('/content/drive/MyDrive/MotorImagery-Classification')"
   ]
  },
  {
   "cell_type": "markdown",
   "metadata": {
    "id": "XJlldagHLWpS"
   },
   "source": [
    "# preproccess"
   ]
  },
  {
   "cell_type": "markdown",
   "metadata": {
    "id": "wRDxDGvRstAn"
   },
   "source": [
    "## set MNE config"
   ]
  },
  {
   "cell_type": "code",
   "execution_count": 1,
   "metadata": {
    "colab": {
     "base_uri": "https://localhost:8080/"
    },
    "executionInfo": {
     "elapsed": 2181,
     "status": "ok",
     "timestamp": 1623774565732,
     "user": {
      "displayName": "shiva Roshan raven",
      "photoUrl": "",
      "userId": "03552922279107123066"
     },
     "user_tz": -270
    },
    "id": "-Af2vLu9rN7N",
    "outputId": "5d71298e-7044-4df1-aa39-69ab9011bb8b"
   },
   "outputs": [
    {
     "name": "stderr",
     "output_type": "stream",
     "text": [
      "<ipython-input-1-5c9152dc6ccb>:3: RuntimeWarning: Setting non-standard config type: \"MNE_DATASETS_BNCI_PATH\"\n",
      "  mne.set_config('MNE_DATASETS_BNCI_PATH', 'mne_data')\n"
     ]
    }
   ],
   "source": [
    "import mne\n",
    "\n",
    "mne.set_config('MNE_DATASETS_BNCI_PATH', '../../mne_data')"
   ]
  },
  {
   "cell_type": "markdown",
   "metadata": {
    "id": "6cOpswqDtWi5"
   },
   "source": [
    "## download or load dataset"
   ]
  },
  {
   "cell_type": "code",
   "execution_count": 2,
   "metadata": {
    "colab": {
     "base_uri": "https://localhost:8080/"
    },
    "executionInfo": {
     "elapsed": 115865,
     "status": "ok",
     "timestamp": 1623774855513,
     "user": {
      "displayName": "shiva Roshan raven",
      "photoUrl": "",
      "userId": "03552922279107123066"
     },
     "user_tz": -270
    },
    "id": "kMkNDDijMFYL",
    "outputId": "50aa017e-f4ce-4742-9291-cf19629fa368"
   },
   "outputs": [
    {
     "name": "stdout",
     "output_type": "stream",
     "text": [
      "Do you want to set the path:\n",
      "    /Users/shivaroshanravan/Documents/GitHub/MotorImagery-Classification/BNCI/preproccess/mne_data\n",
      "as the default BNCI dataset path in the mne-python config [y]/n? y\n"
     ]
    },
    {
     "name": "stderr",
     "output_type": "stream",
     "text": [
      "/Users/shivaroshanravan/opt/anaconda3/lib/python3.7/site-packages/moabb/datasets/download.py:64: RuntimeWarning: Setting non-standard config type: \"MNE_DATASETS_BNCI_PATH\"\n",
      "  _do_path_update(path, update_path, key, sign)\n",
      "/Users/shivaroshanravan/opt/anaconda3/lib/python3.7/site-packages/mne/io/meas_info.py:1978: DeprecationWarning: `np.str` is a deprecated alias for the builtin `str`. To silence this warning, use `str` by itself. Doing this will not modify any behavior and is safe. If you specifically wanted the numpy scalar type, use `np.str_` here.\n",
      "Deprecated in NumPy 1.20; for more details and guidance: https://numpy.org/devdocs/release/1.20.0-notes.html#deprecations\n",
      "  ch_types = np.atleast_1d(np.array(ch_types, np.str))\n",
      "/Users/shivaroshanravan/opt/anaconda3/lib/python3.7/site-packages/mne/io/pick.py:385: DeprecationWarning: `np.bool` is a deprecated alias for the builtin `bool`. To silence this warning, use `bool` by itself. Doing this will not modify any behavior and is safe. If you specifically wanted the numpy scalar type, use `np.bool_` here.\n",
      "Deprecated in NumPy 1.20; for more details and guidance: https://numpy.org/devdocs/release/1.20.0-notes.html#deprecations\n",
      "  pick = np.zeros(nchan, dtype=np.bool)\n",
      "/Users/shivaroshanravan/opt/anaconda3/lib/python3.7/site-packages/mne/io/meas_info.py:1978: DeprecationWarning: `np.str` is a deprecated alias for the builtin `str`. To silence this warning, use `str` by itself. Doing this will not modify any behavior and is safe. If you specifically wanted the numpy scalar type, use `np.str_` here.\n",
      "Deprecated in NumPy 1.20; for more details and guidance: https://numpy.org/devdocs/release/1.20.0-notes.html#deprecations\n",
      "  ch_types = np.atleast_1d(np.array(ch_types, np.str))\n",
      "/Users/shivaroshanravan/opt/anaconda3/lib/python3.7/site-packages/mne/io/pick.py:385: DeprecationWarning: `np.bool` is a deprecated alias for the builtin `bool`. To silence this warning, use `bool` by itself. Doing this will not modify any behavior and is safe. If you specifically wanted the numpy scalar type, use `np.bool_` here.\n",
      "Deprecated in NumPy 1.20; for more details and guidance: https://numpy.org/devdocs/release/1.20.0-notes.html#deprecations\n",
      "  pick = np.zeros(nchan, dtype=np.bool)\n",
      "/Users/shivaroshanravan/opt/anaconda3/lib/python3.7/site-packages/mne/io/meas_info.py:1978: DeprecationWarning: `np.str` is a deprecated alias for the builtin `str`. To silence this warning, use `str` by itself. Doing this will not modify any behavior and is safe. If you specifically wanted the numpy scalar type, use `np.str_` here.\n",
      "Deprecated in NumPy 1.20; for more details and guidance: https://numpy.org/devdocs/release/1.20.0-notes.html#deprecations\n",
      "  ch_types = np.atleast_1d(np.array(ch_types, np.str))\n",
      "/Users/shivaroshanravan/opt/anaconda3/lib/python3.7/site-packages/mne/io/pick.py:385: DeprecationWarning: `np.bool` is a deprecated alias for the builtin `bool`. To silence this warning, use `bool` by itself. Doing this will not modify any behavior and is safe. If you specifically wanted the numpy scalar type, use `np.bool_` here.\n",
      "Deprecated in NumPy 1.20; for more details and guidance: https://numpy.org/devdocs/release/1.20.0-notes.html#deprecations\n",
      "  pick = np.zeros(nchan, dtype=np.bool)\n",
      "/Users/shivaroshanravan/opt/anaconda3/lib/python3.7/site-packages/mne/io/meas_info.py:1978: DeprecationWarning: `np.str` is a deprecated alias for the builtin `str`. To silence this warning, use `str` by itself. Doing this will not modify any behavior and is safe. If you specifically wanted the numpy scalar type, use `np.str_` here.\n",
      "Deprecated in NumPy 1.20; for more details and guidance: https://numpy.org/devdocs/release/1.20.0-notes.html#deprecations\n",
      "  ch_types = np.atleast_1d(np.array(ch_types, np.str))\n",
      "/Users/shivaroshanravan/opt/anaconda3/lib/python3.7/site-packages/mne/io/pick.py:385: DeprecationWarning: `np.bool` is a deprecated alias for the builtin `bool`. To silence this warning, use `bool` by itself. Doing this will not modify any behavior and is safe. If you specifically wanted the numpy scalar type, use `np.bool_` here.\n",
      "Deprecated in NumPy 1.20; for more details and guidance: https://numpy.org/devdocs/release/1.20.0-notes.html#deprecations\n",
      "  pick = np.zeros(nchan, dtype=np.bool)\n",
      "/Users/shivaroshanravan/opt/anaconda3/lib/python3.7/site-packages/mne/io/meas_info.py:1978: DeprecationWarning: `np.str` is a deprecated alias for the builtin `str`. To silence this warning, use `str` by itself. Doing this will not modify any behavior and is safe. If you specifically wanted the numpy scalar type, use `np.str_` here.\n",
      "Deprecated in NumPy 1.20; for more details and guidance: https://numpy.org/devdocs/release/1.20.0-notes.html#deprecations\n",
      "  ch_types = np.atleast_1d(np.array(ch_types, np.str))\n",
      "/Users/shivaroshanravan/opt/anaconda3/lib/python3.7/site-packages/mne/io/pick.py:385: DeprecationWarning: `np.bool` is a deprecated alias for the builtin `bool`. To silence this warning, use `bool` by itself. Doing this will not modify any behavior and is safe. If you specifically wanted the numpy scalar type, use `np.bool_` here.\n",
      "Deprecated in NumPy 1.20; for more details and guidance: https://numpy.org/devdocs/release/1.20.0-notes.html#deprecations\n",
      "  pick = np.zeros(nchan, dtype=np.bool)\n",
      "/Users/shivaroshanravan/opt/anaconda3/lib/python3.7/site-packages/mne/io/meas_info.py:1978: DeprecationWarning: `np.str` is a deprecated alias for the builtin `str`. To silence this warning, use `str` by itself. Doing this will not modify any behavior and is safe. If you specifically wanted the numpy scalar type, use `np.str_` here.\n",
      "Deprecated in NumPy 1.20; for more details and guidance: https://numpy.org/devdocs/release/1.20.0-notes.html#deprecations\n",
      "  ch_types = np.atleast_1d(np.array(ch_types, np.str))\n",
      "/Users/shivaroshanravan/opt/anaconda3/lib/python3.7/site-packages/mne/io/pick.py:385: DeprecationWarning: `np.bool` is a deprecated alias for the builtin `bool`. To silence this warning, use `bool` by itself. Doing this will not modify any behavior and is safe. If you specifically wanted the numpy scalar type, use `np.bool_` here.\n",
      "Deprecated in NumPy 1.20; for more details and guidance: https://numpy.org/devdocs/release/1.20.0-notes.html#deprecations\n",
      "  pick = np.zeros(nchan, dtype=np.bool)\n"
     ]
    },
    {
     "name": "stdout",
     "output_type": "stream",
     "text": [
      "48 events found\n",
      "Event IDs: [1 2 3 4]\n",
      "48 events found\n",
      "Event IDs: [1 2 3 4]\n",
      "48 events found\n",
      "Event IDs: [1 2 3 4]\n",
      "48 events found\n",
      "Event IDs: [1 2 3 4]\n",
      "48 events found\n",
      "Event IDs: [1 2 3 4]\n",
      "48 events found\n",
      "Event IDs: [1 2 3 4]\n",
      "48 events found\n",
      "Event IDs: [1 2 3 4]\n"
     ]
    },
    {
     "name": "stderr",
     "output_type": "stream",
     "text": [
      "/Users/shivaroshanravan/opt/anaconda3/lib/python3.7/site-packages/mne/io/meas_info.py:1978: DeprecationWarning: `np.str` is a deprecated alias for the builtin `str`. To silence this warning, use `str` by itself. Doing this will not modify any behavior and is safe. If you specifically wanted the numpy scalar type, use `np.str_` here.\n",
      "Deprecated in NumPy 1.20; for more details and guidance: https://numpy.org/devdocs/release/1.20.0-notes.html#deprecations\n",
      "  ch_types = np.atleast_1d(np.array(ch_types, np.str))\n",
      "/Users/shivaroshanravan/opt/anaconda3/lib/python3.7/site-packages/mne/io/pick.py:385: DeprecationWarning: `np.bool` is a deprecated alias for the builtin `bool`. To silence this warning, use `bool` by itself. Doing this will not modify any behavior and is safe. If you specifically wanted the numpy scalar type, use `np.bool_` here.\n",
      "Deprecated in NumPy 1.20; for more details and guidance: https://numpy.org/devdocs/release/1.20.0-notes.html#deprecations\n",
      "  pick = np.zeros(nchan, dtype=np.bool)\n",
      "/Users/shivaroshanravan/opt/anaconda3/lib/python3.7/site-packages/mne/io/meas_info.py:1978: DeprecationWarning: `np.str` is a deprecated alias for the builtin `str`. To silence this warning, use `str` by itself. Doing this will not modify any behavior and is safe. If you specifically wanted the numpy scalar type, use `np.str_` here.\n",
      "Deprecated in NumPy 1.20; for more details and guidance: https://numpy.org/devdocs/release/1.20.0-notes.html#deprecations\n",
      "  ch_types = np.atleast_1d(np.array(ch_types, np.str))\n",
      "/Users/shivaroshanravan/opt/anaconda3/lib/python3.7/site-packages/mne/io/pick.py:385: DeprecationWarning: `np.bool` is a deprecated alias for the builtin `bool`. To silence this warning, use `bool` by itself. Doing this will not modify any behavior and is safe. If you specifically wanted the numpy scalar type, use `np.bool_` here.\n",
      "Deprecated in NumPy 1.20; for more details and guidance: https://numpy.org/devdocs/release/1.20.0-notes.html#deprecations\n",
      "  pick = np.zeros(nchan, dtype=np.bool)\n",
      "/Users/shivaroshanravan/opt/anaconda3/lib/python3.7/site-packages/mne/io/meas_info.py:1978: DeprecationWarning: `np.str` is a deprecated alias for the builtin `str`. To silence this warning, use `str` by itself. Doing this will not modify any behavior and is safe. If you specifically wanted the numpy scalar type, use `np.str_` here.\n",
      "Deprecated in NumPy 1.20; for more details and guidance: https://numpy.org/devdocs/release/1.20.0-notes.html#deprecations\n",
      "  ch_types = np.atleast_1d(np.array(ch_types, np.str))\n",
      "/Users/shivaroshanravan/opt/anaconda3/lib/python3.7/site-packages/mne/io/pick.py:385: DeprecationWarning: `np.bool` is a deprecated alias for the builtin `bool`. To silence this warning, use `bool` by itself. Doing this will not modify any behavior and is safe. If you specifically wanted the numpy scalar type, use `np.bool_` here.\n",
      "Deprecated in NumPy 1.20; for more details and guidance: https://numpy.org/devdocs/release/1.20.0-notes.html#deprecations\n",
      "  pick = np.zeros(nchan, dtype=np.bool)\n",
      "/Users/shivaroshanravan/opt/anaconda3/lib/python3.7/site-packages/mne/io/meas_info.py:1978: DeprecationWarning: `np.str` is a deprecated alias for the builtin `str`. To silence this warning, use `str` by itself. Doing this will not modify any behavior and is safe. If you specifically wanted the numpy scalar type, use `np.str_` here.\n",
      "Deprecated in NumPy 1.20; for more details and guidance: https://numpy.org/devdocs/release/1.20.0-notes.html#deprecations\n",
      "  ch_types = np.atleast_1d(np.array(ch_types, np.str))\n",
      "/Users/shivaroshanravan/opt/anaconda3/lib/python3.7/site-packages/mne/io/pick.py:385: DeprecationWarning: `np.bool` is a deprecated alias for the builtin `bool`. To silence this warning, use `bool` by itself. Doing this will not modify any behavior and is safe. If you specifically wanted the numpy scalar type, use `np.bool_` here.\n",
      "Deprecated in NumPy 1.20; for more details and guidance: https://numpy.org/devdocs/release/1.20.0-notes.html#deprecations\n",
      "  pick = np.zeros(nchan, dtype=np.bool)\n",
      "/Users/shivaroshanravan/opt/anaconda3/lib/python3.7/site-packages/mne/io/meas_info.py:1978: DeprecationWarning: `np.str` is a deprecated alias for the builtin `str`. To silence this warning, use `str` by itself. Doing this will not modify any behavior and is safe. If you specifically wanted the numpy scalar type, use `np.str_` here.\n",
      "Deprecated in NumPy 1.20; for more details and guidance: https://numpy.org/devdocs/release/1.20.0-notes.html#deprecations\n",
      "  ch_types = np.atleast_1d(np.array(ch_types, np.str))\n",
      "/Users/shivaroshanravan/opt/anaconda3/lib/python3.7/site-packages/mne/io/pick.py:385: DeprecationWarning: `np.bool` is a deprecated alias for the builtin `bool`. To silence this warning, use `bool` by itself. Doing this will not modify any behavior and is safe. If you specifically wanted the numpy scalar type, use `np.bool_` here.\n",
      "Deprecated in NumPy 1.20; for more details and guidance: https://numpy.org/devdocs/release/1.20.0-notes.html#deprecations\n",
      "  pick = np.zeros(nchan, dtype=np.bool)\n",
      "/Users/shivaroshanravan/opt/anaconda3/lib/python3.7/site-packages/mne/io/meas_info.py:1978: DeprecationWarning: `np.str` is a deprecated alias for the builtin `str`. To silence this warning, use `str` by itself. Doing this will not modify any behavior and is safe. If you specifically wanted the numpy scalar type, use `np.str_` here.\n",
      "Deprecated in NumPy 1.20; for more details and guidance: https://numpy.org/devdocs/release/1.20.0-notes.html#deprecations\n",
      "  ch_types = np.atleast_1d(np.array(ch_types, np.str))\n",
      "/Users/shivaroshanravan/opt/anaconda3/lib/python3.7/site-packages/mne/io/pick.py:385: DeprecationWarning: `np.bool` is a deprecated alias for the builtin `bool`. To silence this warning, use `bool` by itself. Doing this will not modify any behavior and is safe. If you specifically wanted the numpy scalar type, use `np.bool_` here.\n",
      "Deprecated in NumPy 1.20; for more details and guidance: https://numpy.org/devdocs/release/1.20.0-notes.html#deprecations\n",
      "  pick = np.zeros(nchan, dtype=np.bool)\n",
      "/Users/shivaroshanravan/opt/anaconda3/lib/python3.7/site-packages/mne/io/pick.py:385: DeprecationWarning: `np.bool` is a deprecated alias for the builtin `bool`. To silence this warning, use `bool` by itself. Doing this will not modify any behavior and is safe. If you specifically wanted the numpy scalar type, use `np.bool_` here.\n",
      "Deprecated in NumPy 1.20; for more details and guidance: https://numpy.org/devdocs/release/1.20.0-notes.html#deprecations\n",
      "  pick = np.zeros(nchan, dtype=np.bool)\n",
      "/Users/shivaroshanravan/opt/anaconda3/lib/python3.7/site-packages/mne/event.py:455: DeprecationWarning: `np.int` is a deprecated alias for the builtin `int`. To silence this warning, use `int` by itself. Doing this will not modify any behavior and is safe. When replacing `np.int`, you may wish to use e.g. `np.int64` or `np.int32` to specify the precision. If you wish to review your current use, check the release note link for additional information.\n",
      "Deprecated in NumPy 1.20; for more details and guidance: https://numpy.org/devdocs/release/1.20.0-notes.html#deprecations\n",
      "  data = data.astype(np.int)\n",
      "/Users/shivaroshanravan/opt/anaconda3/lib/python3.7/site-packages/mne/io/pick.py:385: DeprecationWarning: `np.bool` is a deprecated alias for the builtin `bool`. To silence this warning, use `bool` by itself. Doing this will not modify any behavior and is safe. If you specifically wanted the numpy scalar type, use `np.bool_` here.\n",
      "Deprecated in NumPy 1.20; for more details and guidance: https://numpy.org/devdocs/release/1.20.0-notes.html#deprecations\n",
      "  pick = np.zeros(nchan, dtype=np.bool)\n",
      "/Users/shivaroshanravan/opt/anaconda3/lib/python3.7/site-packages/mne/event.py:455: DeprecationWarning: `np.int` is a deprecated alias for the builtin `int`. To silence this warning, use `int` by itself. Doing this will not modify any behavior and is safe. When replacing `np.int`, you may wish to use e.g. `np.int64` or `np.int32` to specify the precision. If you wish to review your current use, check the release note link for additional information.\n",
      "Deprecated in NumPy 1.20; for more details and guidance: https://numpy.org/devdocs/release/1.20.0-notes.html#deprecations\n",
      "  data = data.astype(np.int)\n",
      "/Users/shivaroshanravan/opt/anaconda3/lib/python3.7/site-packages/mne/io/pick.py:385: DeprecationWarning: `np.bool` is a deprecated alias for the builtin `bool`. To silence this warning, use `bool` by itself. Doing this will not modify any behavior and is safe. If you specifically wanted the numpy scalar type, use `np.bool_` here.\n",
      "Deprecated in NumPy 1.20; for more details and guidance: https://numpy.org/devdocs/release/1.20.0-notes.html#deprecations\n",
      "  pick = np.zeros(nchan, dtype=np.bool)\n",
      "/Users/shivaroshanravan/opt/anaconda3/lib/python3.7/site-packages/mne/event.py:455: DeprecationWarning: `np.int` is a deprecated alias for the builtin `int`. To silence this warning, use `int` by itself. Doing this will not modify any behavior and is safe. When replacing `np.int`, you may wish to use e.g. `np.int64` or `np.int32` to specify the precision. If you wish to review your current use, check the release note link for additional information.\n",
      "Deprecated in NumPy 1.20; for more details and guidance: https://numpy.org/devdocs/release/1.20.0-notes.html#deprecations\n",
      "  data = data.astype(np.int)\n",
      "/Users/shivaroshanravan/opt/anaconda3/lib/python3.7/site-packages/mne/io/pick.py:385: DeprecationWarning: `np.bool` is a deprecated alias for the builtin `bool`. To silence this warning, use `bool` by itself. Doing this will not modify any behavior and is safe. If you specifically wanted the numpy scalar type, use `np.bool_` here.\n",
      "Deprecated in NumPy 1.20; for more details and guidance: https://numpy.org/devdocs/release/1.20.0-notes.html#deprecations\n",
      "  pick = np.zeros(nchan, dtype=np.bool)\n",
      "/Users/shivaroshanravan/opt/anaconda3/lib/python3.7/site-packages/mne/event.py:455: DeprecationWarning: `np.int` is a deprecated alias for the builtin `int`. To silence this warning, use `int` by itself. Doing this will not modify any behavior and is safe. When replacing `np.int`, you may wish to use e.g. `np.int64` or `np.int32` to specify the precision. If you wish to review your current use, check the release note link for additional information.\n",
      "Deprecated in NumPy 1.20; for more details and guidance: https://numpy.org/devdocs/release/1.20.0-notes.html#deprecations\n",
      "  data = data.astype(np.int)\n",
      "/Users/shivaroshanravan/opt/anaconda3/lib/python3.7/site-packages/mne/io/pick.py:385: DeprecationWarning: `np.bool` is a deprecated alias for the builtin `bool`. To silence this warning, use `bool` by itself. Doing this will not modify any behavior and is safe. If you specifically wanted the numpy scalar type, use `np.bool_` here.\n",
      "Deprecated in NumPy 1.20; for more details and guidance: https://numpy.org/devdocs/release/1.20.0-notes.html#deprecations\n",
      "  pick = np.zeros(nchan, dtype=np.bool)\n",
      "/Users/shivaroshanravan/opt/anaconda3/lib/python3.7/site-packages/mne/event.py:455: DeprecationWarning: `np.int` is a deprecated alias for the builtin `int`. To silence this warning, use `int` by itself. Doing this will not modify any behavior and is safe. When replacing `np.int`, you may wish to use e.g. `np.int64` or `np.int32` to specify the precision. If you wish to review your current use, check the release note link for additional information.\n",
      "Deprecated in NumPy 1.20; for more details and guidance: https://numpy.org/devdocs/release/1.20.0-notes.html#deprecations\n",
      "  data = data.astype(np.int)\n",
      "/Users/shivaroshanravan/opt/anaconda3/lib/python3.7/site-packages/mne/io/pick.py:385: DeprecationWarning: `np.bool` is a deprecated alias for the builtin `bool`. To silence this warning, use `bool` by itself. Doing this will not modify any behavior and is safe. If you specifically wanted the numpy scalar type, use `np.bool_` here.\n",
      "Deprecated in NumPy 1.20; for more details and guidance: https://numpy.org/devdocs/release/1.20.0-notes.html#deprecations\n",
      "  pick = np.zeros(nchan, dtype=np.bool)\n",
      "/Users/shivaroshanravan/opt/anaconda3/lib/python3.7/site-packages/mne/event.py:455: DeprecationWarning: `np.int` is a deprecated alias for the builtin `int`. To silence this warning, use `int` by itself. Doing this will not modify any behavior and is safe. When replacing `np.int`, you may wish to use e.g. `np.int64` or `np.int32` to specify the precision. If you wish to review your current use, check the release note link for additional information.\n",
      "Deprecated in NumPy 1.20; for more details and guidance: https://numpy.org/devdocs/release/1.20.0-notes.html#deprecations\n",
      "  data = data.astype(np.int)\n",
      "/Users/shivaroshanravan/opt/anaconda3/lib/python3.7/site-packages/mne/io/pick.py:385: DeprecationWarning: `np.bool` is a deprecated alias for the builtin `bool`. To silence this warning, use `bool` by itself. Doing this will not modify any behavior and is safe. If you specifically wanted the numpy scalar type, use `np.bool_` here.\n",
      "Deprecated in NumPy 1.20; for more details and guidance: https://numpy.org/devdocs/release/1.20.0-notes.html#deprecations\n",
      "  pick = np.zeros(nchan, dtype=np.bool)\n",
      "/Users/shivaroshanravan/opt/anaconda3/lib/python3.7/site-packages/mne/event.py:455: DeprecationWarning: `np.int` is a deprecated alias for the builtin `int`. To silence this warning, use `int` by itself. Doing this will not modify any behavior and is safe. When replacing `np.int`, you may wish to use e.g. `np.int64` or `np.int32` to specify the precision. If you wish to review your current use, check the release note link for additional information.\n",
      "Deprecated in NumPy 1.20; for more details and guidance: https://numpy.org/devdocs/release/1.20.0-notes.html#deprecations\n",
      "  data = data.astype(np.int)\n"
     ]
    },
    {
     "name": "stdout",
     "output_type": "stream",
     "text": [
      "48 events found\n",
      "Event IDs: [1 2 3 4]\n",
      "48 events found\n",
      "Event IDs: [1 2 3 4]\n",
      "48 events found\n",
      "Event IDs: [1 2 3 4]\n",
      "48 events found\n",
      "Event IDs: [1 2 3 4]\n",
      "48 events found\n",
      "Event IDs: [1 2 3 4]\n"
     ]
    },
    {
     "name": "stderr",
     "output_type": "stream",
     "text": [
      "/Users/shivaroshanravan/opt/anaconda3/lib/python3.7/site-packages/mne/io/pick.py:385: DeprecationWarning: `np.bool` is a deprecated alias for the builtin `bool`. To silence this warning, use `bool` by itself. Doing this will not modify any behavior and is safe. If you specifically wanted the numpy scalar type, use `np.bool_` here.\n",
      "Deprecated in NumPy 1.20; for more details and guidance: https://numpy.org/devdocs/release/1.20.0-notes.html#deprecations\n",
      "  pick = np.zeros(nchan, dtype=np.bool)\n",
      "/Users/shivaroshanravan/opt/anaconda3/lib/python3.7/site-packages/mne/event.py:455: DeprecationWarning: `np.int` is a deprecated alias for the builtin `int`. To silence this warning, use `int` by itself. Doing this will not modify any behavior and is safe. When replacing `np.int`, you may wish to use e.g. `np.int64` or `np.int32` to specify the precision. If you wish to review your current use, check the release note link for additional information.\n",
      "Deprecated in NumPy 1.20; for more details and guidance: https://numpy.org/devdocs/release/1.20.0-notes.html#deprecations\n",
      "  data = data.astype(np.int)\n",
      "/Users/shivaroshanravan/opt/anaconda3/lib/python3.7/site-packages/mne/io/pick.py:385: DeprecationWarning: `np.bool` is a deprecated alias for the builtin `bool`. To silence this warning, use `bool` by itself. Doing this will not modify any behavior and is safe. If you specifically wanted the numpy scalar type, use `np.bool_` here.\n",
      "Deprecated in NumPy 1.20; for more details and guidance: https://numpy.org/devdocs/release/1.20.0-notes.html#deprecations\n",
      "  pick = np.zeros(nchan, dtype=np.bool)\n",
      "/Users/shivaroshanravan/opt/anaconda3/lib/python3.7/site-packages/mne/event.py:455: DeprecationWarning: `np.int` is a deprecated alias for the builtin `int`. To silence this warning, use `int` by itself. Doing this will not modify any behavior and is safe. When replacing `np.int`, you may wish to use e.g. `np.int64` or `np.int32` to specify the precision. If you wish to review your current use, check the release note link for additional information.\n",
      "Deprecated in NumPy 1.20; for more details and guidance: https://numpy.org/devdocs/release/1.20.0-notes.html#deprecations\n",
      "  data = data.astype(np.int)\n",
      "/Users/shivaroshanravan/opt/anaconda3/lib/python3.7/site-packages/mne/io/pick.py:385: DeprecationWarning: `np.bool` is a deprecated alias for the builtin `bool`. To silence this warning, use `bool` by itself. Doing this will not modify any behavior and is safe. If you specifically wanted the numpy scalar type, use `np.bool_` here.\n",
      "Deprecated in NumPy 1.20; for more details and guidance: https://numpy.org/devdocs/release/1.20.0-notes.html#deprecations\n",
      "  pick = np.zeros(nchan, dtype=np.bool)\n",
      "/Users/shivaroshanravan/opt/anaconda3/lib/python3.7/site-packages/mne/event.py:455: DeprecationWarning: `np.int` is a deprecated alias for the builtin `int`. To silence this warning, use `int` by itself. Doing this will not modify any behavior and is safe. When replacing `np.int`, you may wish to use e.g. `np.int64` or `np.int32` to specify the precision. If you wish to review your current use, check the release note link for additional information.\n",
      "Deprecated in NumPy 1.20; for more details and guidance: https://numpy.org/devdocs/release/1.20.0-notes.html#deprecations\n",
      "  data = data.astype(np.int)\n",
      "/Users/shivaroshanravan/opt/anaconda3/lib/python3.7/site-packages/mne/io/pick.py:385: DeprecationWarning: `np.bool` is a deprecated alias for the builtin `bool`. To silence this warning, use `bool` by itself. Doing this will not modify any behavior and is safe. If you specifically wanted the numpy scalar type, use `np.bool_` here.\n",
      "Deprecated in NumPy 1.20; for more details and guidance: https://numpy.org/devdocs/release/1.20.0-notes.html#deprecations\n",
      "  pick = np.zeros(nchan, dtype=np.bool)\n",
      "/Users/shivaroshanravan/opt/anaconda3/lib/python3.7/site-packages/mne/event.py:455: DeprecationWarning: `np.int` is a deprecated alias for the builtin `int`. To silence this warning, use `int` by itself. Doing this will not modify any behavior and is safe. When replacing `np.int`, you may wish to use e.g. `np.int64` or `np.int32` to specify the precision. If you wish to review your current use, check the release note link for additional information.\n",
      "Deprecated in NumPy 1.20; for more details and guidance: https://numpy.org/devdocs/release/1.20.0-notes.html#deprecations\n",
      "  data = data.astype(np.int)\n",
      "/Users/shivaroshanravan/opt/anaconda3/lib/python3.7/site-packages/mne/io/pick.py:385: DeprecationWarning: `np.bool` is a deprecated alias for the builtin `bool`. To silence this warning, use `bool` by itself. Doing this will not modify any behavior and is safe. If you specifically wanted the numpy scalar type, use `np.bool_` here.\n",
      "Deprecated in NumPy 1.20; for more details and guidance: https://numpy.org/devdocs/release/1.20.0-notes.html#deprecations\n",
      "  pick = np.zeros(nchan, dtype=np.bool)\n",
      "/Users/shivaroshanravan/opt/anaconda3/lib/python3.7/site-packages/mne/event.py:455: DeprecationWarning: `np.int` is a deprecated alias for the builtin `int`. To silence this warning, use `int` by itself. Doing this will not modify any behavior and is safe. When replacing `np.int`, you may wish to use e.g. `np.int64` or `np.int32` to specify the precision. If you wish to review your current use, check the release note link for additional information.\n",
      "Deprecated in NumPy 1.20; for more details and guidance: https://numpy.org/devdocs/release/1.20.0-notes.html#deprecations\n",
      "  data = data.astype(np.int)\n"
     ]
    }
   ],
   "source": [
    "from braindecode.datasets.moabb import MOABBDataset\n",
    "subject_id = 1\n",
    "dataset = MOABBDataset(dataset_name=\"BNCI2014001\", subject_ids=[subject_id])"
   ]
  },
  {
   "cell_type": "markdown",
   "metadata": {
    "id": "35UQ18xXghgC"
   },
   "source": [
    "## preproccess"
   ]
  },
  {
   "cell_type": "code",
   "execution_count": 3,
   "metadata": {
    "colab": {
     "base_uri": "https://localhost:8080/"
    },
    "executionInfo": {
     "elapsed": 28254,
     "status": "ok",
     "timestamp": 1623774933907,
     "user": {
      "displayName": "shiva Roshan raven",
      "photoUrl": "",
      "userId": "03552922279107123066"
     },
     "user_tz": -270
    },
    "id": "7Wx0lgkqc36d",
    "outputId": "58bd8df1-e03a-4dbd-a638-59eb865bb341",
    "scrolled": false
   },
   "outputs": [
    {
     "name": "stdout",
     "output_type": "stream",
     "text": [
      "Filtering raw data in 1 contiguous segment\n",
      "Setting up band-pass filter from 4 - 38 Hz\n",
      "\n",
      "FIR filter parameters\n",
      "---------------------\n",
      "Designing a one-pass, zero-phase, non-causal bandpass filter:\n",
      "- Windowed time-domain design (firwin) method\n",
      "- Hamming window with 0.0194 passband ripple and 53 dB stopband attenuation\n",
      "- Lower passband edge: 4.00\n",
      "- Lower transition bandwidth: 2.00 Hz (-6 dB cutoff frequency: 3.00 Hz)\n",
      "- Upper passband edge: 38.00 Hz\n",
      "- Upper transition bandwidth: 9.50 Hz (-6 dB cutoff frequency: 42.75 Hz)\n",
      "- Filter length: 413 samples (1.652 sec)\n",
      "\n"
     ]
    },
    {
     "name": "stderr",
     "output_type": "stream",
     "text": [
      "/Users/shivaroshanravan/opt/anaconda3/lib/python3.7/site-packages/mne/io/pick.py:385: DeprecationWarning: `np.bool` is a deprecated alias for the builtin `bool`. To silence this warning, use `bool` by itself. Doing this will not modify any behavior and is safe. If you specifically wanted the numpy scalar type, use `np.bool_` here.\n",
      "Deprecated in NumPy 1.20; for more details and guidance: https://numpy.org/devdocs/release/1.20.0-notes.html#deprecations\n",
      "  pick = np.zeros(nchan, dtype=np.bool)\n",
      "/Users/shivaroshanravan/opt/anaconda3/lib/python3.7/site-packages/mne/io/pick.py:385: DeprecationWarning: `np.bool` is a deprecated alias for the builtin `bool`. To silence this warning, use `bool` by itself. Doing this will not modify any behavior and is safe. If you specifically wanted the numpy scalar type, use `np.bool_` here.\n",
      "Deprecated in NumPy 1.20; for more details and guidance: https://numpy.org/devdocs/release/1.20.0-notes.html#deprecations\n",
      "  pick = np.zeros(nchan, dtype=np.bool)\n",
      "/Users/shivaroshanravan/opt/anaconda3/lib/python3.7/site-packages/mne/io/pick.py:385: DeprecationWarning: `np.bool` is a deprecated alias for the builtin `bool`. To silence this warning, use `bool` by itself. Doing this will not modify any behavior and is safe. If you specifically wanted the numpy scalar type, use `np.bool_` here.\n",
      "Deprecated in NumPy 1.20; for more details and guidance: https://numpy.org/devdocs/release/1.20.0-notes.html#deprecations\n",
      "  pick = np.zeros(nchan, dtype=np.bool)\n",
      "/Users/shivaroshanravan/opt/anaconda3/lib/python3.7/site-packages/mne/io/pick.py:385: DeprecationWarning: `np.bool` is a deprecated alias for the builtin `bool`. To silence this warning, use `bool` by itself. Doing this will not modify any behavior and is safe. If you specifically wanted the numpy scalar type, use `np.bool_` here.\n",
      "Deprecated in NumPy 1.20; for more details and guidance: https://numpy.org/devdocs/release/1.20.0-notes.html#deprecations\n",
      "  pick = np.zeros(nchan, dtype=np.bool)\n",
      "/Users/shivaroshanravan/opt/anaconda3/lib/python3.7/site-packages/mne/filter.py:183: DeprecationWarning: `np.float` is a deprecated alias for the builtin `float`. To silence this warning, use `float` by itself. Doing this will not modify any behavior and is safe. If you specifically wanted the numpy scalar type, use `np.float64` here.\n",
      "Deprecated in NumPy 1.20; for more details and guidance: https://numpy.org/devdocs/release/1.20.0-notes.html#deprecations\n",
      "  N * (np.log2(N) + 1))\n",
      "/Users/shivaroshanravan/opt/anaconda3/lib/python3.7/site-packages/mne/io/pick.py:385: DeprecationWarning: `np.bool` is a deprecated alias for the builtin `bool`. To silence this warning, use `bool` by itself. Doing this will not modify any behavior and is safe. If you specifically wanted the numpy scalar type, use `np.bool_` here.\n",
      "Deprecated in NumPy 1.20; for more details and guidance: https://numpy.org/devdocs/release/1.20.0-notes.html#deprecations\n",
      "  pick = np.zeros(nchan, dtype=np.bool)\n"
     ]
    },
    {
     "name": "stdout",
     "output_type": "stream",
     "text": [
      "Filtering raw data in 1 contiguous segment\n",
      "Setting up band-pass filter from 4 - 38 Hz\n",
      "\n",
      "FIR filter parameters\n",
      "---------------------\n",
      "Designing a one-pass, zero-phase, non-causal bandpass filter:\n",
      "- Windowed time-domain design (firwin) method\n",
      "- Hamming window with 0.0194 passband ripple and 53 dB stopband attenuation\n",
      "- Lower passband edge: 4.00\n",
      "- Lower transition bandwidth: 2.00 Hz (-6 dB cutoff frequency: 3.00 Hz)\n",
      "- Upper passband edge: 38.00 Hz\n",
      "- Upper transition bandwidth: 9.50 Hz (-6 dB cutoff frequency: 42.75 Hz)\n",
      "- Filter length: 413 samples (1.652 sec)\n",
      "\n"
     ]
    },
    {
     "name": "stderr",
     "output_type": "stream",
     "text": [
      "/Users/shivaroshanravan/opt/anaconda3/lib/python3.7/site-packages/mne/io/pick.py:385: DeprecationWarning: `np.bool` is a deprecated alias for the builtin `bool`. To silence this warning, use `bool` by itself. Doing this will not modify any behavior and is safe. If you specifically wanted the numpy scalar type, use `np.bool_` here.\n",
      "Deprecated in NumPy 1.20; for more details and guidance: https://numpy.org/devdocs/release/1.20.0-notes.html#deprecations\n",
      "  pick = np.zeros(nchan, dtype=np.bool)\n",
      "/Users/shivaroshanravan/opt/anaconda3/lib/python3.7/site-packages/mne/io/pick.py:385: DeprecationWarning: `np.bool` is a deprecated alias for the builtin `bool`. To silence this warning, use `bool` by itself. Doing this will not modify any behavior and is safe. If you specifically wanted the numpy scalar type, use `np.bool_` here.\n",
      "Deprecated in NumPy 1.20; for more details and guidance: https://numpy.org/devdocs/release/1.20.0-notes.html#deprecations\n",
      "  pick = np.zeros(nchan, dtype=np.bool)\n",
      "/Users/shivaroshanravan/opt/anaconda3/lib/python3.7/site-packages/mne/io/pick.py:385: DeprecationWarning: `np.bool` is a deprecated alias for the builtin `bool`. To silence this warning, use `bool` by itself. Doing this will not modify any behavior and is safe. If you specifically wanted the numpy scalar type, use `np.bool_` here.\n",
      "Deprecated in NumPy 1.20; for more details and guidance: https://numpy.org/devdocs/release/1.20.0-notes.html#deprecations\n",
      "  pick = np.zeros(nchan, dtype=np.bool)\n",
      "/Users/shivaroshanravan/opt/anaconda3/lib/python3.7/site-packages/mne/io/pick.py:385: DeprecationWarning: `np.bool` is a deprecated alias for the builtin `bool`. To silence this warning, use `bool` by itself. Doing this will not modify any behavior and is safe. If you specifically wanted the numpy scalar type, use `np.bool_` here.\n",
      "Deprecated in NumPy 1.20; for more details and guidance: https://numpy.org/devdocs/release/1.20.0-notes.html#deprecations\n",
      "  pick = np.zeros(nchan, dtype=np.bool)\n",
      "/Users/shivaroshanravan/opt/anaconda3/lib/python3.7/site-packages/mne/filter.py:183: DeprecationWarning: `np.float` is a deprecated alias for the builtin `float`. To silence this warning, use `float` by itself. Doing this will not modify any behavior and is safe. If you specifically wanted the numpy scalar type, use `np.float64` here.\n",
      "Deprecated in NumPy 1.20; for more details and guidance: https://numpy.org/devdocs/release/1.20.0-notes.html#deprecations\n",
      "  N * (np.log2(N) + 1))\n",
      "/Users/shivaroshanravan/opt/anaconda3/lib/python3.7/site-packages/mne/io/pick.py:385: DeprecationWarning: `np.bool` is a deprecated alias for the builtin `bool`. To silence this warning, use `bool` by itself. Doing this will not modify any behavior and is safe. If you specifically wanted the numpy scalar type, use `np.bool_` here.\n",
      "Deprecated in NumPy 1.20; for more details and guidance: https://numpy.org/devdocs/release/1.20.0-notes.html#deprecations\n",
      "  pick = np.zeros(nchan, dtype=np.bool)\n"
     ]
    },
    {
     "name": "stdout",
     "output_type": "stream",
     "text": [
      "Filtering raw data in 1 contiguous segment\n",
      "Setting up band-pass filter from 4 - 38 Hz\n",
      "\n",
      "FIR filter parameters\n",
      "---------------------\n",
      "Designing a one-pass, zero-phase, non-causal bandpass filter:\n",
      "- Windowed time-domain design (firwin) method\n",
      "- Hamming window with 0.0194 passband ripple and 53 dB stopband attenuation\n",
      "- Lower passband edge: 4.00\n",
      "- Lower transition bandwidth: 2.00 Hz (-6 dB cutoff frequency: 3.00 Hz)\n",
      "- Upper passband edge: 38.00 Hz\n",
      "- Upper transition bandwidth: 9.50 Hz (-6 dB cutoff frequency: 42.75 Hz)\n",
      "- Filter length: 413 samples (1.652 sec)\n",
      "\n"
     ]
    },
    {
     "name": "stderr",
     "output_type": "stream",
     "text": [
      "/Users/shivaroshanravan/opt/anaconda3/lib/python3.7/site-packages/mne/io/pick.py:385: DeprecationWarning: `np.bool` is a deprecated alias for the builtin `bool`. To silence this warning, use `bool` by itself. Doing this will not modify any behavior and is safe. If you specifically wanted the numpy scalar type, use `np.bool_` here.\n",
      "Deprecated in NumPy 1.20; for more details and guidance: https://numpy.org/devdocs/release/1.20.0-notes.html#deprecations\n",
      "  pick = np.zeros(nchan, dtype=np.bool)\n",
      "/Users/shivaroshanravan/opt/anaconda3/lib/python3.7/site-packages/mne/io/pick.py:385: DeprecationWarning: `np.bool` is a deprecated alias for the builtin `bool`. To silence this warning, use `bool` by itself. Doing this will not modify any behavior and is safe. If you specifically wanted the numpy scalar type, use `np.bool_` here.\n",
      "Deprecated in NumPy 1.20; for more details and guidance: https://numpy.org/devdocs/release/1.20.0-notes.html#deprecations\n",
      "  pick = np.zeros(nchan, dtype=np.bool)\n",
      "/Users/shivaroshanravan/opt/anaconda3/lib/python3.7/site-packages/mne/io/pick.py:385: DeprecationWarning: `np.bool` is a deprecated alias for the builtin `bool`. To silence this warning, use `bool` by itself. Doing this will not modify any behavior and is safe. If you specifically wanted the numpy scalar type, use `np.bool_` here.\n",
      "Deprecated in NumPy 1.20; for more details and guidance: https://numpy.org/devdocs/release/1.20.0-notes.html#deprecations\n",
      "  pick = np.zeros(nchan, dtype=np.bool)\n",
      "/Users/shivaroshanravan/opt/anaconda3/lib/python3.7/site-packages/mne/io/pick.py:385: DeprecationWarning: `np.bool` is a deprecated alias for the builtin `bool`. To silence this warning, use `bool` by itself. Doing this will not modify any behavior and is safe. If you specifically wanted the numpy scalar type, use `np.bool_` here.\n",
      "Deprecated in NumPy 1.20; for more details and guidance: https://numpy.org/devdocs/release/1.20.0-notes.html#deprecations\n",
      "  pick = np.zeros(nchan, dtype=np.bool)\n",
      "/Users/shivaroshanravan/opt/anaconda3/lib/python3.7/site-packages/mne/filter.py:183: DeprecationWarning: `np.float` is a deprecated alias for the builtin `float`. To silence this warning, use `float` by itself. Doing this will not modify any behavior and is safe. If you specifically wanted the numpy scalar type, use `np.float64` here.\n",
      "Deprecated in NumPy 1.20; for more details and guidance: https://numpy.org/devdocs/release/1.20.0-notes.html#deprecations\n",
      "  N * (np.log2(N) + 1))\n",
      "/Users/shivaroshanravan/opt/anaconda3/lib/python3.7/site-packages/mne/io/pick.py:385: DeprecationWarning: `np.bool` is a deprecated alias for the builtin `bool`. To silence this warning, use `bool` by itself. Doing this will not modify any behavior and is safe. If you specifically wanted the numpy scalar type, use `np.bool_` here.\n",
      "Deprecated in NumPy 1.20; for more details and guidance: https://numpy.org/devdocs/release/1.20.0-notes.html#deprecations\n",
      "  pick = np.zeros(nchan, dtype=np.bool)\n"
     ]
    },
    {
     "name": "stdout",
     "output_type": "stream",
     "text": [
      "Filtering raw data in 1 contiguous segment\n",
      "Setting up band-pass filter from 4 - 38 Hz\n",
      "\n",
      "FIR filter parameters\n",
      "---------------------\n",
      "Designing a one-pass, zero-phase, non-causal bandpass filter:\n",
      "- Windowed time-domain design (firwin) method\n",
      "- Hamming window with 0.0194 passband ripple and 53 dB stopband attenuation\n",
      "- Lower passband edge: 4.00\n",
      "- Lower transition bandwidth: 2.00 Hz (-6 dB cutoff frequency: 3.00 Hz)\n",
      "- Upper passband edge: 38.00 Hz\n",
      "- Upper transition bandwidth: 9.50 Hz (-6 dB cutoff frequency: 42.75 Hz)\n",
      "- Filter length: 413 samples (1.652 sec)\n",
      "\n"
     ]
    },
    {
     "name": "stderr",
     "output_type": "stream",
     "text": [
      "/Users/shivaroshanravan/opt/anaconda3/lib/python3.7/site-packages/mne/io/pick.py:385: DeprecationWarning: `np.bool` is a deprecated alias for the builtin `bool`. To silence this warning, use `bool` by itself. Doing this will not modify any behavior and is safe. If you specifically wanted the numpy scalar type, use `np.bool_` here.\n",
      "Deprecated in NumPy 1.20; for more details and guidance: https://numpy.org/devdocs/release/1.20.0-notes.html#deprecations\n",
      "  pick = np.zeros(nchan, dtype=np.bool)\n",
      "/Users/shivaroshanravan/opt/anaconda3/lib/python3.7/site-packages/mne/io/pick.py:385: DeprecationWarning: `np.bool` is a deprecated alias for the builtin `bool`. To silence this warning, use `bool` by itself. Doing this will not modify any behavior and is safe. If you specifically wanted the numpy scalar type, use `np.bool_` here.\n",
      "Deprecated in NumPy 1.20; for more details and guidance: https://numpy.org/devdocs/release/1.20.0-notes.html#deprecations\n",
      "  pick = np.zeros(nchan, dtype=np.bool)\n",
      "/Users/shivaroshanravan/opt/anaconda3/lib/python3.7/site-packages/mne/io/pick.py:385: DeprecationWarning: `np.bool` is a deprecated alias for the builtin `bool`. To silence this warning, use `bool` by itself. Doing this will not modify any behavior and is safe. If you specifically wanted the numpy scalar type, use `np.bool_` here.\n",
      "Deprecated in NumPy 1.20; for more details and guidance: https://numpy.org/devdocs/release/1.20.0-notes.html#deprecations\n",
      "  pick = np.zeros(nchan, dtype=np.bool)\n",
      "/Users/shivaroshanravan/opt/anaconda3/lib/python3.7/site-packages/mne/io/pick.py:385: DeprecationWarning: `np.bool` is a deprecated alias for the builtin `bool`. To silence this warning, use `bool` by itself. Doing this will not modify any behavior and is safe. If you specifically wanted the numpy scalar type, use `np.bool_` here.\n",
      "Deprecated in NumPy 1.20; for more details and guidance: https://numpy.org/devdocs/release/1.20.0-notes.html#deprecations\n",
      "  pick = np.zeros(nchan, dtype=np.bool)\n",
      "/Users/shivaroshanravan/opt/anaconda3/lib/python3.7/site-packages/mne/filter.py:183: DeprecationWarning: `np.float` is a deprecated alias for the builtin `float`. To silence this warning, use `float` by itself. Doing this will not modify any behavior and is safe. If you specifically wanted the numpy scalar type, use `np.float64` here.\n",
      "Deprecated in NumPy 1.20; for more details and guidance: https://numpy.org/devdocs/release/1.20.0-notes.html#deprecations\n",
      "  N * (np.log2(N) + 1))\n",
      "/Users/shivaroshanravan/opt/anaconda3/lib/python3.7/site-packages/mne/io/pick.py:385: DeprecationWarning: `np.bool` is a deprecated alias for the builtin `bool`. To silence this warning, use `bool` by itself. Doing this will not modify any behavior and is safe. If you specifically wanted the numpy scalar type, use `np.bool_` here.\n",
      "Deprecated in NumPy 1.20; for more details and guidance: https://numpy.org/devdocs/release/1.20.0-notes.html#deprecations\n",
      "  pick = np.zeros(nchan, dtype=np.bool)\n"
     ]
    },
    {
     "name": "stdout",
     "output_type": "stream",
     "text": [
      "Filtering raw data in 1 contiguous segment\n",
      "Setting up band-pass filter from 4 - 38 Hz\n",
      "\n",
      "FIR filter parameters\n",
      "---------------------\n",
      "Designing a one-pass, zero-phase, non-causal bandpass filter:\n",
      "- Windowed time-domain design (firwin) method\n",
      "- Hamming window with 0.0194 passband ripple and 53 dB stopband attenuation\n",
      "- Lower passband edge: 4.00\n",
      "- Lower transition bandwidth: 2.00 Hz (-6 dB cutoff frequency: 3.00 Hz)\n",
      "- Upper passband edge: 38.00 Hz\n",
      "- Upper transition bandwidth: 9.50 Hz (-6 dB cutoff frequency: 42.75 Hz)\n",
      "- Filter length: 413 samples (1.652 sec)\n",
      "\n"
     ]
    },
    {
     "name": "stderr",
     "output_type": "stream",
     "text": [
      "/Users/shivaroshanravan/opt/anaconda3/lib/python3.7/site-packages/mne/io/pick.py:385: DeprecationWarning: `np.bool` is a deprecated alias for the builtin `bool`. To silence this warning, use `bool` by itself. Doing this will not modify any behavior and is safe. If you specifically wanted the numpy scalar type, use `np.bool_` here.\n",
      "Deprecated in NumPy 1.20; for more details and guidance: https://numpy.org/devdocs/release/1.20.0-notes.html#deprecations\n",
      "  pick = np.zeros(nchan, dtype=np.bool)\n",
      "/Users/shivaroshanravan/opt/anaconda3/lib/python3.7/site-packages/mne/io/pick.py:385: DeprecationWarning: `np.bool` is a deprecated alias for the builtin `bool`. To silence this warning, use `bool` by itself. Doing this will not modify any behavior and is safe. If you specifically wanted the numpy scalar type, use `np.bool_` here.\n",
      "Deprecated in NumPy 1.20; for more details and guidance: https://numpy.org/devdocs/release/1.20.0-notes.html#deprecations\n",
      "  pick = np.zeros(nchan, dtype=np.bool)\n",
      "/Users/shivaroshanravan/opt/anaconda3/lib/python3.7/site-packages/mne/io/pick.py:385: DeprecationWarning: `np.bool` is a deprecated alias for the builtin `bool`. To silence this warning, use `bool` by itself. Doing this will not modify any behavior and is safe. If you specifically wanted the numpy scalar type, use `np.bool_` here.\n",
      "Deprecated in NumPy 1.20; for more details and guidance: https://numpy.org/devdocs/release/1.20.0-notes.html#deprecations\n",
      "  pick = np.zeros(nchan, dtype=np.bool)\n",
      "/Users/shivaroshanravan/opt/anaconda3/lib/python3.7/site-packages/mne/io/pick.py:385: DeprecationWarning: `np.bool` is a deprecated alias for the builtin `bool`. To silence this warning, use `bool` by itself. Doing this will not modify any behavior and is safe. If you specifically wanted the numpy scalar type, use `np.bool_` here.\n",
      "Deprecated in NumPy 1.20; for more details and guidance: https://numpy.org/devdocs/release/1.20.0-notes.html#deprecations\n",
      "  pick = np.zeros(nchan, dtype=np.bool)\n",
      "/Users/shivaroshanravan/opt/anaconda3/lib/python3.7/site-packages/mne/filter.py:183: DeprecationWarning: `np.float` is a deprecated alias for the builtin `float`. To silence this warning, use `float` by itself. Doing this will not modify any behavior and is safe. If you specifically wanted the numpy scalar type, use `np.float64` here.\n",
      "Deprecated in NumPy 1.20; for more details and guidance: https://numpy.org/devdocs/release/1.20.0-notes.html#deprecations\n",
      "  N * (np.log2(N) + 1))\n",
      "/Users/shivaroshanravan/opt/anaconda3/lib/python3.7/site-packages/mne/io/pick.py:385: DeprecationWarning: `np.bool` is a deprecated alias for the builtin `bool`. To silence this warning, use `bool` by itself. Doing this will not modify any behavior and is safe. If you specifically wanted the numpy scalar type, use `np.bool_` here.\n",
      "Deprecated in NumPy 1.20; for more details and guidance: https://numpy.org/devdocs/release/1.20.0-notes.html#deprecations\n",
      "  pick = np.zeros(nchan, dtype=np.bool)\n"
     ]
    },
    {
     "name": "stdout",
     "output_type": "stream",
     "text": [
      "Filtering raw data in 1 contiguous segment\n",
      "Setting up band-pass filter from 4 - 38 Hz\n",
      "\n",
      "FIR filter parameters\n",
      "---------------------\n",
      "Designing a one-pass, zero-phase, non-causal bandpass filter:\n",
      "- Windowed time-domain design (firwin) method\n",
      "- Hamming window with 0.0194 passband ripple and 53 dB stopband attenuation\n",
      "- Lower passband edge: 4.00\n",
      "- Lower transition bandwidth: 2.00 Hz (-6 dB cutoff frequency: 3.00 Hz)\n",
      "- Upper passband edge: 38.00 Hz\n",
      "- Upper transition bandwidth: 9.50 Hz (-6 dB cutoff frequency: 42.75 Hz)\n",
      "- Filter length: 413 samples (1.652 sec)\n",
      "\n"
     ]
    },
    {
     "name": "stderr",
     "output_type": "stream",
     "text": [
      "/Users/shivaroshanravan/opt/anaconda3/lib/python3.7/site-packages/mne/io/pick.py:385: DeprecationWarning: `np.bool` is a deprecated alias for the builtin `bool`. To silence this warning, use `bool` by itself. Doing this will not modify any behavior and is safe. If you specifically wanted the numpy scalar type, use `np.bool_` here.\n",
      "Deprecated in NumPy 1.20; for more details and guidance: https://numpy.org/devdocs/release/1.20.0-notes.html#deprecations\n",
      "  pick = np.zeros(nchan, dtype=np.bool)\n",
      "/Users/shivaroshanravan/opt/anaconda3/lib/python3.7/site-packages/mne/io/pick.py:385: DeprecationWarning: `np.bool` is a deprecated alias for the builtin `bool`. To silence this warning, use `bool` by itself. Doing this will not modify any behavior and is safe. If you specifically wanted the numpy scalar type, use `np.bool_` here.\n",
      "Deprecated in NumPy 1.20; for more details and guidance: https://numpy.org/devdocs/release/1.20.0-notes.html#deprecations\n",
      "  pick = np.zeros(nchan, dtype=np.bool)\n",
      "/Users/shivaroshanravan/opt/anaconda3/lib/python3.7/site-packages/mne/io/pick.py:385: DeprecationWarning: `np.bool` is a deprecated alias for the builtin `bool`. To silence this warning, use `bool` by itself. Doing this will not modify any behavior and is safe. If you specifically wanted the numpy scalar type, use `np.bool_` here.\n",
      "Deprecated in NumPy 1.20; for more details and guidance: https://numpy.org/devdocs/release/1.20.0-notes.html#deprecations\n",
      "  pick = np.zeros(nchan, dtype=np.bool)\n",
      "/Users/shivaroshanravan/opt/anaconda3/lib/python3.7/site-packages/mne/io/pick.py:385: DeprecationWarning: `np.bool` is a deprecated alias for the builtin `bool`. To silence this warning, use `bool` by itself. Doing this will not modify any behavior and is safe. If you specifically wanted the numpy scalar type, use `np.bool_` here.\n",
      "Deprecated in NumPy 1.20; for more details and guidance: https://numpy.org/devdocs/release/1.20.0-notes.html#deprecations\n",
      "  pick = np.zeros(nchan, dtype=np.bool)\n",
      "/Users/shivaroshanravan/opt/anaconda3/lib/python3.7/site-packages/mne/filter.py:183: DeprecationWarning: `np.float` is a deprecated alias for the builtin `float`. To silence this warning, use `float` by itself. Doing this will not modify any behavior and is safe. If you specifically wanted the numpy scalar type, use `np.float64` here.\n",
      "Deprecated in NumPy 1.20; for more details and guidance: https://numpy.org/devdocs/release/1.20.0-notes.html#deprecations\n",
      "  N * (np.log2(N) + 1))\n",
      "/Users/shivaroshanravan/opt/anaconda3/lib/python3.7/site-packages/mne/io/pick.py:385: DeprecationWarning: `np.bool` is a deprecated alias for the builtin `bool`. To silence this warning, use `bool` by itself. Doing this will not modify any behavior and is safe. If you specifically wanted the numpy scalar type, use `np.bool_` here.\n",
      "Deprecated in NumPy 1.20; for more details and guidance: https://numpy.org/devdocs/release/1.20.0-notes.html#deprecations\n",
      "  pick = np.zeros(nchan, dtype=np.bool)\n"
     ]
    },
    {
     "name": "stdout",
     "output_type": "stream",
     "text": [
      "Filtering raw data in 1 contiguous segment\n",
      "Setting up band-pass filter from 4 - 38 Hz\n",
      "\n",
      "FIR filter parameters\n",
      "---------------------\n",
      "Designing a one-pass, zero-phase, non-causal bandpass filter:\n",
      "- Windowed time-domain design (firwin) method\n",
      "- Hamming window with 0.0194 passband ripple and 53 dB stopband attenuation\n",
      "- Lower passband edge: 4.00\n",
      "- Lower transition bandwidth: 2.00 Hz (-6 dB cutoff frequency: 3.00 Hz)\n",
      "- Upper passband edge: 38.00 Hz\n",
      "- Upper transition bandwidth: 9.50 Hz (-6 dB cutoff frequency: 42.75 Hz)\n",
      "- Filter length: 413 samples (1.652 sec)\n",
      "\n"
     ]
    },
    {
     "name": "stderr",
     "output_type": "stream",
     "text": [
      "/Users/shivaroshanravan/opt/anaconda3/lib/python3.7/site-packages/mne/io/pick.py:385: DeprecationWarning: `np.bool` is a deprecated alias for the builtin `bool`. To silence this warning, use `bool` by itself. Doing this will not modify any behavior and is safe. If you specifically wanted the numpy scalar type, use `np.bool_` here.\n",
      "Deprecated in NumPy 1.20; for more details and guidance: https://numpy.org/devdocs/release/1.20.0-notes.html#deprecations\n",
      "  pick = np.zeros(nchan, dtype=np.bool)\n",
      "/Users/shivaroshanravan/opt/anaconda3/lib/python3.7/site-packages/mne/io/pick.py:385: DeprecationWarning: `np.bool` is a deprecated alias for the builtin `bool`. To silence this warning, use `bool` by itself. Doing this will not modify any behavior and is safe. If you specifically wanted the numpy scalar type, use `np.bool_` here.\n",
      "Deprecated in NumPy 1.20; for more details and guidance: https://numpy.org/devdocs/release/1.20.0-notes.html#deprecations\n",
      "  pick = np.zeros(nchan, dtype=np.bool)\n",
      "/Users/shivaroshanravan/opt/anaconda3/lib/python3.7/site-packages/mne/io/pick.py:385: DeprecationWarning: `np.bool` is a deprecated alias for the builtin `bool`. To silence this warning, use `bool` by itself. Doing this will not modify any behavior and is safe. If you specifically wanted the numpy scalar type, use `np.bool_` here.\n",
      "Deprecated in NumPy 1.20; for more details and guidance: https://numpy.org/devdocs/release/1.20.0-notes.html#deprecations\n",
      "  pick = np.zeros(nchan, dtype=np.bool)\n",
      "/Users/shivaroshanravan/opt/anaconda3/lib/python3.7/site-packages/mne/io/pick.py:385: DeprecationWarning: `np.bool` is a deprecated alias for the builtin `bool`. To silence this warning, use `bool` by itself. Doing this will not modify any behavior and is safe. If you specifically wanted the numpy scalar type, use `np.bool_` here.\n",
      "Deprecated in NumPy 1.20; for more details and guidance: https://numpy.org/devdocs/release/1.20.0-notes.html#deprecations\n",
      "  pick = np.zeros(nchan, dtype=np.bool)\n",
      "/Users/shivaroshanravan/opt/anaconda3/lib/python3.7/site-packages/mne/filter.py:183: DeprecationWarning: `np.float` is a deprecated alias for the builtin `float`. To silence this warning, use `float` by itself. Doing this will not modify any behavior and is safe. If you specifically wanted the numpy scalar type, use `np.float64` here.\n",
      "Deprecated in NumPy 1.20; for more details and guidance: https://numpy.org/devdocs/release/1.20.0-notes.html#deprecations\n",
      "  N * (np.log2(N) + 1))\n",
      "/Users/shivaroshanravan/opt/anaconda3/lib/python3.7/site-packages/mne/io/pick.py:385: DeprecationWarning: `np.bool` is a deprecated alias for the builtin `bool`. To silence this warning, use `bool` by itself. Doing this will not modify any behavior and is safe. If you specifically wanted the numpy scalar type, use `np.bool_` here.\n",
      "Deprecated in NumPy 1.20; for more details and guidance: https://numpy.org/devdocs/release/1.20.0-notes.html#deprecations\n",
      "  pick = np.zeros(nchan, dtype=np.bool)\n"
     ]
    },
    {
     "name": "stdout",
     "output_type": "stream",
     "text": [
      "Filtering raw data in 1 contiguous segment\n",
      "Setting up band-pass filter from 4 - 38 Hz\n",
      "\n",
      "FIR filter parameters\n",
      "---------------------\n",
      "Designing a one-pass, zero-phase, non-causal bandpass filter:\n",
      "- Windowed time-domain design (firwin) method\n",
      "- Hamming window with 0.0194 passband ripple and 53 dB stopband attenuation\n",
      "- Lower passband edge: 4.00\n",
      "- Lower transition bandwidth: 2.00 Hz (-6 dB cutoff frequency: 3.00 Hz)\n",
      "- Upper passband edge: 38.00 Hz\n",
      "- Upper transition bandwidth: 9.50 Hz (-6 dB cutoff frequency: 42.75 Hz)\n",
      "- Filter length: 413 samples (1.652 sec)\n",
      "\n"
     ]
    },
    {
     "name": "stderr",
     "output_type": "stream",
     "text": [
      "/Users/shivaroshanravan/opt/anaconda3/lib/python3.7/site-packages/mne/io/pick.py:385: DeprecationWarning: `np.bool` is a deprecated alias for the builtin `bool`. To silence this warning, use `bool` by itself. Doing this will not modify any behavior and is safe. If you specifically wanted the numpy scalar type, use `np.bool_` here.\n",
      "Deprecated in NumPy 1.20; for more details and guidance: https://numpy.org/devdocs/release/1.20.0-notes.html#deprecations\n",
      "  pick = np.zeros(nchan, dtype=np.bool)\n",
      "/Users/shivaroshanravan/opt/anaconda3/lib/python3.7/site-packages/mne/io/pick.py:385: DeprecationWarning: `np.bool` is a deprecated alias for the builtin `bool`. To silence this warning, use `bool` by itself. Doing this will not modify any behavior and is safe. If you specifically wanted the numpy scalar type, use `np.bool_` here.\n",
      "Deprecated in NumPy 1.20; for more details and guidance: https://numpy.org/devdocs/release/1.20.0-notes.html#deprecations\n",
      "  pick = np.zeros(nchan, dtype=np.bool)\n",
      "/Users/shivaroshanravan/opt/anaconda3/lib/python3.7/site-packages/mne/io/pick.py:385: DeprecationWarning: `np.bool` is a deprecated alias for the builtin `bool`. To silence this warning, use `bool` by itself. Doing this will not modify any behavior and is safe. If you specifically wanted the numpy scalar type, use `np.bool_` here.\n",
      "Deprecated in NumPy 1.20; for more details and guidance: https://numpy.org/devdocs/release/1.20.0-notes.html#deprecations\n",
      "  pick = np.zeros(nchan, dtype=np.bool)\n",
      "/Users/shivaroshanravan/opt/anaconda3/lib/python3.7/site-packages/mne/io/pick.py:385: DeprecationWarning: `np.bool` is a deprecated alias for the builtin `bool`. To silence this warning, use `bool` by itself. Doing this will not modify any behavior and is safe. If you specifically wanted the numpy scalar type, use `np.bool_` here.\n",
      "Deprecated in NumPy 1.20; for more details and guidance: https://numpy.org/devdocs/release/1.20.0-notes.html#deprecations\n",
      "  pick = np.zeros(nchan, dtype=np.bool)\n",
      "/Users/shivaroshanravan/opt/anaconda3/lib/python3.7/site-packages/mne/filter.py:183: DeprecationWarning: `np.float` is a deprecated alias for the builtin `float`. To silence this warning, use `float` by itself. Doing this will not modify any behavior and is safe. If you specifically wanted the numpy scalar type, use `np.float64` here.\n",
      "Deprecated in NumPy 1.20; for more details and guidance: https://numpy.org/devdocs/release/1.20.0-notes.html#deprecations\n",
      "  N * (np.log2(N) + 1))\n",
      "/Users/shivaroshanravan/opt/anaconda3/lib/python3.7/site-packages/mne/io/pick.py:385: DeprecationWarning: `np.bool` is a deprecated alias for the builtin `bool`. To silence this warning, use `bool` by itself. Doing this will not modify any behavior and is safe. If you specifically wanted the numpy scalar type, use `np.bool_` here.\n",
      "Deprecated in NumPy 1.20; for more details and guidance: https://numpy.org/devdocs/release/1.20.0-notes.html#deprecations\n",
      "  pick = np.zeros(nchan, dtype=np.bool)\n"
     ]
    },
    {
     "name": "stdout",
     "output_type": "stream",
     "text": [
      "Filtering raw data in 1 contiguous segment\n",
      "Setting up band-pass filter from 4 - 38 Hz\n",
      "\n",
      "FIR filter parameters\n",
      "---------------------\n",
      "Designing a one-pass, zero-phase, non-causal bandpass filter:\n",
      "- Windowed time-domain design (firwin) method\n",
      "- Hamming window with 0.0194 passband ripple and 53 dB stopband attenuation\n",
      "- Lower passband edge: 4.00\n",
      "- Lower transition bandwidth: 2.00 Hz (-6 dB cutoff frequency: 3.00 Hz)\n",
      "- Upper passband edge: 38.00 Hz\n",
      "- Upper transition bandwidth: 9.50 Hz (-6 dB cutoff frequency: 42.75 Hz)\n",
      "- Filter length: 413 samples (1.652 sec)\n",
      "\n"
     ]
    },
    {
     "name": "stderr",
     "output_type": "stream",
     "text": [
      "/Users/shivaroshanravan/opt/anaconda3/lib/python3.7/site-packages/mne/io/pick.py:385: DeprecationWarning: `np.bool` is a deprecated alias for the builtin `bool`. To silence this warning, use `bool` by itself. Doing this will not modify any behavior and is safe. If you specifically wanted the numpy scalar type, use `np.bool_` here.\n",
      "Deprecated in NumPy 1.20; for more details and guidance: https://numpy.org/devdocs/release/1.20.0-notes.html#deprecations\n",
      "  pick = np.zeros(nchan, dtype=np.bool)\n",
      "/Users/shivaroshanravan/opt/anaconda3/lib/python3.7/site-packages/mne/io/pick.py:385: DeprecationWarning: `np.bool` is a deprecated alias for the builtin `bool`. To silence this warning, use `bool` by itself. Doing this will not modify any behavior and is safe. If you specifically wanted the numpy scalar type, use `np.bool_` here.\n",
      "Deprecated in NumPy 1.20; for more details and guidance: https://numpy.org/devdocs/release/1.20.0-notes.html#deprecations\n",
      "  pick = np.zeros(nchan, dtype=np.bool)\n",
      "/Users/shivaroshanravan/opt/anaconda3/lib/python3.7/site-packages/mne/io/pick.py:385: DeprecationWarning: `np.bool` is a deprecated alias for the builtin `bool`. To silence this warning, use `bool` by itself. Doing this will not modify any behavior and is safe. If you specifically wanted the numpy scalar type, use `np.bool_` here.\n",
      "Deprecated in NumPy 1.20; for more details and guidance: https://numpy.org/devdocs/release/1.20.0-notes.html#deprecations\n",
      "  pick = np.zeros(nchan, dtype=np.bool)\n",
      "/Users/shivaroshanravan/opt/anaconda3/lib/python3.7/site-packages/mne/io/pick.py:385: DeprecationWarning: `np.bool` is a deprecated alias for the builtin `bool`. To silence this warning, use `bool` by itself. Doing this will not modify any behavior and is safe. If you specifically wanted the numpy scalar type, use `np.bool_` here.\n",
      "Deprecated in NumPy 1.20; for more details and guidance: https://numpy.org/devdocs/release/1.20.0-notes.html#deprecations\n",
      "  pick = np.zeros(nchan, dtype=np.bool)\n",
      "/Users/shivaroshanravan/opt/anaconda3/lib/python3.7/site-packages/mne/filter.py:183: DeprecationWarning: `np.float` is a deprecated alias for the builtin `float`. To silence this warning, use `float` by itself. Doing this will not modify any behavior and is safe. If you specifically wanted the numpy scalar type, use `np.float64` here.\n",
      "Deprecated in NumPy 1.20; for more details and guidance: https://numpy.org/devdocs/release/1.20.0-notes.html#deprecations\n",
      "  N * (np.log2(N) + 1))\n",
      "/Users/shivaroshanravan/opt/anaconda3/lib/python3.7/site-packages/mne/io/pick.py:385: DeprecationWarning: `np.bool` is a deprecated alias for the builtin `bool`. To silence this warning, use `bool` by itself. Doing this will not modify any behavior and is safe. If you specifically wanted the numpy scalar type, use `np.bool_` here.\n",
      "Deprecated in NumPy 1.20; for more details and guidance: https://numpy.org/devdocs/release/1.20.0-notes.html#deprecations\n",
      "  pick = np.zeros(nchan, dtype=np.bool)\n"
     ]
    },
    {
     "name": "stdout",
     "output_type": "stream",
     "text": [
      "Filtering raw data in 1 contiguous segment\n",
      "Setting up band-pass filter from 4 - 38 Hz\n",
      "\n",
      "FIR filter parameters\n",
      "---------------------\n",
      "Designing a one-pass, zero-phase, non-causal bandpass filter:\n",
      "- Windowed time-domain design (firwin) method\n",
      "- Hamming window with 0.0194 passband ripple and 53 dB stopband attenuation\n",
      "- Lower passband edge: 4.00\n",
      "- Lower transition bandwidth: 2.00 Hz (-6 dB cutoff frequency: 3.00 Hz)\n",
      "- Upper passband edge: 38.00 Hz\n",
      "- Upper transition bandwidth: 9.50 Hz (-6 dB cutoff frequency: 42.75 Hz)\n",
      "- Filter length: 413 samples (1.652 sec)\n",
      "\n"
     ]
    },
    {
     "name": "stderr",
     "output_type": "stream",
     "text": [
      "/Users/shivaroshanravan/opt/anaconda3/lib/python3.7/site-packages/mne/io/pick.py:385: DeprecationWarning: `np.bool` is a deprecated alias for the builtin `bool`. To silence this warning, use `bool` by itself. Doing this will not modify any behavior and is safe. If you specifically wanted the numpy scalar type, use `np.bool_` here.\n",
      "Deprecated in NumPy 1.20; for more details and guidance: https://numpy.org/devdocs/release/1.20.0-notes.html#deprecations\n",
      "  pick = np.zeros(nchan, dtype=np.bool)\n",
      "/Users/shivaroshanravan/opt/anaconda3/lib/python3.7/site-packages/mne/io/pick.py:385: DeprecationWarning: `np.bool` is a deprecated alias for the builtin `bool`. To silence this warning, use `bool` by itself. Doing this will not modify any behavior and is safe. If you specifically wanted the numpy scalar type, use `np.bool_` here.\n",
      "Deprecated in NumPy 1.20; for more details and guidance: https://numpy.org/devdocs/release/1.20.0-notes.html#deprecations\n",
      "  pick = np.zeros(nchan, dtype=np.bool)\n",
      "/Users/shivaroshanravan/opt/anaconda3/lib/python3.7/site-packages/mne/io/pick.py:385: DeprecationWarning: `np.bool` is a deprecated alias for the builtin `bool`. To silence this warning, use `bool` by itself. Doing this will not modify any behavior and is safe. If you specifically wanted the numpy scalar type, use `np.bool_` here.\n",
      "Deprecated in NumPy 1.20; for more details and guidance: https://numpy.org/devdocs/release/1.20.0-notes.html#deprecations\n",
      "  pick = np.zeros(nchan, dtype=np.bool)\n",
      "/Users/shivaroshanravan/opt/anaconda3/lib/python3.7/site-packages/mne/io/pick.py:385: DeprecationWarning: `np.bool` is a deprecated alias for the builtin `bool`. To silence this warning, use `bool` by itself. Doing this will not modify any behavior and is safe. If you specifically wanted the numpy scalar type, use `np.bool_` here.\n",
      "Deprecated in NumPy 1.20; for more details and guidance: https://numpy.org/devdocs/release/1.20.0-notes.html#deprecations\n",
      "  pick = np.zeros(nchan, dtype=np.bool)\n",
      "/Users/shivaroshanravan/opt/anaconda3/lib/python3.7/site-packages/mne/filter.py:183: DeprecationWarning: `np.float` is a deprecated alias for the builtin `float`. To silence this warning, use `float` by itself. Doing this will not modify any behavior and is safe. If you specifically wanted the numpy scalar type, use `np.float64` here.\n",
      "Deprecated in NumPy 1.20; for more details and guidance: https://numpy.org/devdocs/release/1.20.0-notes.html#deprecations\n",
      "  N * (np.log2(N) + 1))\n",
      "/Users/shivaroshanravan/opt/anaconda3/lib/python3.7/site-packages/mne/io/pick.py:385: DeprecationWarning: `np.bool` is a deprecated alias for the builtin `bool`. To silence this warning, use `bool` by itself. Doing this will not modify any behavior and is safe. If you specifically wanted the numpy scalar type, use `np.bool_` here.\n",
      "Deprecated in NumPy 1.20; for more details and guidance: https://numpy.org/devdocs/release/1.20.0-notes.html#deprecations\n",
      "  pick = np.zeros(nchan, dtype=np.bool)\n"
     ]
    },
    {
     "name": "stdout",
     "output_type": "stream",
     "text": [
      "Filtering raw data in 1 contiguous segment\n",
      "Setting up band-pass filter from 4 - 38 Hz\n",
      "\n",
      "FIR filter parameters\n",
      "---------------------\n",
      "Designing a one-pass, zero-phase, non-causal bandpass filter:\n",
      "- Windowed time-domain design (firwin) method\n",
      "- Hamming window with 0.0194 passband ripple and 53 dB stopband attenuation\n",
      "- Lower passband edge: 4.00\n",
      "- Lower transition bandwidth: 2.00 Hz (-6 dB cutoff frequency: 3.00 Hz)\n",
      "- Upper passband edge: 38.00 Hz\n",
      "- Upper transition bandwidth: 9.50 Hz (-6 dB cutoff frequency: 42.75 Hz)\n",
      "- Filter length: 413 samples (1.652 sec)\n",
      "\n"
     ]
    },
    {
     "name": "stderr",
     "output_type": "stream",
     "text": [
      "/Users/shivaroshanravan/opt/anaconda3/lib/python3.7/site-packages/mne/io/pick.py:385: DeprecationWarning: `np.bool` is a deprecated alias for the builtin `bool`. To silence this warning, use `bool` by itself. Doing this will not modify any behavior and is safe. If you specifically wanted the numpy scalar type, use `np.bool_` here.\n",
      "Deprecated in NumPy 1.20; for more details and guidance: https://numpy.org/devdocs/release/1.20.0-notes.html#deprecations\n",
      "  pick = np.zeros(nchan, dtype=np.bool)\n",
      "/Users/shivaroshanravan/opt/anaconda3/lib/python3.7/site-packages/mne/io/pick.py:385: DeprecationWarning: `np.bool` is a deprecated alias for the builtin `bool`. To silence this warning, use `bool` by itself. Doing this will not modify any behavior and is safe. If you specifically wanted the numpy scalar type, use `np.bool_` here.\n",
      "Deprecated in NumPy 1.20; for more details and guidance: https://numpy.org/devdocs/release/1.20.0-notes.html#deprecations\n",
      "  pick = np.zeros(nchan, dtype=np.bool)\n",
      "/Users/shivaroshanravan/opt/anaconda3/lib/python3.7/site-packages/mne/io/pick.py:385: DeprecationWarning: `np.bool` is a deprecated alias for the builtin `bool`. To silence this warning, use `bool` by itself. Doing this will not modify any behavior and is safe. If you specifically wanted the numpy scalar type, use `np.bool_` here.\n",
      "Deprecated in NumPy 1.20; for more details and guidance: https://numpy.org/devdocs/release/1.20.0-notes.html#deprecations\n",
      "  pick = np.zeros(nchan, dtype=np.bool)\n",
      "/Users/shivaroshanravan/opt/anaconda3/lib/python3.7/site-packages/mne/io/pick.py:385: DeprecationWarning: `np.bool` is a deprecated alias for the builtin `bool`. To silence this warning, use `bool` by itself. Doing this will not modify any behavior and is safe. If you specifically wanted the numpy scalar type, use `np.bool_` here.\n",
      "Deprecated in NumPy 1.20; for more details and guidance: https://numpy.org/devdocs/release/1.20.0-notes.html#deprecations\n",
      "  pick = np.zeros(nchan, dtype=np.bool)\n",
      "/Users/shivaroshanravan/opt/anaconda3/lib/python3.7/site-packages/mne/filter.py:183: DeprecationWarning: `np.float` is a deprecated alias for the builtin `float`. To silence this warning, use `float` by itself. Doing this will not modify any behavior and is safe. If you specifically wanted the numpy scalar type, use `np.float64` here.\n",
      "Deprecated in NumPy 1.20; for more details and guidance: https://numpy.org/devdocs/release/1.20.0-notes.html#deprecations\n",
      "  N * (np.log2(N) + 1))\n",
      "/Users/shivaroshanravan/opt/anaconda3/lib/python3.7/site-packages/mne/io/pick.py:385: DeprecationWarning: `np.bool` is a deprecated alias for the builtin `bool`. To silence this warning, use `bool` by itself. Doing this will not modify any behavior and is safe. If you specifically wanted the numpy scalar type, use `np.bool_` here.\n",
      "Deprecated in NumPy 1.20; for more details and guidance: https://numpy.org/devdocs/release/1.20.0-notes.html#deprecations\n",
      "  pick = np.zeros(nchan, dtype=np.bool)\n"
     ]
    },
    {
     "name": "stdout",
     "output_type": "stream",
     "text": [
      "Filtering raw data in 1 contiguous segment\n",
      "Setting up band-pass filter from 4 - 38 Hz\n",
      "\n",
      "FIR filter parameters\n",
      "---------------------\n",
      "Designing a one-pass, zero-phase, non-causal bandpass filter:\n",
      "- Windowed time-domain design (firwin) method\n",
      "- Hamming window with 0.0194 passband ripple and 53 dB stopband attenuation\n",
      "- Lower passband edge: 4.00\n",
      "- Lower transition bandwidth: 2.00 Hz (-6 dB cutoff frequency: 3.00 Hz)\n",
      "- Upper passband edge: 38.00 Hz\n",
      "- Upper transition bandwidth: 9.50 Hz (-6 dB cutoff frequency: 42.75 Hz)\n",
      "- Filter length: 413 samples (1.652 sec)\n",
      "\n"
     ]
    },
    {
     "name": "stderr",
     "output_type": "stream",
     "text": [
      "/Users/shivaroshanravan/opt/anaconda3/lib/python3.7/site-packages/mne/io/pick.py:385: DeprecationWarning: `np.bool` is a deprecated alias for the builtin `bool`. To silence this warning, use `bool` by itself. Doing this will not modify any behavior and is safe. If you specifically wanted the numpy scalar type, use `np.bool_` here.\n",
      "Deprecated in NumPy 1.20; for more details and guidance: https://numpy.org/devdocs/release/1.20.0-notes.html#deprecations\n",
      "  pick = np.zeros(nchan, dtype=np.bool)\n",
      "/Users/shivaroshanravan/opt/anaconda3/lib/python3.7/site-packages/mne/io/pick.py:385: DeprecationWarning: `np.bool` is a deprecated alias for the builtin `bool`. To silence this warning, use `bool` by itself. Doing this will not modify any behavior and is safe. If you specifically wanted the numpy scalar type, use `np.bool_` here.\n",
      "Deprecated in NumPy 1.20; for more details and guidance: https://numpy.org/devdocs/release/1.20.0-notes.html#deprecations\n",
      "  pick = np.zeros(nchan, dtype=np.bool)\n",
      "/Users/shivaroshanravan/opt/anaconda3/lib/python3.7/site-packages/mne/io/pick.py:385: DeprecationWarning: `np.bool` is a deprecated alias for the builtin `bool`. To silence this warning, use `bool` by itself. Doing this will not modify any behavior and is safe. If you specifically wanted the numpy scalar type, use `np.bool_` here.\n",
      "Deprecated in NumPy 1.20; for more details and guidance: https://numpy.org/devdocs/release/1.20.0-notes.html#deprecations\n",
      "  pick = np.zeros(nchan, dtype=np.bool)\n",
      "/Users/shivaroshanravan/opt/anaconda3/lib/python3.7/site-packages/mne/io/pick.py:385: DeprecationWarning: `np.bool` is a deprecated alias for the builtin `bool`. To silence this warning, use `bool` by itself. Doing this will not modify any behavior and is safe. If you specifically wanted the numpy scalar type, use `np.bool_` here.\n",
      "Deprecated in NumPy 1.20; for more details and guidance: https://numpy.org/devdocs/release/1.20.0-notes.html#deprecations\n",
      "  pick = np.zeros(nchan, dtype=np.bool)\n",
      "/Users/shivaroshanravan/opt/anaconda3/lib/python3.7/site-packages/mne/filter.py:183: DeprecationWarning: `np.float` is a deprecated alias for the builtin `float`. To silence this warning, use `float` by itself. Doing this will not modify any behavior and is safe. If you specifically wanted the numpy scalar type, use `np.float64` here.\n",
      "Deprecated in NumPy 1.20; for more details and guidance: https://numpy.org/devdocs/release/1.20.0-notes.html#deprecations\n",
      "  N * (np.log2(N) + 1))\n",
      "/Users/shivaroshanravan/opt/anaconda3/lib/python3.7/site-packages/mne/io/pick.py:385: DeprecationWarning: `np.bool` is a deprecated alias for the builtin `bool`. To silence this warning, use `bool` by itself. Doing this will not modify any behavior and is safe. If you specifically wanted the numpy scalar type, use `np.bool_` here.\n",
      "Deprecated in NumPy 1.20; for more details and guidance: https://numpy.org/devdocs/release/1.20.0-notes.html#deprecations\n",
      "  pick = np.zeros(nchan, dtype=np.bool)\n"
     ]
    }
   ],
   "source": [
    "from braindecode.datautil.preprocess import (\n",
    "    exponential_moving_standardize, preprocess, Preprocessor)\n",
    "\n",
    "low_cut_hz = 4.  # low cut frequency for filtering\n",
    "high_cut_hz = 38.  # high cut frequency for filtering\n",
    "# Parameters for exponential moving standardization\n",
    "factor_new = 1e-3\n",
    "init_block_size = 1000\n",
    "\n",
    "preprocessors = [\n",
    "    Preprocessor('pick_types', eeg=True, meg=False, stim=False),  # Keep EEG sensors\n",
    "    Preprocessor(lambda x: x * 1e6),  # Convert from V to uV\n",
    "    Preprocessor('filter', l_freq=low_cut_hz, h_freq=high_cut_hz),  # Bandpass filter\n",
    "    Preprocessor(exponential_moving_standardize,  # Exponential moving standardization\n",
    "                 factor_new=factor_new, init_block_size=init_block_size)\n",
    "]\n",
    "\n",
    "# Transform the data\n",
    "\n",
    "preprocess(dataset, preprocessors)"
   ]
  },
  {
   "cell_type": "markdown",
   "metadata": {},
   "source": [
    "## mkdir path to save"
   ]
  },
  {
   "cell_type": "code",
   "execution_count": 14,
   "metadata": {},
   "outputs": [],
   "source": [
    "import os\n",
    "path = os.path.join('../../data-file/bnci-raw/' + str(subject_id))\n",
    "if not os.path.exists(path):\n",
    "    os.makedirs(path)"
   ]
  },
  {
   "cell_type": "markdown",
   "metadata": {
    "id": "ZGUfx-IenwuI"
   },
   "source": [
    "## save sets"
   ]
  },
  {
   "cell_type": "code",
   "execution_count": 15,
   "metadata": {
    "colab": {
     "base_uri": "https://localhost:8080/"
    },
    "executionInfo": {
     "elapsed": 16888,
     "status": "ok",
     "timestamp": 1623774958392,
     "user": {
      "displayName": "shiva Roshan raven",
      "photoUrl": "",
      "userId": "03552922279107123066"
     },
     "user_tz": -270
    },
    "id": "4iscSzw6nzjD",
    "outputId": "090eb0bd-0b85-457d-dcdc-d857a5d0d857"
   },
   "outputs": [
    {
     "name": "stdout",
     "output_type": "stream",
     "text": [
      "Writing /Users/shivaroshanravan/Documents/GitHub/MotorImagery-Classification/data-file/bnci-raw/1/0-raw.fif\n",
      "Closing /Users/shivaroshanravan/Documents/GitHub/MotorImagery-Classification/data-file/bnci-raw/1/0-raw.fif [done]\n",
      "Writing /Users/shivaroshanravan/Documents/GitHub/MotorImagery-Classification/data-file/bnci-raw/1/1-raw.fif\n",
      "Closing /Users/shivaroshanravan/Documents/GitHub/MotorImagery-Classification/data-file/bnci-raw/1/1-raw.fif [done]\n",
      "Writing /Users/shivaroshanravan/Documents/GitHub/MotorImagery-Classification/data-file/bnci-raw/1/2-raw.fif\n",
      "Closing /Users/shivaroshanravan/Documents/GitHub/MotorImagery-Classification/data-file/bnci-raw/1/2-raw.fif [done]\n",
      "Writing /Users/shivaroshanravan/Documents/GitHub/MotorImagery-Classification/data-file/bnci-raw/1/3-raw.fif\n",
      "Closing /Users/shivaroshanravan/Documents/GitHub/MotorImagery-Classification/data-file/bnci-raw/1/3-raw.fif [done]\n",
      "Writing /Users/shivaroshanravan/Documents/GitHub/MotorImagery-Classification/data-file/bnci-raw/1/4-raw.fif\n",
      "Closing /Users/shivaroshanravan/Documents/GitHub/MotorImagery-Classification/data-file/bnci-raw/1/4-raw.fif [done]\n",
      "Writing /Users/shivaroshanravan/Documents/GitHub/MotorImagery-Classification/data-file/bnci-raw/1/5-raw.fif\n",
      "Closing /Users/shivaroshanravan/Documents/GitHub/MotorImagery-Classification/data-file/bnci-raw/1/5-raw.fif [done]\n",
      "Writing /Users/shivaroshanravan/Documents/GitHub/MotorImagery-Classification/data-file/bnci-raw/1/6-raw.fif\n",
      "Closing /Users/shivaroshanravan/Documents/GitHub/MotorImagery-Classification/data-file/bnci-raw/1/6-raw.fif [done]\n",
      "Writing /Users/shivaroshanravan/Documents/GitHub/MotorImagery-Classification/data-file/bnci-raw/1/7-raw.fif\n",
      "Closing /Users/shivaroshanravan/Documents/GitHub/MotorImagery-Classification/data-file/bnci-raw/1/7-raw.fif [done]\n",
      "Writing /Users/shivaroshanravan/Documents/GitHub/MotorImagery-Classification/data-file/bnci-raw/1/8-raw.fif\n",
      "Closing /Users/shivaroshanravan/Documents/GitHub/MotorImagery-Classification/data-file/bnci-raw/1/8-raw.fif [done]\n",
      "Writing /Users/shivaroshanravan/Documents/GitHub/MotorImagery-Classification/data-file/bnci-raw/1/9-raw.fif\n",
      "Closing /Users/shivaroshanravan/Documents/GitHub/MotorImagery-Classification/data-file/bnci-raw/1/9-raw.fif [done]\n",
      "Writing /Users/shivaroshanravan/Documents/GitHub/MotorImagery-Classification/data-file/bnci-raw/1/10-raw.fif\n",
      "Closing /Users/shivaroshanravan/Documents/GitHub/MotorImagery-Classification/data-file/bnci-raw/1/10-raw.fif [done]\n",
      "Writing /Users/shivaroshanravan/Documents/GitHub/MotorImagery-Classification/data-file/bnci-raw/1/11-raw.fif\n",
      "Closing /Users/shivaroshanravan/Documents/GitHub/MotorImagery-Classification/data-file/bnci-raw/1/11-raw.fif [done]\n"
     ]
    }
   ],
   "source": [
    "dataset.save(path='../../data-file/bnci-raw/' + str(subject_id))"
   ]
  },
  {
   "cell_type": "code",
   "execution_count": null,
   "metadata": {},
   "outputs": [],
   "source": []
  }
 ],
 "metadata": {
  "accelerator": "GPU",
  "colab": {
   "authorship_tag": "ABX9TyNWTFBoysYAbZStwwXwv9X3",
   "collapsed_sections": [],
   "mount_file_id": "168LmZLUrtJdRz1-0bDrSDF4TrIpalNNh",
   "name": "bnci-preproccess.ipynb",
   "provenance": []
  },
  "kernelspec": {
   "display_name": "Python 3",
   "language": "python",
   "name": "python3"
  },
  "language_info": {
   "codemirror_mode": {
    "name": "ipython",
    "version": 3
   },
   "file_extension": ".py",
   "mimetype": "text/x-python",
   "name": "python",
   "nbconvert_exporter": "python",
   "pygments_lexer": "ipython3",
   "version": "3.7.6"
  }
 },
 "nbformat": 4,
 "nbformat_minor": 1
}
